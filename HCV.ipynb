{
 "cells": [
  {
   "cell_type": "code",
   "execution_count": null,
   "metadata": {
    "colab": {
     "base_uri": "https://localhost:8080/"
    },
    "id": "8SV3RagwNvcl",
    "outputId": "a474e41f-6428-4180-9a91-06a629d943ba"
   },
   "outputs": [
    {
     "name": "stdout",
     "output_type": "stream",
     "text": [
      "Looking in indexes: https://pypi.org/simple, https://us-python.pkg.dev/colab-wheels/public/simple/\n",
      "Requirement already satisfied: tensorflow in /usr/local/lib/python3.8/dist-packages (2.11.0)\n",
      "Requirement already satisfied: h5py>=2.9.0 in /usr/local/lib/python3.8/dist-packages (from tensorflow) (3.1.0)\n",
      "Requirement already satisfied: tensorboard<2.12,>=2.11 in /usr/local/lib/python3.8/dist-packages (from tensorflow) (2.11.2)\n",
      "Requirement already satisfied: flatbuffers>=2.0 in /usr/local/lib/python3.8/dist-packages (from tensorflow) (23.1.21)\n",
      "Requirement already satisfied: grpcio<2.0,>=1.24.3 in /usr/local/lib/python3.8/dist-packages (from tensorflow) (1.51.1)\n",
      "Requirement already satisfied: google-pasta>=0.1.1 in /usr/local/lib/python3.8/dist-packages (from tensorflow) (0.2.0)\n",
      "Requirement already satisfied: protobuf<3.20,>=3.9.2 in /usr/local/lib/python3.8/dist-packages (from tensorflow) (3.19.6)\n",
      "Requirement already satisfied: numpy>=1.20 in /usr/local/lib/python3.8/dist-packages (from tensorflow) (1.21.6)\n",
      "Requirement already satisfied: typing-extensions>=3.6.6 in /usr/local/lib/python3.8/dist-packages (from tensorflow) (4.5.0)\n",
      "Requirement already satisfied: gast<=0.4.0,>=0.2.1 in /usr/local/lib/python3.8/dist-packages (from tensorflow) (0.4.0)\n",
      "Requirement already satisfied: six>=1.12.0 in /usr/local/lib/python3.8/dist-packages (from tensorflow) (1.15.0)\n",
      "Requirement already satisfied: tensorflow-estimator<2.12,>=2.11.0 in /usr/local/lib/python3.8/dist-packages (from tensorflow) (2.11.0)\n",
      "Requirement already satisfied: astunparse>=1.6.0 in /usr/local/lib/python3.8/dist-packages (from tensorflow) (1.6.3)\n",
      "Requirement already satisfied: packaging in /usr/local/lib/python3.8/dist-packages (from tensorflow) (23.0)\n",
      "Requirement already satisfied: setuptools in /usr/local/lib/python3.8/dist-packages (from tensorflow) (57.4.0)\n",
      "Requirement already satisfied: keras<2.12,>=2.11.0 in /usr/local/lib/python3.8/dist-packages (from tensorflow) (2.11.0)\n",
      "Requirement already satisfied: absl-py>=1.0.0 in /usr/local/lib/python3.8/dist-packages (from tensorflow) (1.4.0)\n",
      "Requirement already satisfied: libclang>=13.0.0 in /usr/local/lib/python3.8/dist-packages (from tensorflow) (15.0.6.1)\n",
      "Requirement already satisfied: wrapt>=1.11.0 in /usr/local/lib/python3.8/dist-packages (from tensorflow) (1.14.1)\n",
      "Requirement already satisfied: termcolor>=1.1.0 in /usr/local/lib/python3.8/dist-packages (from tensorflow) (2.2.0)\n",
      "Requirement already satisfied: tensorflow-io-gcs-filesystem>=0.23.1 in /usr/local/lib/python3.8/dist-packages (from tensorflow) (0.30.0)\n",
      "Requirement already satisfied: opt-einsum>=2.3.2 in /usr/local/lib/python3.8/dist-packages (from tensorflow) (3.3.0)\n",
      "Requirement already satisfied: wheel<1.0,>=0.23.0 in /usr/local/lib/python3.8/dist-packages (from astunparse>=1.6.0->tensorflow) (0.38.4)\n",
      "Requirement already satisfied: google-auth<3,>=1.6.3 in /usr/local/lib/python3.8/dist-packages (from tensorboard<2.12,>=2.11->tensorflow) (2.16.0)\n",
      "Requirement already satisfied: tensorboard-data-server<0.7.0,>=0.6.0 in /usr/local/lib/python3.8/dist-packages (from tensorboard<2.12,>=2.11->tensorflow) (0.6.1)\n",
      "Requirement already satisfied: markdown>=2.6.8 in /usr/local/lib/python3.8/dist-packages (from tensorboard<2.12,>=2.11->tensorflow) (3.4.1)\n",
      "Requirement already satisfied: tensorboard-plugin-wit>=1.6.0 in /usr/local/lib/python3.8/dist-packages (from tensorboard<2.12,>=2.11->tensorflow) (1.8.1)\n",
      "Requirement already satisfied: requests<3,>=2.21.0 in /usr/local/lib/python3.8/dist-packages (from tensorboard<2.12,>=2.11->tensorflow) (2.25.1)\n",
      "Requirement already satisfied: werkzeug>=1.0.1 in /usr/local/lib/python3.8/dist-packages (from tensorboard<2.12,>=2.11->tensorflow) (1.0.1)\n",
      "Requirement already satisfied: google-auth-oauthlib<0.5,>=0.4.1 in /usr/local/lib/python3.8/dist-packages (from tensorboard<2.12,>=2.11->tensorflow) (0.4.6)\n",
      "Requirement already satisfied: rsa<5,>=3.1.4 in /usr/local/lib/python3.8/dist-packages (from google-auth<3,>=1.6.3->tensorboard<2.12,>=2.11->tensorflow) (4.9)\n",
      "Requirement already satisfied: pyasn1-modules>=0.2.1 in /usr/local/lib/python3.8/dist-packages (from google-auth<3,>=1.6.3->tensorboard<2.12,>=2.11->tensorflow) (0.2.8)\n",
      "Requirement already satisfied: cachetools<6.0,>=2.0.0 in /usr/local/lib/python3.8/dist-packages (from google-auth<3,>=1.6.3->tensorboard<2.12,>=2.11->tensorflow) (5.3.0)\n",
      "Requirement already satisfied: requests-oauthlib>=0.7.0 in /usr/local/lib/python3.8/dist-packages (from google-auth-oauthlib<0.5,>=0.4.1->tensorboard<2.12,>=2.11->tensorflow) (1.3.1)\n",
      "Requirement already satisfied: importlib-metadata>=4.4 in /usr/local/lib/python3.8/dist-packages (from markdown>=2.6.8->tensorboard<2.12,>=2.11->tensorflow) (6.0.0)\n",
      "Requirement already satisfied: idna<3,>=2.5 in /usr/local/lib/python3.8/dist-packages (from requests<3,>=2.21.0->tensorboard<2.12,>=2.11->tensorflow) (2.10)\n",
      "Requirement already satisfied: chardet<5,>=3.0.2 in /usr/local/lib/python3.8/dist-packages (from requests<3,>=2.21.0->tensorboard<2.12,>=2.11->tensorflow) (4.0.0)\n",
      "Requirement already satisfied: urllib3<1.27,>=1.21.1 in /usr/local/lib/python3.8/dist-packages (from requests<3,>=2.21.0->tensorboard<2.12,>=2.11->tensorflow) (1.24.3)\n",
      "Requirement already satisfied: certifi>=2017.4.17 in /usr/local/lib/python3.8/dist-packages (from requests<3,>=2.21.0->tensorboard<2.12,>=2.11->tensorflow) (2022.12.7)\n",
      "Requirement already satisfied: zipp>=0.5 in /usr/local/lib/python3.8/dist-packages (from importlib-metadata>=4.4->markdown>=2.6.8->tensorboard<2.12,>=2.11->tensorflow) (3.13.0)\n",
      "Requirement already satisfied: pyasn1<0.5.0,>=0.4.6 in /usr/local/lib/python3.8/dist-packages (from pyasn1-modules>=0.2.1->google-auth<3,>=1.6.3->tensorboard<2.12,>=2.11->tensorflow) (0.4.8)\n",
      "Requirement already satisfied: oauthlib>=3.0.0 in /usr/local/lib/python3.8/dist-packages (from requests-oauthlib>=0.7.0->google-auth-oauthlib<0.5,>=0.4.1->tensorboard<2.12,>=2.11->tensorflow) (3.2.2)\n"
     ]
    }
   ],
   "source": [
    "!pip install tensorflow"
   ]
  },
  {
   "cell_type": "markdown",
   "metadata": {
    "id": "WCewfPsmwOe5"
   },
   "source": [
    "IMPORTING LIBRARIES"
   ]
  },
  {
   "cell_type": "code",
   "execution_count": null,
   "metadata": {
    "colab": {
     "base_uri": "https://localhost:8080/"
    },
    "id": "K7t9pMFmNyYn",
    "outputId": "bddfa44a-fbd7-446f-e165-95cb8143b066"
   },
   "outputs": [
    {
     "name": "stdout",
     "output_type": "stream",
     "text": [
      "Colab only includes TensorFlow 2.x; %tensorflow_version has no effect.\n",
      "2.11.0\n"
     ]
    }
   ],
   "source": [
    "%tensorflow_version 2.x\n",
    "from numpy.random import seed\n",
    "seed(2)\n",
    "#from tensorflow import set_random_seed\n",
    "#set_random_seed(2)\n",
    "from IPython import display\n",
    "import seaborn as sns\n",
    "import numpy as np\n",
    "import pandas as pd\n",
    "import tensorflow as tf\n",
    "from tensorflow import keras\n",
    "from sklearn.model_selection import train_test_split\n",
    "from tensorflow.python.data import Dataset\n",
    "from sklearn import preprocessing\n",
    "from sklearn.preprocessing import StandardScaler\n",
    "print(tf.__version__)"
   ]
  },
  {
   "cell_type": "markdown",
   "metadata": {
    "id": "ngqMk2Cgv-A-"
   },
   "source": [
    "IMPORTING THE DATA"
   ]
  },
  {
   "cell_type": "code",
   "execution_count": null,
   "metadata": {
    "colab": {
     "base_uri": "https://localhost:8080/",
     "height": 204
    },
    "id": "69qK02MWN8_w",
    "outputId": "daed4fe9-0659-4106-fafa-bfb64874219e"
   },
   "outputs": [
    {
     "data": {
      "text/html": [
       "\n",
       "  <div id=\"df-4ca0071c-17d7-4013-a3ed-314bb332348c\">\n",
       "    <div class=\"colab-df-container\">\n",
       "      <div>\n",
       "<style scoped>\n",
       "    .dataframe tbody tr th:only-of-type {\n",
       "        vertical-align: middle;\n",
       "    }\n",
       "\n",
       "    .dataframe tbody tr th {\n",
       "        vertical-align: top;\n",
       "    }\n",
       "\n",
       "    .dataframe thead th {\n",
       "        text-align: right;\n",
       "    }\n",
       "</style>\n",
       "<table border=\"1\" class=\"dataframe\">\n",
       "  <thead>\n",
       "    <tr style=\"text-align: right;\">\n",
       "      <th></th>\n",
       "      <th>Unnamed: 0</th>\n",
       "      <th>Category</th>\n",
       "      <th>Age</th>\n",
       "      <th>Sex</th>\n",
       "      <th>ALB</th>\n",
       "      <th>ALP</th>\n",
       "      <th>ALT</th>\n",
       "      <th>AST</th>\n",
       "      <th>BIL</th>\n",
       "      <th>CHE</th>\n",
       "      <th>CHOL</th>\n",
       "      <th>CREA</th>\n",
       "      <th>GGT</th>\n",
       "      <th>PROT</th>\n",
       "    </tr>\n",
       "  </thead>\n",
       "  <tbody>\n",
       "    <tr>\n",
       "      <th>469</th>\n",
       "      <td>470</td>\n",
       "      <td>0=Blood Donor</td>\n",
       "      <td>52</td>\n",
       "      <td>f</td>\n",
       "      <td>51.5</td>\n",
       "      <td>81.8</td>\n",
       "      <td>26.3</td>\n",
       "      <td>20.6</td>\n",
       "      <td>7.8</td>\n",
       "      <td>6.74</td>\n",
       "      <td>5.90</td>\n",
       "      <td>88.0</td>\n",
       "      <td>16.3</td>\n",
       "      <td>82.2</td>\n",
       "    </tr>\n",
       "    <tr>\n",
       "      <th>592</th>\n",
       "      <td>593</td>\n",
       "      <td>3=Cirrhosis</td>\n",
       "      <td>47</td>\n",
       "      <td>m</td>\n",
       "      <td>42.0</td>\n",
       "      <td>NaN</td>\n",
       "      <td>159.0</td>\n",
       "      <td>102.0</td>\n",
       "      <td>11.0</td>\n",
       "      <td>6.29</td>\n",
       "      <td>5.50</td>\n",
       "      <td>58.0</td>\n",
       "      <td>201.0</td>\n",
       "      <td>79.0</td>\n",
       "    </tr>\n",
       "    <tr>\n",
       "      <th>265</th>\n",
       "      <td>266</td>\n",
       "      <td>0=Blood Donor</td>\n",
       "      <td>58</td>\n",
       "      <td>m</td>\n",
       "      <td>41.3</td>\n",
       "      <td>58.9</td>\n",
       "      <td>12.8</td>\n",
       "      <td>23.4</td>\n",
       "      <td>5.4</td>\n",
       "      <td>8.17</td>\n",
       "      <td>5.70</td>\n",
       "      <td>60.0</td>\n",
       "      <td>10.8</td>\n",
       "      <td>70.1</td>\n",
       "    </tr>\n",
       "    <tr>\n",
       "      <th>84</th>\n",
       "      <td>85</td>\n",
       "      <td>0=Blood Donor</td>\n",
       "      <td>39</td>\n",
       "      <td>m</td>\n",
       "      <td>43.9</td>\n",
       "      <td>90.1</td>\n",
       "      <td>87.9</td>\n",
       "      <td>60.6</td>\n",
       "      <td>8.6</td>\n",
       "      <td>9.94</td>\n",
       "      <td>4.64</td>\n",
       "      <td>98.0</td>\n",
       "      <td>99.3</td>\n",
       "      <td>66.2</td>\n",
       "    </tr>\n",
       "    <tr>\n",
       "      <th>109</th>\n",
       "      <td>110</td>\n",
       "      <td>0=Blood Donor</td>\n",
       "      <td>42</td>\n",
       "      <td>m</td>\n",
       "      <td>44.1</td>\n",
       "      <td>46.8</td>\n",
       "      <td>23.8</td>\n",
       "      <td>19.4</td>\n",
       "      <td>7.0</td>\n",
       "      <td>10.83</td>\n",
       "      <td>6.28</td>\n",
       "      <td>95.0</td>\n",
       "      <td>19.7</td>\n",
       "      <td>73.0</td>\n",
       "    </tr>\n",
       "  </tbody>\n",
       "</table>\n",
       "</div>\n",
       "      <button class=\"colab-df-convert\" onclick=\"convertToInteractive('df-4ca0071c-17d7-4013-a3ed-314bb332348c')\"\n",
       "              title=\"Convert this dataframe to an interactive table.\"\n",
       "              style=\"display:none;\">\n",
       "        \n",
       "  <svg xmlns=\"http://www.w3.org/2000/svg\" height=\"24px\"viewBox=\"0 0 24 24\"\n",
       "       width=\"24px\">\n",
       "    <path d=\"M0 0h24v24H0V0z\" fill=\"none\"/>\n",
       "    <path d=\"M18.56 5.44l.94 2.06.94-2.06 2.06-.94-2.06-.94-.94-2.06-.94 2.06-2.06.94zm-11 1L8.5 8.5l.94-2.06 2.06-.94-2.06-.94L8.5 2.5l-.94 2.06-2.06.94zm10 10l.94 2.06.94-2.06 2.06-.94-2.06-.94-.94-2.06-.94 2.06-2.06.94z\"/><path d=\"M17.41 7.96l-1.37-1.37c-.4-.4-.92-.59-1.43-.59-.52 0-1.04.2-1.43.59L10.3 9.45l-7.72 7.72c-.78.78-.78 2.05 0 2.83L4 21.41c.39.39.9.59 1.41.59.51 0 1.02-.2 1.41-.59l7.78-7.78 2.81-2.81c.8-.78.8-2.07 0-2.86zM5.41 20L4 18.59l7.72-7.72 1.47 1.35L5.41 20z\"/>\n",
       "  </svg>\n",
       "      </button>\n",
       "      \n",
       "  <style>\n",
       "    .colab-df-container {\n",
       "      display:flex;\n",
       "      flex-wrap:wrap;\n",
       "      gap: 12px;\n",
       "    }\n",
       "\n",
       "    .colab-df-convert {\n",
       "      background-color: #E8F0FE;\n",
       "      border: none;\n",
       "      border-radius: 50%;\n",
       "      cursor: pointer;\n",
       "      display: none;\n",
       "      fill: #1967D2;\n",
       "      height: 32px;\n",
       "      padding: 0 0 0 0;\n",
       "      width: 32px;\n",
       "    }\n",
       "\n",
       "    .colab-df-convert:hover {\n",
       "      background-color: #E2EBFA;\n",
       "      box-shadow: 0px 1px 2px rgba(60, 64, 67, 0.3), 0px 1px 3px 1px rgba(60, 64, 67, 0.15);\n",
       "      fill: #174EA6;\n",
       "    }\n",
       "\n",
       "    [theme=dark] .colab-df-convert {\n",
       "      background-color: #3B4455;\n",
       "      fill: #D2E3FC;\n",
       "    }\n",
       "\n",
       "    [theme=dark] .colab-df-convert:hover {\n",
       "      background-color: #434B5C;\n",
       "      box-shadow: 0px 1px 3px 1px rgba(0, 0, 0, 0.15);\n",
       "      filter: drop-shadow(0px 1px 2px rgba(0, 0, 0, 0.3));\n",
       "      fill: #FFFFFF;\n",
       "    }\n",
       "  </style>\n",
       "\n",
       "      <script>\n",
       "        const buttonEl =\n",
       "          document.querySelector('#df-4ca0071c-17d7-4013-a3ed-314bb332348c button.colab-df-convert');\n",
       "        buttonEl.style.display =\n",
       "          google.colab.kernel.accessAllowed ? 'block' : 'none';\n",
       "\n",
       "        async function convertToInteractive(key) {\n",
       "          const element = document.querySelector('#df-4ca0071c-17d7-4013-a3ed-314bb332348c');\n",
       "          const dataTable =\n",
       "            await google.colab.kernel.invokeFunction('convertToInteractive',\n",
       "                                                     [key], {});\n",
       "          if (!dataTable) return;\n",
       "\n",
       "          const docLinkHtml = 'Like what you see? Visit the ' +\n",
       "            '<a target=\"_blank\" href=https://colab.research.google.com/notebooks/data_table.ipynb>data table notebook</a>'\n",
       "            + ' to learn more about interactive tables.';\n",
       "          element.innerHTML = '';\n",
       "          dataTable['output_type'] = 'display_data';\n",
       "          await google.colab.output.renderOutput(dataTable, element);\n",
       "          const docLink = document.createElement('div');\n",
       "          docLink.innerHTML = docLinkHtml;\n",
       "          element.appendChild(docLink);\n",
       "        }\n",
       "      </script>\n",
       "    </div>\n",
       "  </div>\n",
       "  "
      ],
      "text/plain": [
       "     Unnamed: 0       Category  Age Sex   ALB   ALP    ALT    AST   BIL  \\\n",
       "469         470  0=Blood Donor   52   f  51.5  81.8   26.3   20.6   7.8   \n",
       "592         593    3=Cirrhosis   47   m  42.0   NaN  159.0  102.0  11.0   \n",
       "265         266  0=Blood Donor   58   m  41.3  58.9   12.8   23.4   5.4   \n",
       "84           85  0=Blood Donor   39   m  43.9  90.1   87.9   60.6   8.6   \n",
       "109         110  0=Blood Donor   42   m  44.1  46.8   23.8   19.4   7.0   \n",
       "\n",
       "       CHE  CHOL  CREA    GGT  PROT  \n",
       "469   6.74  5.90  88.0   16.3  82.2  \n",
       "592   6.29  5.50  58.0  201.0  79.0  \n",
       "265   8.17  5.70  60.0   10.8  70.1  \n",
       "84    9.94  4.64  98.0   99.3  66.2  \n",
       "109  10.83  6.28  95.0   19.7  73.0  "
      ]
     },
     "execution_count": 3,
     "metadata": {},
     "output_type": "execute_result"
    }
   ],
   "source": [
    "pd.options.display.max_rows = 10\n",
    "import pandas as pd\n",
    "df = pd.read_csv(\"https://archive.ics.uci.edu/ml/machine-learning-databases/00571/hcvdat0.csv\", sep=\",\")\n",
    "\n",
    "df = df.reindex(\n",
    "    np.random.permutation(df.index)\n",
    ")\n",
    "df.head()"
   ]
  },
  {
   "cell_type": "code",
   "execution_count": null,
   "metadata": {
    "colab": {
     "base_uri": "https://localhost:8080/",
     "height": 419
    },
    "id": "m9flPE_7R4ax",
    "outputId": "343ad20e-f426-406c-a7b7-b7c8f5f2dc02"
   },
   "outputs": [
    {
     "data": {
      "text/html": [
       "\n",
       "  <div id=\"df-e45904a3-d608-42c9-bd0e-6944ec49083a\">\n",
       "    <div class=\"colab-df-container\">\n",
       "      <div>\n",
       "<style scoped>\n",
       "    .dataframe tbody tr th:only-of-type {\n",
       "        vertical-align: middle;\n",
       "    }\n",
       "\n",
       "    .dataframe tbody tr th {\n",
       "        vertical-align: top;\n",
       "    }\n",
       "\n",
       "    .dataframe thead th {\n",
       "        text-align: right;\n",
       "    }\n",
       "</style>\n",
       "<table border=\"1\" class=\"dataframe\">\n",
       "  <thead>\n",
       "    <tr style=\"text-align: right;\">\n",
       "      <th></th>\n",
       "      <th>Unnamed: 0</th>\n",
       "      <th>Category</th>\n",
       "      <th>Age</th>\n",
       "      <th>Sex</th>\n",
       "      <th>ALB</th>\n",
       "      <th>ALP</th>\n",
       "      <th>ALT</th>\n",
       "      <th>AST</th>\n",
       "      <th>BIL</th>\n",
       "      <th>CHE</th>\n",
       "      <th>CHOL</th>\n",
       "      <th>CREA</th>\n",
       "      <th>GGT</th>\n",
       "      <th>PROT</th>\n",
       "      <th>Label</th>\n",
       "    </tr>\n",
       "  </thead>\n",
       "  <tbody>\n",
       "    <tr>\n",
       "      <th>469</th>\n",
       "      <td>470</td>\n",
       "      <td>Blood Donor</td>\n",
       "      <td>52</td>\n",
       "      <td>f</td>\n",
       "      <td>51.5</td>\n",
       "      <td>81.8</td>\n",
       "      <td>26.3</td>\n",
       "      <td>20.6</td>\n",
       "      <td>7.8</td>\n",
       "      <td>6.74</td>\n",
       "      <td>5.90</td>\n",
       "      <td>88.0</td>\n",
       "      <td>16.3</td>\n",
       "      <td>82.2</td>\n",
       "      <td>0</td>\n",
       "    </tr>\n",
       "    <tr>\n",
       "      <th>592</th>\n",
       "      <td>593</td>\n",
       "      <td>Cirrhosis</td>\n",
       "      <td>47</td>\n",
       "      <td>m</td>\n",
       "      <td>42.0</td>\n",
       "      <td>NaN</td>\n",
       "      <td>159.0</td>\n",
       "      <td>102.0</td>\n",
       "      <td>11.0</td>\n",
       "      <td>6.29</td>\n",
       "      <td>5.50</td>\n",
       "      <td>58.0</td>\n",
       "      <td>201.0</td>\n",
       "      <td>79.0</td>\n",
       "      <td>3</td>\n",
       "    </tr>\n",
       "    <tr>\n",
       "      <th>265</th>\n",
       "      <td>266</td>\n",
       "      <td>Blood Donor</td>\n",
       "      <td>58</td>\n",
       "      <td>m</td>\n",
       "      <td>41.3</td>\n",
       "      <td>58.9</td>\n",
       "      <td>12.8</td>\n",
       "      <td>23.4</td>\n",
       "      <td>5.4</td>\n",
       "      <td>8.17</td>\n",
       "      <td>5.70</td>\n",
       "      <td>60.0</td>\n",
       "      <td>10.8</td>\n",
       "      <td>70.1</td>\n",
       "      <td>0</td>\n",
       "    </tr>\n",
       "    <tr>\n",
       "      <th>84</th>\n",
       "      <td>85</td>\n",
       "      <td>Blood Donor</td>\n",
       "      <td>39</td>\n",
       "      <td>m</td>\n",
       "      <td>43.9</td>\n",
       "      <td>90.1</td>\n",
       "      <td>87.9</td>\n",
       "      <td>60.6</td>\n",
       "      <td>8.6</td>\n",
       "      <td>9.94</td>\n",
       "      <td>4.64</td>\n",
       "      <td>98.0</td>\n",
       "      <td>99.3</td>\n",
       "      <td>66.2</td>\n",
       "      <td>0</td>\n",
       "    </tr>\n",
       "    <tr>\n",
       "      <th>109</th>\n",
       "      <td>110</td>\n",
       "      <td>Blood Donor</td>\n",
       "      <td>42</td>\n",
       "      <td>m</td>\n",
       "      <td>44.1</td>\n",
       "      <td>46.8</td>\n",
       "      <td>23.8</td>\n",
       "      <td>19.4</td>\n",
       "      <td>7.0</td>\n",
       "      <td>10.83</td>\n",
       "      <td>6.28</td>\n",
       "      <td>95.0</td>\n",
       "      <td>19.7</td>\n",
       "      <td>73.0</td>\n",
       "      <td>0</td>\n",
       "    </tr>\n",
       "    <tr>\n",
       "      <th>...</th>\n",
       "      <td>...</td>\n",
       "      <td>...</td>\n",
       "      <td>...</td>\n",
       "      <td>...</td>\n",
       "      <td>...</td>\n",
       "      <td>...</td>\n",
       "      <td>...</td>\n",
       "      <td>...</td>\n",
       "      <td>...</td>\n",
       "      <td>...</td>\n",
       "      <td>...</td>\n",
       "      <td>...</td>\n",
       "      <td>...</td>\n",
       "      <td>...</td>\n",
       "      <td>...</td>\n",
       "    </tr>\n",
       "    <tr>\n",
       "      <th>534</th>\n",
       "      <td>535</td>\n",
       "      <td>suspect Blood Donor</td>\n",
       "      <td>48</td>\n",
       "      <td>m</td>\n",
       "      <td>24.9</td>\n",
       "      <td>116.9</td>\n",
       "      <td>49.2</td>\n",
       "      <td>24.3</td>\n",
       "      <td>4.9</td>\n",
       "      <td>3.44</td>\n",
       "      <td>5.25</td>\n",
       "      <td>29.0</td>\n",
       "      <td>83.0</td>\n",
       "      <td>47.8</td>\n",
       "      <td>0s</td>\n",
       "    </tr>\n",
       "    <tr>\n",
       "      <th>584</th>\n",
       "      <td>585</td>\n",
       "      <td>Fibrosis</td>\n",
       "      <td>75</td>\n",
       "      <td>f</td>\n",
       "      <td>36.0</td>\n",
       "      <td>NaN</td>\n",
       "      <td>114.0</td>\n",
       "      <td>125.0</td>\n",
       "      <td>14.0</td>\n",
       "      <td>6.65</td>\n",
       "      <td>NaN</td>\n",
       "      <td>57.0</td>\n",
       "      <td>177.0</td>\n",
       "      <td>72.0</td>\n",
       "      <td>2</td>\n",
       "    </tr>\n",
       "    <tr>\n",
       "      <th>493</th>\n",
       "      <td>494</td>\n",
       "      <td>Blood Donor</td>\n",
       "      <td>56</td>\n",
       "      <td>f</td>\n",
       "      <td>34.7</td>\n",
       "      <td>90.3</td>\n",
       "      <td>22.7</td>\n",
       "      <td>21.6</td>\n",
       "      <td>3.5</td>\n",
       "      <td>8.07</td>\n",
       "      <td>5.45</td>\n",
       "      <td>67.0</td>\n",
       "      <td>9.0</td>\n",
       "      <td>69.4</td>\n",
       "      <td>0</td>\n",
       "    </tr>\n",
       "    <tr>\n",
       "      <th>527</th>\n",
       "      <td>528</td>\n",
       "      <td>Blood Donor</td>\n",
       "      <td>63</td>\n",
       "      <td>f</td>\n",
       "      <td>27.8</td>\n",
       "      <td>85.7</td>\n",
       "      <td>25.4</td>\n",
       "      <td>38.9</td>\n",
       "      <td>4.2</td>\n",
       "      <td>6.06</td>\n",
       "      <td>3.96</td>\n",
       "      <td>63.0</td>\n",
       "      <td>46.0</td>\n",
       "      <td>56.9</td>\n",
       "      <td>0</td>\n",
       "    </tr>\n",
       "    <tr>\n",
       "      <th>168</th>\n",
       "      <td>169</td>\n",
       "      <td>Blood Donor</td>\n",
       "      <td>47</td>\n",
       "      <td>m</td>\n",
       "      <td>48.3</td>\n",
       "      <td>59.3</td>\n",
       "      <td>49.9</td>\n",
       "      <td>31.7</td>\n",
       "      <td>7.1</td>\n",
       "      <td>11.09</td>\n",
       "      <td>5.56</td>\n",
       "      <td>88.0</td>\n",
       "      <td>91.5</td>\n",
       "      <td>73.0</td>\n",
       "      <td>0</td>\n",
       "    </tr>\n",
       "  </tbody>\n",
       "</table>\n",
       "<p>615 rows × 15 columns</p>\n",
       "</div>\n",
       "      <button class=\"colab-df-convert\" onclick=\"convertToInteractive('df-e45904a3-d608-42c9-bd0e-6944ec49083a')\"\n",
       "              title=\"Convert this dataframe to an interactive table.\"\n",
       "              style=\"display:none;\">\n",
       "        \n",
       "  <svg xmlns=\"http://www.w3.org/2000/svg\" height=\"24px\"viewBox=\"0 0 24 24\"\n",
       "       width=\"24px\">\n",
       "    <path d=\"M0 0h24v24H0V0z\" fill=\"none\"/>\n",
       "    <path d=\"M18.56 5.44l.94 2.06.94-2.06 2.06-.94-2.06-.94-.94-2.06-.94 2.06-2.06.94zm-11 1L8.5 8.5l.94-2.06 2.06-.94-2.06-.94L8.5 2.5l-.94 2.06-2.06.94zm10 10l.94 2.06.94-2.06 2.06-.94-2.06-.94-.94-2.06-.94 2.06-2.06.94z\"/><path d=\"M17.41 7.96l-1.37-1.37c-.4-.4-.92-.59-1.43-.59-.52 0-1.04.2-1.43.59L10.3 9.45l-7.72 7.72c-.78.78-.78 2.05 0 2.83L4 21.41c.39.39.9.59 1.41.59.51 0 1.02-.2 1.41-.59l7.78-7.78 2.81-2.81c.8-.78.8-2.07 0-2.86zM5.41 20L4 18.59l7.72-7.72 1.47 1.35L5.41 20z\"/>\n",
       "  </svg>\n",
       "      </button>\n",
       "      \n",
       "  <style>\n",
       "    .colab-df-container {\n",
       "      display:flex;\n",
       "      flex-wrap:wrap;\n",
       "      gap: 12px;\n",
       "    }\n",
       "\n",
       "    .colab-df-convert {\n",
       "      background-color: #E8F0FE;\n",
       "      border: none;\n",
       "      border-radius: 50%;\n",
       "      cursor: pointer;\n",
       "      display: none;\n",
       "      fill: #1967D2;\n",
       "      height: 32px;\n",
       "      padding: 0 0 0 0;\n",
       "      width: 32px;\n",
       "    }\n",
       "\n",
       "    .colab-df-convert:hover {\n",
       "      background-color: #E2EBFA;\n",
       "      box-shadow: 0px 1px 2px rgba(60, 64, 67, 0.3), 0px 1px 3px 1px rgba(60, 64, 67, 0.15);\n",
       "      fill: #174EA6;\n",
       "    }\n",
       "\n",
       "    [theme=dark] .colab-df-convert {\n",
       "      background-color: #3B4455;\n",
       "      fill: #D2E3FC;\n",
       "    }\n",
       "\n",
       "    [theme=dark] .colab-df-convert:hover {\n",
       "      background-color: #434B5C;\n",
       "      box-shadow: 0px 1px 3px 1px rgba(0, 0, 0, 0.15);\n",
       "      filter: drop-shadow(0px 1px 2px rgba(0, 0, 0, 0.3));\n",
       "      fill: #FFFFFF;\n",
       "    }\n",
       "  </style>\n",
       "\n",
       "      <script>\n",
       "        const buttonEl =\n",
       "          document.querySelector('#df-e45904a3-d608-42c9-bd0e-6944ec49083a button.colab-df-convert');\n",
       "        buttonEl.style.display =\n",
       "          google.colab.kernel.accessAllowed ? 'block' : 'none';\n",
       "\n",
       "        async function convertToInteractive(key) {\n",
       "          const element = document.querySelector('#df-e45904a3-d608-42c9-bd0e-6944ec49083a');\n",
       "          const dataTable =\n",
       "            await google.colab.kernel.invokeFunction('convertToInteractive',\n",
       "                                                     [key], {});\n",
       "          if (!dataTable) return;\n",
       "\n",
       "          const docLinkHtml = 'Like what you see? Visit the ' +\n",
       "            '<a target=\"_blank\" href=https://colab.research.google.com/notebooks/data_table.ipynb>data table notebook</a>'\n",
       "            + ' to learn more about interactive tables.';\n",
       "          element.innerHTML = '';\n",
       "          dataTable['output_type'] = 'display_data';\n",
       "          await google.colab.output.renderOutput(dataTable, element);\n",
       "          const docLink = document.createElement('div');\n",
       "          docLink.innerHTML = docLinkHtml;\n",
       "          element.appendChild(docLink);\n",
       "        }\n",
       "      </script>\n",
       "    </div>\n",
       "  </div>\n",
       "  "
      ],
      "text/plain": [
       "     Unnamed: 0             Category  Age Sex   ALB    ALP    ALT    AST  \\\n",
       "469         470          Blood Donor   52   f  51.5   81.8   26.3   20.6   \n",
       "592         593            Cirrhosis   47   m  42.0    NaN  159.0  102.0   \n",
       "265         266          Blood Donor   58   m  41.3   58.9   12.8   23.4   \n",
       "84           85          Blood Donor   39   m  43.9   90.1   87.9   60.6   \n",
       "109         110          Blood Donor   42   m  44.1   46.8   23.8   19.4   \n",
       "..          ...                  ...  ...  ..   ...    ...    ...    ...   \n",
       "534         535  suspect Blood Donor   48   m  24.9  116.9   49.2   24.3   \n",
       "584         585             Fibrosis   75   f  36.0    NaN  114.0  125.0   \n",
       "493         494          Blood Donor   56   f  34.7   90.3   22.7   21.6   \n",
       "527         528          Blood Donor   63   f  27.8   85.7   25.4   38.9   \n",
       "168         169          Blood Donor   47   m  48.3   59.3   49.9   31.7   \n",
       "\n",
       "      BIL    CHE  CHOL  CREA    GGT  PROT Label  \n",
       "469   7.8   6.74  5.90  88.0   16.3  82.2     0  \n",
       "592  11.0   6.29  5.50  58.0  201.0  79.0     3  \n",
       "265   5.4   8.17  5.70  60.0   10.8  70.1     0  \n",
       "84    8.6   9.94  4.64  98.0   99.3  66.2     0  \n",
       "109   7.0  10.83  6.28  95.0   19.7  73.0     0  \n",
       "..    ...    ...   ...   ...    ...   ...   ...  \n",
       "534   4.9   3.44  5.25  29.0   83.0  47.8    0s  \n",
       "584  14.0   6.65   NaN  57.0  177.0  72.0     2  \n",
       "493   3.5   8.07  5.45  67.0    9.0  69.4     0  \n",
       "527   4.2   6.06  3.96  63.0   46.0  56.9     0  \n",
       "168   7.1  11.09  5.56  88.0   91.5  73.0     0  \n",
       "\n",
       "[615 rows x 15 columns]"
      ]
     },
     "execution_count": 4,
     "metadata": {},
     "output_type": "execute_result"
    }
   ],
   "source": [
    "df[[\"Label\", \"Category\"]] = (  # Create two new features\n",
    "    df[\"Category\"]           # from the Policy feature\n",
    "    .str                         # through the string accessor\n",
    "    .split(\"=\", expand=True)     # by splitting on \" \"\n",
    "                                 # and expanding the result into separate columns\n",
    ")\n",
    "df"
   ]
  },
  {
   "cell_type": "code",
   "execution_count": null,
   "metadata": {
    "colab": {
     "base_uri": "https://localhost:8080/",
     "height": 497
    },
    "id": "ERaCCrgmQfb8",
    "outputId": "524b40b7-6efd-43ea-cfc6-4b1b6713350e"
   },
   "outputs": [
    {
     "name": "stderr",
     "output_type": "stream",
     "text": [
      "/usr/local/lib/python3.8/dist-packages/seaborn/_decorators.py:36: FutureWarning: Pass the following variable as a keyword arg: x. From version 0.12, the only valid positional argument will be `data`, and passing other arguments without an explicit keyword will result in an error or misinterpretation.\n",
      "  warnings.warn(\n"
     ]
    },
    {
     "ename": "NameError",
     "evalue": "ignored",
     "output_type": "error",
     "traceback": [
      "\u001b[0;31m---------------------------------------------------------------------------\u001b[0m",
      "\u001b[0;31mNameError\u001b[0m                                 Traceback (most recent call last)",
      "\u001b[0;32m<ipython-input-5-b44a1ea42d07>\u001b[0m in \u001b[0;36m<module>\u001b[0;34m\u001b[0m\n\u001b[1;32m      1\u001b[0m \u001b[0msns\u001b[0m\u001b[0;34m.\u001b[0m\u001b[0mcountplot\u001b[0m\u001b[0;34m(\u001b[0m\u001b[0mdf\u001b[0m\u001b[0;34m[\u001b[0m\u001b[0;34m'Label'\u001b[0m\u001b[0;34m]\u001b[0m\u001b[0;34m,\u001b[0m \u001b[0mlabel\u001b[0m\u001b[0;34m=\u001b[0m\u001b[0;34m\"Count\"\u001b[0m\u001b[0;34m)\u001b[0m\u001b[0;34m\u001b[0m\u001b[0;34m\u001b[0m\u001b[0m\n\u001b[0;32m----> 2\u001b[0;31m \u001b[0mplt\u001b[0m\u001b[0;34m.\u001b[0m\u001b[0mshow\u001b[0m\u001b[0;34m(\u001b[0m\u001b[0;34m)\u001b[0m\u001b[0;34m\u001b[0m\u001b[0;34m\u001b[0m\u001b[0m\n\u001b[0m",
      "\u001b[0;31mNameError\u001b[0m: name 'plt' is not defined"
     ]
    },
    {
     "data": {
      "image/png": "[encoded data removed]",
      "text/plain": [
       "<Figure size 432x288 with 1 Axes>"
      ]
     },
     "metadata": {
      "needs_background": "light"
     },
     "output_type": "display_data"
    }
   ],
   "source": [
    "sns.countplot(df['Label'], label=\"Count\")\n",
    "plt.show()"
   ]
  },
  {
   "cell_type": "code",
   "execution_count": null,
   "metadata": {
    "colab": {
     "base_uri": "https://localhost:8080/",
     "height": 350
    },
    "id": "PqClF7w7Qfeo",
    "outputId": "63a2f754-0557-460e-d7b1-3be142727f80"
   },
   "outputs": [
    {
     "name": "stderr",
     "output_type": "stream",
     "text": [
      "/usr/local/lib/python3.8/dist-packages/seaborn/distributions.py:2619: FutureWarning: `distplot` is a deprecated function and will be removed in a future version. Please adapt your code to use either `displot` (a figure-level function with similar flexibility) or `histplot` (an axes-level function for histograms).\n",
      "  warnings.warn(msg, FutureWarning)\n"
     ]
    },
    {
     "data": {
      "text/plain": [
       "<matplotlib.axes._subplots.AxesSubplot at 0x7fb9142cf5e0>"
      ]
     },
     "execution_count": 6,
     "metadata": {},
     "output_type": "execute_result"
    },
    {
     "data": {
      "image/png": "[encoded data removed]",
      "text/plain": [
       "<Figure size 432x288 with 1 Axes>"
      ]
     },
     "metadata": {
      "needs_background": "light"
     },
     "output_type": "display_data"
    }
   ],
   "source": [
    "sns.distplot(df['Age'])"
   ]
  },
  {
   "cell_type": "code",
   "execution_count": null,
   "metadata": {
    "colab": {
     "base_uri": "https://localhost:8080/",
     "height": 296
    },
    "id": "Atvu6EHEQfhI",
    "outputId": "be600f95-681a-458d-fd6d-f9c4977d4e1e"
   },
   "outputs": [
    {
     "data": {
      "text/plain": [
       "<matplotlib.axes._subplots.AxesSubplot at 0x7fb913df7f70>"
      ]
     },
     "execution_count": 7,
     "metadata": {},
     "output_type": "execute_result"
    },
    {
     "data": {
      "image/png": "[encoded data removed]",
      "text/plain": [
       "<Figure size 432x288 with 1 Axes>"
      ]
     },
     "metadata": {
      "needs_background": "light"
     },
     "output_type": "display_data"
    }
   ],
   "source": [
    "sns.boxplot(data=df, x='Category', y='Age')"
   ]
  },
  {
   "cell_type": "code",
   "execution_count": null,
   "metadata": {
    "colab": {
     "base_uri": "https://localhost:8080/",
     "height": 296
    },
    "id": "h5CLE4VcQfjy",
    "outputId": "c799cbda-d8f7-4842-ae70-cd8aa3204bf8"
   },
   "outputs": [
    {
     "data": {
      "text/plain": [
       "<matplotlib.axes._subplots.AxesSubplot at 0x7fb911cc77f0>"
      ]
     },
     "execution_count": 8,
     "metadata": {},
     "output_type": "execute_result"
    },
    {
     "data": {
      "image/png": "[encoded data removed]",
      "text/plain": [
       "<Figure size 432x288 with 1 Axes>"
      ]
     },
     "metadata": {
      "needs_background": "light"
     },
     "output_type": "display_data"
    }
   ],
   "source": [
    "sns.boxplot(data=df, x='Age', y='Sex', hue ='Category')"
   ]
  },
  {
   "cell_type": "code",
   "execution_count": null,
   "metadata": {
    "colab": {
     "base_uri": "https://localhost:8080/",
     "height": 1000
    },
    "id": "q-4f6tbGWAYk",
    "outputId": "effd0788-2e8a-4e9a-8316-f2ee01c6eef2"
   },
   "outputs": [
    {
     "data": {
      "text/plain": [
       "<matplotlib.axes._subplots.AxesSubplot at 0x7fb911a30df0>"
      ]
     },
     "execution_count": 9,
     "metadata": {},
     "output_type": "execute_result"
    },
    {
     "data": {
      "image/png": "[encoded data removed]",
      "text/plain": [
       "<Figure size 1296x1296 with 10 Axes>"
      ]
     },
     "metadata": {
      "needs_background": "light"
     },
     "output_type": "display_data"
    }
   ],
   "source": [
    "from matplotlib import pyplot as plt\n",
    "fig,axes = plt.subplots(nrows=5, ncols=2, figsize=(18, 18))\n",
    "sns.histplot(data=df, x=\"ALB\", kde=True,ax=axes[0][0])\n",
    "sns.histplot(data=df, x=\"ALP\", kde=True,ax=axes[0][1])\n",
    "sns.histplot(data=df, x=\"ALT\", kde=True,ax=axes[1][0])\n",
    "sns.histplot(data=df, x=\"AST\", kde=True,ax=axes[1][1])\n",
    "sns.histplot(data=df, x=\"BIL\", kde=True,ax=axes[2][0])\n",
    "sns.histplot(data=df, x=\"CHE\", kde=True,ax=axes[2][1])\n",
    "sns.histplot(data=df, x=\"CHOL\", kde=True,ax=axes[3][0])\n",
    "sns.histplot(data=df, x=\"CREA\", kde=True,ax=axes[3][1])\n",
    "sns.histplot(data=df, x=\"GGT\", kde=True,ax=axes[4][0])\n",
    "sns.histplot(data=df, x=\"PROT\", kde=True,ax=axes[4][1])"
   ]
  },
  {
   "cell_type": "markdown",
   "metadata": {
    "id": "z6OAcIgj83bX"
   },
   "source": [
    "FEATURE SELECTION :"
   ]
  },
  {
   "cell_type": "code",
   "execution_count": null,
   "metadata": {
    "colab": {
     "base_uri": "https://localhost:8080/",
     "height": 427
    },
    "id": "UvFB_VNIE3-j",
    "outputId": "c36559f8-ab8e-4189-d69b-28157f7f39d9"
   },
   "outputs": [
    {
     "data": {
      "image/png": "[encoded data removed]",
      "text/plain": [
       "<Figure size 504x504 with 1 Axes>"
      ]
     },
     "metadata": {},
     "output_type": "display_data"
    }
   ],
   "source": [
    "labels =df['Category'].value_counts(sort = True).index\n",
    "sizes = df['Category'].value_counts(sort = True)\n",
    "colors = [\"Red\",\"Blue\"]\n",
    "plt.figure(figsize=(7,7))\n",
    "plt.pie(sizes,labels=labels, colors=colors, autopct='%1.1f%%', startangle=90,)\n",
    "plt.title('Category pie')\n",
    "plt.show()"
   ]
  },
  {
   "cell_type": "code",
   "execution_count": null,
   "metadata": {
    "colab": {
     "base_uri": "https://localhost:8080/"
    },
    "id": "CYK8CNxZQfmj",
    "outputId": "55d1abfb-55a3-4d74-8e13-d73128019526"
   },
   "outputs": [
    {
     "name": "stderr",
     "output_type": "stream",
     "text": [
      "<ipython-input-11-baeedde8d551>:10: FutureWarning: Dropping of nuisance columns in DataFrame reductions (with 'numeric_only=None') is deprecated; in a future version this will raise TypeError.  Select only valid columns before calling the reduction.\n",
      "  df.fillna(df.median(), inplace=True)\n"
     ]
    }
   ],
   "source": [
    "pd.options.display.max_rows = 10\n",
    "import pandas as pd\n",
    "df = pd.read_csv(\"https://archive.ics.uci.edu/ml/machine-learning-databases/00571/hcvdat0.csv\", sep=\",\")\n",
    "\n",
    "df = df.reindex(\n",
    "    np.random.permutation(df.index)\n",
    ")\n",
    "df.head()\n",
    "# Convert categorical variables to numeric and removing NAs\n",
    "df.fillna(df.median(), inplace=True)\n",
    "df['Sex'] = df['Sex'].apply(lambda x: 1 if x=='m' else 0)\n",
    "df['Category'] = df['Category'].apply(lambda x: {'0=Blood Donor': 0, '0s=suspect Blood Donor': 1, '1=Hepatitis': 2, '2=Fibrosis': 3, '3=Cirrhosis': 4}[x])"
   ]
  },
  {
   "cell_type": "code",
   "execution_count": null,
   "metadata": {
    "id": "K2aQj9tdQfot"
   },
   "outputs": [],
   "source": [
    "def preprocess_features(df):\n",
    "  selected_features = df[\n",
    "    ['Age', 'Sex', 'ALB', 'ALP', 'ALT', 'AST',\n",
    "       'BIL', 'CHE', 'CHOL', 'CREA', 'GGT', 'PROT']]\n",
    "  processed_features = selected_features.copy()\n",
    "  return processed_features\n",
    "\n",
    "def preprocess_targets(df):\n",
    "  output_targets = df['Category']\n",
    "  return output_targets"
   ]
  },
  {
   "cell_type": "code",
   "execution_count": null,
   "metadata": {
    "colab": {
     "base_uri": "https://localhost:8080/",
     "height": 951
    },
    "id": "PAZPjSQ5S23i",
    "outputId": "72adcbbc-fb9b-4a39-acf8-6dbe30b9b79d"
   },
   "outputs": [
    {
     "name": "stdout",
     "output_type": "stream",
     "text": [
      "Training examples summary:\n"
     ]
    },
    {
     "data": {
      "text/html": [
       "\n",
       "  <div id=\"df-f2c268e1-4954-4cc0-8019-0f3f9c96aa50\">\n",
       "    <div class=\"colab-df-container\">\n",
       "      <div>\n",
       "<style scoped>\n",
       "    .dataframe tbody tr th:only-of-type {\n",
       "        vertical-align: middle;\n",
       "    }\n",
       "\n",
       "    .dataframe tbody tr th {\n",
       "        vertical-align: top;\n",
       "    }\n",
       "\n",
       "    .dataframe thead th {\n",
       "        text-align: right;\n",
       "    }\n",
       "</style>\n",
       "<table border=\"1\" class=\"dataframe\">\n",
       "  <thead>\n",
       "    <tr style=\"text-align: right;\">\n",
       "      <th></th>\n",
       "      <th>Age</th>\n",
       "      <th>Sex</th>\n",
       "      <th>ALB</th>\n",
       "      <th>ALP</th>\n",
       "      <th>ALT</th>\n",
       "      <th>AST</th>\n",
       "      <th>BIL</th>\n",
       "      <th>CHE</th>\n",
       "      <th>CHOL</th>\n",
       "      <th>CREA</th>\n",
       "      <th>GGT</th>\n",
       "      <th>PROT</th>\n",
       "    </tr>\n",
       "  </thead>\n",
       "  <tbody>\n",
       "    <tr>\n",
       "      <th>count</th>\n",
       "      <td>200.000</td>\n",
       "      <td>200.000</td>\n",
       "      <td>200.000</td>\n",
       "      <td>200.000</td>\n",
       "      <td>200.000</td>\n",
       "      <td>200.000</td>\n",
       "      <td>200.000</td>\n",
       "      <td>200.000</td>\n",
       "      <td>200.000</td>\n",
       "      <td>200.000</td>\n",
       "      <td>200.000</td>\n",
       "      <td>200.000</td>\n",
       "    </tr>\n",
       "    <tr>\n",
       "      <th>mean</th>\n",
       "      <td>-0.000</td>\n",
       "      <td>0.000</td>\n",
       "      <td>-0.000</td>\n",
       "      <td>0.000</td>\n",
       "      <td>0.000</td>\n",
       "      <td>-0.000</td>\n",
       "      <td>-0.000</td>\n",
       "      <td>0.000</td>\n",
       "      <td>-0.000</td>\n",
       "      <td>-0.000</td>\n",
       "      <td>-0.000</td>\n",
       "      <td>0.000</td>\n",
       "    </tr>\n",
       "    <tr>\n",
       "      <th>std</th>\n",
       "      <td>1.003</td>\n",
       "      <td>1.003</td>\n",
       "      <td>1.003</td>\n",
       "      <td>1.003</td>\n",
       "      <td>1.003</td>\n",
       "      <td>1.003</td>\n",
       "      <td>1.003</td>\n",
       "      <td>1.003</td>\n",
       "      <td>1.003</td>\n",
       "      <td>1.003</td>\n",
       "      <td>1.003</td>\n",
       "      <td>1.003</td>\n",
       "    </tr>\n",
       "    <tr>\n",
       "      <th>min</th>\n",
       "      <td>-2.687</td>\n",
       "      <td>-1.187</td>\n",
       "      <td>-4.966</td>\n",
       "      <td>-1.325</td>\n",
       "      <td>-1.150</td>\n",
       "      <td>-0.969</td>\n",
       "      <td>-1.121</td>\n",
       "      <td>-3.110</td>\n",
       "      <td>-2.593</td>\n",
       "      <td>-1.018</td>\n",
       "      <td>-0.535</td>\n",
       "      <td>-4.795</td>\n",
       "    </tr>\n",
       "    <tr>\n",
       "      <th>25%</th>\n",
       "      <td>-0.849</td>\n",
       "      <td>-1.187</td>\n",
       "      <td>-0.511</td>\n",
       "      <td>-0.493</td>\n",
       "      <td>-0.546</td>\n",
       "      <td>-0.532</td>\n",
       "      <td>-0.545</td>\n",
       "      <td>-0.600</td>\n",
       "      <td>-0.710</td>\n",
       "      <td>-0.217</td>\n",
       "      <td>-0.378</td>\n",
       "      <td>-0.417</td>\n",
       "    </tr>\n",
       "    <tr>\n",
       "      <th>50%</th>\n",
       "      <td>-0.171</td>\n",
       "      <td>0.842</td>\n",
       "      <td>0.079</td>\n",
       "      <td>-0.073</td>\n",
       "      <td>-0.243</td>\n",
       "      <td>-0.266</td>\n",
       "      <td>-0.249</td>\n",
       "      <td>-0.026</td>\n",
       "      <td>-0.030</td>\n",
       "      <td>-0.107</td>\n",
       "      <td>-0.245</td>\n",
       "      <td>-0.015</td>\n",
       "    </tr>\n",
       "    <tr>\n",
       "      <th>75%</th>\n",
       "      <td>0.700</td>\n",
       "      <td>0.842</td>\n",
       "      <td>0.640</td>\n",
       "      <td>0.427</td>\n",
       "      <td>0.191</td>\n",
       "      <td>0.060</td>\n",
       "      <td>0.249</td>\n",
       "      <td>0.653</td>\n",
       "      <td>0.590</td>\n",
       "      <td>0.073</td>\n",
       "      <td>-0.009</td>\n",
       "      <td>0.597</td>\n",
       "    </tr>\n",
       "    <tr>\n",
       "      <th>max</th>\n",
       "      <td>2.732</td>\n",
       "      <td>0.842</td>\n",
       "      <td>2.428</td>\n",
       "      <td>11.149</td>\n",
       "      <td>6.051</td>\n",
       "      <td>6.638</td>\n",
       "      <td>6.382</td>\n",
       "      <td>3.542</td>\n",
       "      <td>3.998</td>\n",
       "      <td>13.762</td>\n",
       "      <td>9.756</td>\n",
       "      <td>2.757</td>\n",
       "    </tr>\n",
       "  </tbody>\n",
       "</table>\n",
       "</div>\n",
       "      <button class=\"colab-df-convert\" onclick=\"convertToInteractive('df-f2c268e1-4954-4cc0-8019-0f3f9c96aa50')\"\n",
       "              title=\"Convert this dataframe to an interactive table.\"\n",
       "              style=\"display:none;\">\n",
       "        \n",
       "  <svg xmlns=\"http://www.w3.org/2000/svg\" height=\"24px\"viewBox=\"0 0 24 24\"\n",
       "       width=\"24px\">\n",
       "    <path d=\"M0 0h24v24H0V0z\" fill=\"none\"/>\n",
       "    <path d=\"M18.56 5.44l.94 2.06.94-2.06 2.06-.94-2.06-.94-.94-2.06-.94 2.06-2.06.94zm-11 1L8.5 8.5l.94-2.06 2.06-.94-2.06-.94L8.5 2.5l-.94 2.06-2.06.94zm10 10l.94 2.06.94-2.06 2.06-.94-2.06-.94-.94-2.06-.94 2.06-2.06.94z\"/><path d=\"M17.41 7.96l-1.37-1.37c-.4-.4-.92-.59-1.43-.59-.52 0-1.04.2-1.43.59L10.3 9.45l-7.72 7.72c-.78.78-.78 2.05 0 2.83L4 21.41c.39.39.9.59 1.41.59.51 0 1.02-.2 1.41-.59l7.78-7.78 2.81-2.81c.8-.78.8-2.07 0-2.86zM5.41 20L4 18.59l7.72-7.72 1.47 1.35L5.41 20z\"/>\n",
       "  </svg>\n",
       "      </button>\n",
       "      \n",
       "  <style>\n",
       "    .colab-df-container {\n",
       "      display:flex;\n",
       "      flex-wrap:wrap;\n",
       "      gap: 12px;\n",
       "    }\n",
       "\n",
       "    .colab-df-convert {\n",
       "      background-color: #E8F0FE;\n",
       "      border: none;\n",
       "      border-radius: 50%;\n",
       "      cursor: pointer;\n",
       "      display: none;\n",
       "      fill: #1967D2;\n",
       "      height: 32px;\n",
       "      padding: 0 0 0 0;\n",
       "      width: 32px;\n",
       "    }\n",
       "\n",
       "    .colab-df-convert:hover {\n",
       "      background-color: #E2EBFA;\n",
       "      box-shadow: 0px 1px 2px rgba(60, 64, 67, 0.3), 0px 1px 3px 1px rgba(60, 64, 67, 0.15);\n",
       "      fill: #174EA6;\n",
       "    }\n",
       "\n",
       "    [theme=dark] .colab-df-convert {\n",
       "      background-color: #3B4455;\n",
       "      fill: #D2E3FC;\n",
       "    }\n",
       "\n",
       "    [theme=dark] .colab-df-convert:hover {\n",
       "      background-color: #434B5C;\n",
       "      box-shadow: 0px 1px 3px 1px rgba(0, 0, 0, 0.15);\n",
       "      filter: drop-shadow(0px 1px 2px rgba(0, 0, 0, 0.3));\n",
       "      fill: #FFFFFF;\n",
       "    }\n",
       "  </style>\n",
       "\n",
       "      <script>\n",
       "        const buttonEl =\n",
       "          document.querySelector('#df-f2c268e1-4954-4cc0-8019-0f3f9c96aa50 button.colab-df-convert');\n",
       "        buttonEl.style.display =\n",
       "          google.colab.kernel.accessAllowed ? 'block' : 'none';\n",
       "\n",
       "        async function convertToInteractive(key) {\n",
       "          const element = document.querySelector('#df-f2c268e1-4954-4cc0-8019-0f3f9c96aa50');\n",
       "          const dataTable =\n",
       "            await google.colab.kernel.invokeFunction('convertToInteractive',\n",
       "                                                     [key], {});\n",
       "          if (!dataTable) return;\n",
       "\n",
       "          const docLinkHtml = 'Like what you see? Visit the ' +\n",
       "            '<a target=\"_blank\" href=https://colab.research.google.com/notebooks/data_table.ipynb>data table notebook</a>'\n",
       "            + ' to learn more about interactive tables.';\n",
       "          element.innerHTML = '';\n",
       "          dataTable['output_type'] = 'display_data';\n",
       "          await google.colab.output.renderOutput(dataTable, element);\n",
       "          const docLink = document.createElement('div');\n",
       "          docLink.innerHTML = docLinkHtml;\n",
       "          element.appendChild(docLink);\n",
       "        }\n",
       "      </script>\n",
       "    </div>\n",
       "  </div>\n",
       "  "
      ],
      "text/plain": [
       "           Age      Sex      ALB      ALP      ALT      AST      BIL      CHE  \\\n",
       "count  200.000  200.000  200.000  200.000  200.000  200.000  200.000  200.000   \n",
       "mean    -0.000    0.000   -0.000    0.000    0.000   -0.000   -0.000    0.000   \n",
       "std      1.003    1.003    1.003    1.003    1.003    1.003    1.003    1.003   \n",
       "min     -2.687   -1.187   -4.966   -1.325   -1.150   -0.969   -1.121   -3.110   \n",
       "25%     -0.849   -1.187   -0.511   -0.493   -0.546   -0.532   -0.545   -0.600   \n",
       "50%     -0.171    0.842    0.079   -0.073   -0.243   -0.266   -0.249   -0.026   \n",
       "75%      0.700    0.842    0.640    0.427    0.191    0.060    0.249    0.653   \n",
       "max      2.732    0.842    2.428   11.149    6.051    6.638    6.382    3.542   \n",
       "\n",
       "          CHOL     CREA      GGT     PROT  \n",
       "count  200.000  200.000  200.000  200.000  \n",
       "mean    -0.000   -0.000   -0.000    0.000  \n",
       "std      1.003    1.003    1.003    1.003  \n",
       "min     -2.593   -1.018   -0.535   -4.795  \n",
       "25%     -0.710   -0.217   -0.378   -0.417  \n",
       "50%     -0.030   -0.107   -0.245   -0.015  \n",
       "75%      0.590    0.073   -0.009    0.597  \n",
       "max      3.998   13.762    9.756    2.757  "
      ]
     },
     "metadata": {},
     "output_type": "display_data"
    },
    {
     "name": "stdout",
     "output_type": "stream",
     "text": [
      "Validation examples summary:\n"
     ]
    },
    {
     "data": {
      "text/html": [
       "\n",
       "  <div id=\"df-c0078c9b-be97-4477-86f0-0217440b0db9\">\n",
       "    <div class=\"colab-df-container\">\n",
       "      <div>\n",
       "<style scoped>\n",
       "    .dataframe tbody tr th:only-of-type {\n",
       "        vertical-align: middle;\n",
       "    }\n",
       "\n",
       "    .dataframe tbody tr th {\n",
       "        vertical-align: top;\n",
       "    }\n",
       "\n",
       "    .dataframe thead th {\n",
       "        text-align: right;\n",
       "    }\n",
       "</style>\n",
       "<table border=\"1\" class=\"dataframe\">\n",
       "  <thead>\n",
       "    <tr style=\"text-align: right;\">\n",
       "      <th></th>\n",
       "      <th>Age</th>\n",
       "      <th>Sex</th>\n",
       "      <th>ALB</th>\n",
       "      <th>ALP</th>\n",
       "      <th>ALT</th>\n",
       "      <th>AST</th>\n",
       "      <th>BIL</th>\n",
       "      <th>CHE</th>\n",
       "      <th>CHOL</th>\n",
       "      <th>CREA</th>\n",
       "      <th>GGT</th>\n",
       "      <th>PROT</th>\n",
       "    </tr>\n",
       "  </thead>\n",
       "  <tbody>\n",
       "    <tr>\n",
       "      <th>count</th>\n",
       "      <td>50.000</td>\n",
       "      <td>50.000</td>\n",
       "      <td>50.000</td>\n",
       "      <td>50.000</td>\n",
       "      <td>50.000</td>\n",
       "      <td>50.000</td>\n",
       "      <td>50.000</td>\n",
       "      <td>50.000</td>\n",
       "      <td>50.000</td>\n",
       "      <td>50.000</td>\n",
       "      <td>50.000</td>\n",
       "      <td>50.000</td>\n",
       "    </tr>\n",
       "    <tr>\n",
       "      <th>mean</th>\n",
       "      <td>0.152</td>\n",
       "      <td>0.030</td>\n",
       "      <td>0.022</td>\n",
       "      <td>0.170</td>\n",
       "      <td>0.479</td>\n",
       "      <td>0.488</td>\n",
       "      <td>0.551</td>\n",
       "      <td>0.130</td>\n",
       "      <td>-0.146</td>\n",
       "      <td>-0.129</td>\n",
       "      <td>0.263</td>\n",
       "      <td>-0.041</td>\n",
       "    </tr>\n",
       "    <tr>\n",
       "      <th>std</th>\n",
       "      <td>1.051</td>\n",
       "      <td>1.004</td>\n",
       "      <td>1.786</td>\n",
       "      <td>0.879</td>\n",
       "      <td>2.351</td>\n",
       "      <td>1.717</td>\n",
       "      <td>4.309</td>\n",
       "      <td>1.026</td>\n",
       "      <td>0.940</td>\n",
       "      <td>0.266</td>\n",
       "      <td>1.203</td>\n",
       "      <td>1.437</td>\n",
       "    </tr>\n",
       "    <tr>\n",
       "      <th>min</th>\n",
       "      <td>-1.332</td>\n",
       "      <td>-1.187</td>\n",
       "      <td>-4.142</td>\n",
       "      <td>-1.315</td>\n",
       "      <td>-1.079</td>\n",
       "      <td>-0.715</td>\n",
       "      <td>-1.276</td>\n",
       "      <td>-3.023</td>\n",
       "      <td>-2.052</td>\n",
       "      <td>-1.032</td>\n",
       "      <td>-0.501</td>\n",
       "      <td>-4.643</td>\n",
       "    </tr>\n",
       "    <tr>\n",
       "      <th>25%</th>\n",
       "      <td>-0.631</td>\n",
       "      <td>-1.187</td>\n",
       "      <td>-0.721</td>\n",
       "      <td>-0.194</td>\n",
       "      <td>-0.329</td>\n",
       "      <td>-0.428</td>\n",
       "      <td>-0.595</td>\n",
       "      <td>-0.483</td>\n",
       "      <td>-0.696</td>\n",
       "      <td>-0.255</td>\n",
       "      <td>-0.347</td>\n",
       "      <td>-0.393</td>\n",
       "    </tr>\n",
       "    <tr>\n",
       "      <th>50%</th>\n",
       "      <td>0.119</td>\n",
       "      <td>0.842</td>\n",
       "      <td>0.079</td>\n",
       "      <td>0.198</td>\n",
       "      <td>-0.060</td>\n",
       "      <td>-0.182</td>\n",
       "      <td>-0.334</td>\n",
       "      <td>0.233</td>\n",
       "      <td>-0.283</td>\n",
       "      <td>-0.146</td>\n",
       "      <td>-0.211</td>\n",
       "      <td>0.071</td>\n",
       "    </tr>\n",
       "    <tr>\n",
       "      <th>75%</th>\n",
       "      <td>0.772</td>\n",
       "      <td>0.842</td>\n",
       "      <td>0.729</td>\n",
       "      <td>0.483</td>\n",
       "      <td>0.162</td>\n",
       "      <td>0.154</td>\n",
       "      <td>0.323</td>\n",
       "      <td>0.773</td>\n",
       "      <td>0.324</td>\n",
       "      <td>-0.019</td>\n",
       "      <td>0.305</td>\n",
       "      <td>0.764</td>\n",
       "    </tr>\n",
       "    <tr>\n",
       "      <th>max</th>\n",
       "      <td>2.635</td>\n",
       "      <td>0.842</td>\n",
       "      <td>7.632</td>\n",
       "      <td>4.477</td>\n",
       "      <td>13.225</td>\n",
       "      <td>5.861</td>\n",
       "      <td>29.730</td>\n",
       "      <td>3.254</td>\n",
       "      <td>2.514</td>\n",
       "      <td>0.501</td>\n",
       "      <td>5.764</td>\n",
       "      <td>2.662</td>\n",
       "    </tr>\n",
       "  </tbody>\n",
       "</table>\n",
       "</div>\n",
       "      <button class=\"colab-df-convert\" onclick=\"convertToInteractive('df-c0078c9b-be97-4477-86f0-0217440b0db9')\"\n",
       "              title=\"Convert this dataframe to an interactive table.\"\n",
       "              style=\"display:none;\">\n",
       "        \n",
       "  <svg xmlns=\"http://www.w3.org/2000/svg\" height=\"24px\"viewBox=\"0 0 24 24\"\n",
       "       width=\"24px\">\n",
       "    <path d=\"M0 0h24v24H0V0z\" fill=\"none\"/>\n",
       "    <path d=\"M18.56 5.44l.94 2.06.94-2.06 2.06-.94-2.06-.94-.94-2.06-.94 2.06-2.06.94zm-11 1L8.5 8.5l.94-2.06 2.06-.94-2.06-.94L8.5 2.5l-.94 2.06-2.06.94zm10 10l.94 2.06.94-2.06 2.06-.94-2.06-.94-.94-2.06-.94 2.06-2.06.94z\"/><path d=\"M17.41 7.96l-1.37-1.37c-.4-.4-.92-.59-1.43-.59-.52 0-1.04.2-1.43.59L10.3 9.45l-7.72 7.72c-.78.78-.78 2.05 0 2.83L4 21.41c.39.39.9.59 1.41.59.51 0 1.02-.2 1.41-.59l7.78-7.78 2.81-2.81c.8-.78.8-2.07 0-2.86zM5.41 20L4 18.59l7.72-7.72 1.47 1.35L5.41 20z\"/>\n",
       "  </svg>\n",
       "      </button>\n",
       "      \n",
       "  <style>\n",
       "    .colab-df-container {\n",
       "      display:flex;\n",
       "      flex-wrap:wrap;\n",
       "      gap: 12px;\n",
       "    }\n",
       "\n",
       "    .colab-df-convert {\n",
       "      background-color: #E8F0FE;\n",
       "      border: none;\n",
       "      border-radius: 50%;\n",
       "      cursor: pointer;\n",
       "      display: none;\n",
       "      fill: #1967D2;\n",
       "      height: 32px;\n",
       "      padding: 0 0 0 0;\n",
       "      width: 32px;\n",
       "    }\n",
       "\n",
       "    .colab-df-convert:hover {\n",
       "      background-color: #E2EBFA;\n",
       "      box-shadow: 0px 1px 2px rgba(60, 64, 67, 0.3), 0px 1px 3px 1px rgba(60, 64, 67, 0.15);\n",
       "      fill: #174EA6;\n",
       "    }\n",
       "\n",
       "    [theme=dark] .colab-df-convert {\n",
       "      background-color: #3B4455;\n",
       "      fill: #D2E3FC;\n",
       "    }\n",
       "\n",
       "    [theme=dark] .colab-df-convert:hover {\n",
       "      background-color: #434B5C;\n",
       "      box-shadow: 0px 1px 3px 1px rgba(0, 0, 0, 0.15);\n",
       "      filter: drop-shadow(0px 1px 2px rgba(0, 0, 0, 0.3));\n",
       "      fill: #FFFFFF;\n",
       "    }\n",
       "  </style>\n",
       "\n",
       "      <script>\n",
       "        const buttonEl =\n",
       "          document.querySelector('#df-c0078c9b-be97-4477-86f0-0217440b0db9 button.colab-df-convert');\n",
       "        buttonEl.style.display =\n",
       "          google.colab.kernel.accessAllowed ? 'block' : 'none';\n",
       "\n",
       "        async function convertToInteractive(key) {\n",
       "          const element = document.querySelector('#df-c0078c9b-be97-4477-86f0-0217440b0db9');\n",
       "          const dataTable =\n",
       "            await google.colab.kernel.invokeFunction('convertToInteractive',\n",
       "                                                     [key], {});\n",
       "          if (!dataTable) return;\n",
       "\n",
       "          const docLinkHtml = 'Like what you see? Visit the ' +\n",
       "            '<a target=\"_blank\" href=https://colab.research.google.com/notebooks/data_table.ipynb>data table notebook</a>'\n",
       "            + ' to learn more about interactive tables.';\n",
       "          element.innerHTML = '';\n",
       "          dataTable['output_type'] = 'display_data';\n",
       "          await google.colab.output.renderOutput(dataTable, element);\n",
       "          const docLink = document.createElement('div');\n",
       "          docLink.innerHTML = docLinkHtml;\n",
       "          element.appendChild(docLink);\n",
       "        }\n",
       "      </script>\n",
       "    </div>\n",
       "  </div>\n",
       "  "
      ],
      "text/plain": [
       "          Age     Sex     ALB     ALP     ALT     AST     BIL     CHE    CHOL  \\\n",
       "count  50.000  50.000  50.000  50.000  50.000  50.000  50.000  50.000  50.000   \n",
       "mean    0.152   0.030   0.022   0.170   0.479   0.488   0.551   0.130  -0.146   \n",
       "std     1.051   1.004   1.786   0.879   2.351   1.717   4.309   1.026   0.940   \n",
       "min    -1.332  -1.187  -4.142  -1.315  -1.079  -0.715  -1.276  -3.023  -2.052   \n",
       "25%    -0.631  -1.187  -0.721  -0.194  -0.329  -0.428  -0.595  -0.483  -0.696   \n",
       "50%     0.119   0.842   0.079   0.198  -0.060  -0.182  -0.334   0.233  -0.283   \n",
       "75%     0.772   0.842   0.729   0.483   0.162   0.154   0.323   0.773   0.324   \n",
       "max     2.635   0.842   7.632   4.477  13.225   5.861  29.730   3.254   2.514   \n",
       "\n",
       "         CREA     GGT    PROT  \n",
       "count  50.000  50.000  50.000  \n",
       "mean   -0.129   0.263  -0.041  \n",
       "std     0.266   1.203   1.437  \n",
       "min    -1.032  -0.501  -4.643  \n",
       "25%    -0.255  -0.347  -0.393  \n",
       "50%    -0.146  -0.211   0.071  \n",
       "75%    -0.019   0.305   0.764  \n",
       "max     0.501   5.764   2.662  "
      ]
     },
     "metadata": {},
     "output_type": "display_data"
    },
    {
     "name": "stdout",
     "output_type": "stream",
     "text": [
      "Training targets summary:\n"
     ]
    },
    {
     "data": {
      "text/plain": [
       "count    200.000\n",
       "mean       0.340\n",
       "std        0.995\n",
       "min        0.000\n",
       "25%        0.000\n",
       "50%        0.000\n",
       "75%        0.000\n",
       "max        4.000\n",
       "Name: Category, dtype: float64"
      ]
     },
     "metadata": {},
     "output_type": "display_data"
    },
    {
     "name": "stdout",
     "output_type": "stream",
     "text": [
      "Validation targets summary:\n"
     ]
    },
    {
     "data": {
      "text/plain": [
       "count    50.000\n",
       "mean      0.520\n",
       "std       1.111\n",
       "min       0.000\n",
       "25%       0.000\n",
       "50%       0.000\n",
       "75%       0.000\n",
       "max       4.000\n",
       "Name: Category, dtype: float64"
      ]
     },
     "metadata": {},
     "output_type": "display_data"
    }
   ],
   "source": [
    "# Choose the first 83 examples for training.\n",
    "X_train = preprocess_features(df.head(200))\n",
    "Y_train = preprocess_targets(df.head(200))\n",
    "scaler = StandardScaler().fit(X_train.values)\n",
    "scaledf = scaler.transform(X_train.values)\n",
    "X_train = pd.DataFrame(scaledf, index=X_train.index, columns=X_train.columns)\n",
    "\n",
    "\n",
    "# Choose the 20 examples for validation.\n",
    "x_test = preprocess_features(df.tail(50))\n",
    "y_test = preprocess_targets(df.tail(50))\n",
    "vscaled = scaler.transform(x_test.values)\n",
    "x_test = pd.DataFrame(vscaled, index=x_test.index, columns=x_test.columns)\n",
    "\n",
    "\n",
    "# Double-check that we've done the right thing.\n",
    "print(\"Training examples summary:\")\n",
    "display.display(X_train.describe().round(3))\n",
    "print(\"Validation examples summary:\")\n",
    "display.display(x_test.describe().round(3))\n",
    "\n",
    "print(\"Training targets summary:\")\n",
    "display.display(Y_train.describe().round(3))\n",
    "print(\"Validation targets summary:\")\n",
    "display.display(y_test.describe().round(3))\n"
   ]
  },
  {
   "cell_type": "code",
   "execution_count": null,
   "metadata": {
    "id": "DYKfXgtdQwLD"
   },
   "outputs": [],
   "source": []
  },
  {
   "cell_type": "code",
   "execution_count": null,
   "metadata": {
    "colab": {
     "base_uri": "https://localhost:8080/"
    },
    "id": "RB6hUu5y0NhM",
    "outputId": "ec878b8e-1b8f-4cc5-9256-d7c1ecc946d9"
   },
   "outputs": [
    {
     "name": "stdout",
     "output_type": "stream",
     "text": [
      "Model: \"sequential\"\n",
      "_________________________________________________________________\n",
      " Layer (type)                Output Shape              Param #   \n",
      "=================================================================\n",
      " dense (Dense)               (None, 64)                832       \n",
      "                                                                 \n",
      " dense_1 (Dense)             (None, 32)                2080      \n",
      "                                                                 \n",
      " dense_2 (Dense)             (None, 12)                396       \n",
      "                                                                 \n",
      " dense_3 (Dense)             (None, 5)                 65        \n",
      "                                                                 \n",
      "=================================================================\n",
      "Total params: 3,373\n",
      "Trainable params: 3,373\n",
      "Non-trainable params: 0\n",
      "_________________________________________________________________\n"
     ]
    }
   ],
   "source": [
    "\n",
    "# Define the model\n",
    "# Define the model\n",
    "model = keras.Sequential([\n",
    "    keras.layers.Dense(64, activation='relu', input_shape=(X_train.shape[1],)),\n",
    "    keras.layers.Dense(32, activation='relu'),\n",
    "    keras.layers.Dense(12, activation='relu'),\n",
    "    keras.layers.Dense(5, activation='softmax')\n",
    "])\n",
    "optimizer = tf.keras.optimizers.RMSprop()\n",
    "model.compile(loss='mse',\n",
    "                optimizer=optimizer,\n",
    "                metrics=[\"mae\", \"acc\"])\n",
    "model.summary()"
   ]
  },
  {
   "cell_type": "code",
   "execution_count": null,
   "metadata": {
    "colab": {
     "base_uri": "https://localhost:8080/"
    },
    "id": "HimU-Lk30q0w",
    "outputId": "d5d59827-93fd-4f44-ce95-f72416c64028"
   },
   "outputs": [
    {
     "name": "stdout",
     "output_type": "stream",
     "text": [
      "\n",
      "....................................................................................................\n",
      "...................................................................................................."
     ]
    }
   ],
   "source": [
    "# Train the model\n",
    "class PrintDot(keras.callbacks.Callback):\n",
    "  def on_epoch_end(self, epoch, logs):\n",
    "    if epoch % 100 == 0: print('')\n",
    "    print('.', end='')\n",
    "\n",
    "EPOCHS = 200\n",
    "b_history = model.fit(X_train, Y_train, epochs=EPOCHS,\n",
    "                    validation_data=(x_test, y_test), verbose=0,\n",
    "                    callbacks=[PrintDot()])\n"
   ]
  },
  {
   "cell_type": "code",
   "execution_count": null,
   "metadata": {
    "colab": {
     "base_uri": "https://localhost:8080/",
     "height": 644
    },
    "id": "_4vvTMHd1pTM",
    "outputId": "1268b619-f001-4ee9-c57e-41e1490eae19"
   },
   "outputs": [
    {
     "name": "stdout",
     "output_type": "stream",
     "text": [
      "0.05999999865889549\n",
      "0.6319999694824219\n"
     ]
    },
    {
     "data": {
      "image/png": "[encoded data removed]",
      "text/plain": [
       "<Figure size 1152x720 with 1 Axes>"
      ]
     },
     "metadata": {
      "needs_background": "light"
     },
     "output_type": "display_data"
    }
   ],
   "source": [
    "print(max(b_history.history['val_acc']))\n",
    "print(min(b_history.history['val_mae']))\n",
    "import matplotlib.pyplot as plt\n",
    "\n",
    "\n",
    "def plot_history(histories, key='acc'):\n",
    "  plt.figure(figsize=(16,10))\n",
    "  for name, history in histories:\n",
    "    val = plt.plot(history.epoch, history.history['val_'+key],\n",
    "                   '--', label=name.title()+' Val')\n",
    "    plt.plot(history.epoch, history.history[key], color=val[0].get_color(),\n",
    "             label=name.title()+' Train')\n",
    "\n",
    "  plt.xlabel('Epochs')\n",
    "  plt.ylabel(key.replace('_',' ').title())\n",
    "  plt.legend()\n",
    "\n",
    "  plt.xlim([0,max(history.epoch)])\n",
    "  plt.ylim([0,1])\n",
    "\n",
    "plot_history([('baseline', b_history)])\n",
    "\n",
    "  "
   ]
  },
  {
   "cell_type": "markdown",
   "metadata": {
    "id": "8RcxVYGC6t92"
   },
   "source": [
    "WE Now Use the data set to build our models and train \n"
   ]
  },
  {
   "cell_type": "code",
   "execution_count": null,
   "metadata": {
    "id": "5BpLCnrKlktU"
   },
   "outputs": [],
   "source": [
    "df = pd.read_csv('https://archive.ics.uci.edu/ml/machine-learning-databases/00571/hcvdat0.csv')\n",
    "\n",
    "# Convert categorical variables to numeric\n",
    "df['Sex'] = df['Sex'].apply(lambda x: 1 if x=='m' else 0)\n",
    "df['Category'] = df['Category'].apply(lambda x: {'0=Blood Donor': 0, '0s=suspect Blood Donor': 1, '1=Hepatitis': 2, '2=Fibrosis': 3, '3=Cirrhosis': 4}[x])\n",
    "df = df.drop('Unnamed: 0',axis=1)\n",
    "df.fillna(df.median(), inplace=True)\n",
    "# Split the data into training and testing sets\n",
    "X = df.drop('Category', axis=1)\n",
    "y = df['Category']\n",
    "X_train, x_test, Y_train, y_test = train_test_split(X, y, test_size=0.2, random_state=42)\n",
    "\n",
    "scaler = StandardScaler().fit(X_train.values)\n",
    "scaledf = scaler.transform(X_train.values)\n",
    "X_train = pd.DataFrame(scaledf, index=X_train.index, columns=X_train.columns)\n",
    "vscaled = scaler.transform(x_test.values)\n",
    "x_test = pd.DataFrame(vscaled, index=x_test.index, columns=x_test.columns)\n",
    "\n"
   ]
  },
  {
   "cell_type": "code",
   "execution_count": null,
   "metadata": {
    "id": "MRvuGzjOlkwN"
   },
   "outputs": [],
   "source": [
    "#all features included\n",
    "EPOCHS = 200\n",
    "optimizer = tf.keras.optimizers.RMSprop(0.001)\n",
    "# Define the models\n",
    "baseline_model = keras.Sequential([\n",
    "    keras.layers.Dense(64, activation='relu', input_shape=(X_train.shape[1],)),\n",
    "    keras.layers.Dense(5, activation='softmax')\n",
    "])\n",
    "baseline_model.compile(loss='mse',\n",
    "                optimizer=optimizer,\n",
    "                metrics=['mae', 'acc']) "
   ]
  },
  {
   "cell_type": "code",
   "execution_count": null,
   "metadata": {
    "id": "uKotSKU2mX3Y"
   },
   "outputs": [],
   "source": [
    "l1_model = keras.Sequential([\n",
    "    keras.layers.Dense(32, kernel_regularizer=keras.regularizers.l1(0.1), activation=tf.nn.relu,\n",
    "                       input_shape=(X_train.shape[1],)),\n",
    "    keras.layers.Dense(32, use_bias=True, kernel_regularizer=keras.regularizers.l1(0.01), activation=tf.nn.relu),\n",
    "    keras.layers.Dense(8, use_bias=True, kernel_regularizer=keras.regularizers.l1(0.01), activation=tf.nn.relu),\n",
    "    keras.layers.Dense(5, activation='softmax')\n",
    "])"
   ]
  },
  {
   "cell_type": "code",
   "execution_count": null,
   "metadata": {
    "id": "lxzcixIFmT1g"
   },
   "outputs": [],
   "source": [
    "l1_model.compile(loss='mse',\n",
    "                optimizer=optimizer,\n",
    "                metrics=['mae', 'acc']) "
   ]
  },
  {
   "cell_type": "code",
   "execution_count": null,
   "metadata": {
    "colab": {
     "base_uri": "https://localhost:8080/"
    },
    "id": "N98Nqjh0lkyx",
    "outputId": "1222b185-af18-4db2-e888-7c86ec7cd372"
   },
   "outputs": [
    {
     "name": "stdout",
     "output_type": "stream",
     "text": [
      "\n",
      "....................................................................................................\n",
      "....................................................................................................0.7804877758026123\n",
      "0.7219512462615967\n"
     ]
    }
   ],
   "source": [
    "l1_history = l1_model.fit(X_train, Y_train, epochs=EPOCHS,\n",
    "                    validation_data= (x_test, y_test), verbose=0,\n",
    "                    callbacks=[PrintDot()])\n",
    "\n",
    "print(max(l1_history.history['val_acc']))\n",
    "print(min(l1_history.history['val_mae']))\n",
    "\n"
   ]
  },
  {
   "cell_type": "code",
   "execution_count": null,
   "metadata": {
    "colab": {
     "base_uri": "https://localhost:8080/"
    },
    "id": "WEqhCgw8y_m2",
    "outputId": "734f3e78-2696-417f-8715-9ae39c11c1d9"
   },
   "outputs": [
    {
     "name": "stdout",
     "output_type": "stream",
     "text": [
      "\n",
      "....................................................................................................\n",
      "....................................................................................................0.8617886304855347\n",
      "0.7219511866569519\n"
     ]
    }
   ],
   "source": [
    "# FEATURE SET 2\n",
    "\n",
    "X2 = X = df.drop(['Category', 'Age','Sex'],axis=1)\n",
    "y2 = df['Category']\n",
    "X_train, x_test, Y_train, y_test = train_test_split(X2, y2, test_size=0.2, random_state=42)\n",
    "\n",
    "scaler = StandardScaler().fit(X_train.values)\n",
    "scaledf = scaler.transform(X_train.values)\n",
    "X_train = pd.DataFrame(scaledf, index=X_train.index, columns=X_train.columns)\n",
    "vscaled = scaler.transform(x_test.values)\n",
    "x_test = pd.DataFrame(vscaled, index=x_test.index, columns=x_test.columns)\n",
    "\n",
    "EPOCHS = 200\n",
    "optimizer = tf.keras.optimizers.RMSprop(0.001)\n",
    "\n",
    "l2_model = keras.Sequential([\n",
    "    keras.layers.Dense(32, kernel_regularizer=keras.regularizers.l2(0.1), activation=tf.nn.relu,\n",
    "                       input_shape=(X_train.shape[1],)),\n",
    "    keras.layers.Dense(5, activation='softmax')\n",
    "])\n",
    "\n"
   ]
  },
  {
   "cell_type": "code",
   "execution_count": null,
   "metadata": {
    "id": "anbiPo5PmfO3"
   },
   "outputs": [],
   "source": [
    "l2_model.compile(loss='sparse_categorical_crossentropy',\n",
    "                optimizer=optimizer,\n",
    "                metrics=['mae', 'acc'])\n",
    "\n",
    "l2_history = l2_model.fit(X_train, Y_train, epochs=EPOCHS,\n",
    "                    validation_data= (x_test, y_test), verbose=0,\n",
    "                    callbacks=[PrintDot()])\n",
    "\n",
    "print(max(l2_history.history['val_acc']))\n",
    "print(min(l2_history.history['val_mae']))"
   ]
  },
  {
   "cell_type": "code",
   "execution_count": null,
   "metadata": {
    "colab": {
     "base_uri": "https://localhost:8080/"
    },
    "id": "Z0qVCuGSy76I",
    "outputId": "90d68334-34b2-44a9-d7f3-95bfa5587a62"
   },
   "outputs": [
    {
     "name": "stdout",
     "output_type": "stream",
     "text": [
      "\n",
      "....................................................................................................\n",
      "....................................................................................................0.8861788511276245\n",
      "0.7219511866569519\n"
     ]
    }
   ],
   "source": [
    "# FEATURE SET 3 includes all features but using adam optimiser \n",
    "X3 = df.drop('Category', axis=1)\n",
    "y3 = df['Category']\n",
    "X_train, x_test, Y_train, y_test = train_test_split(X3, y3, test_size=0.2, random_state=42)\n",
    "\n",
    "\n",
    "scaler = StandardScaler().fit(X_train.values)\n",
    "scaledf = scaler.transform(X_train.values)\n",
    "X_train = pd.DataFrame(scaledf, index=X_train.index, columns=X_train.columns)\n",
    "vscaled = scaler.transform(x_test.values)\n",
    "x_test = pd.DataFrame(vscaled, index=x_test.index, columns=x_test.columns)\n",
    "l3_model = keras.Sequential([\n",
    "    keras.layers.Dense(32, activation='relu', input_shape=(X_train.shape[1],)),\n",
    "    keras.layers.Dense(16, activation='relu'),\n",
    "    keras.layers.Dense(5, activation='softmax')\n",
    "])\n",
    "\n",
    "\n"
   ]
  },
  {
   "cell_type": "code",
   "execution_count": null,
   "metadata": {
    "id": "0H7J1ae9mjTQ"
   },
   "outputs": [],
   "source": [
    "l3_model.compile(optimizer='adam',\n",
    "              loss='sparse_categorical_crossentropy',\n",
    "              metrics=['mae', 'acc']) \n",
    "l3_history = l3_model.fit(X_train, Y_train, epochs=EPOCHS,\n",
    "                    validation_data= (x_test, y_test), verbose=0,\n",
    "                    callbacks=[PrintDot()])\n",
    "print(max(l3_history.history['val_acc']))\n",
    "print(min(l3_history.history['val_mae']))"
   ]
  },
  {
   "cell_type": "code",
   "execution_count": null,
   "metadata": {
    "colab": {
     "base_uri": "https://localhost:8080/",
     "height": 606
    },
    "id": "J567QXiQlk1R",
    "outputId": "4f0fc194-1038-4078-c53c-315d966fea1a"
   },
   "outputs": [
    {
     "data": {
      "image/png": "[encoded data removed]",
      "text/plain": [
       "<Figure size 1152x720 with 1 Axes>"
      ]
     },
     "metadata": {
      "needs_background": "light"
     },
     "output_type": "display_data"
    }
   ],
   "source": [
    "import matplotlib.pyplot as plt\n",
    "\n",
    "def plot_history(histories, key='acc'):\n",
    "    plt.figure(figsize=(16,10))\n",
    "\n",
    "    for name, history in histories:\n",
    "        val = plt.plot(history.epoch, history.history['val_'+key],\n",
    "                       '--', label=name.title()+' Val')\n",
    "        plt.plot(history.epoch, history.history[key], color=val[0].get_color(),\n",
    "                 label=name.title()+' Train')\n",
    "\n",
    "    plt.xlabel('Epochs')\n",
    "    plt.ylabel(key.replace('_', ' ').title())\n",
    "    plt.legend()\n",
    "\n",
    "plot_history([('baseline', b_history),\n",
    "              ('L1', l1_history),\n",
    "              ('L2', l2_history),\n",
    "              ('L3', l3_history)])"
   ]
  },
  {
   "cell_type": "code",
   "execution_count": null,
   "metadata": {
    "id": "52pCLkoelk4J"
   },
   "outputs": [],
   "source": []
  },
  {
   "cell_type": "code",
   "execution_count": null,
   "metadata": {
    "id": "M0zf5dxelk8V"
   },
   "outputs": [],
   "source": []
  },
  {
   "cell_type": "code",
   "execution_count": null,
   "metadata": {
    "id": "VtYn9ZfAlk-O"
   },
   "outputs": [],
   "source": []
  },
  {
   "cell_type": "code",
   "execution_count": null,
   "metadata": {
    "id": "Gu2X73JJllCR"
   },
   "outputs": [],
   "source": []
  },
  {
   "cell_type": "code",
   "execution_count": null,
   "metadata": {
    "id": "rnQtwjqLllFm"
   },
   "outputs": [],
   "source": []
  },
  {
   "cell_type": "code",
   "execution_count": null,
   "metadata": {
    "id": "yX2gZnbYllHg"
   },
   "outputs": [],
   "source": []
  },
  {
   "cell_type": "code",
   "execution_count": null,
   "metadata": {
    "id": "EU7ckALHllKD"
   },
   "outputs": [],
   "source": []
  },
  {
   "cell_type": "code",
   "execution_count": null,
   "metadata": {
    "id": "mBhjMUTFllN-"
   },
   "outputs": [],
   "source": []
  },
  {
   "cell_type": "code",
   "execution_count": null,
   "metadata": {
    "id": "xidavfdpllSs"
   },
   "outputs": [],
   "source": []
  },
  {
   "cell_type": "code",
   "execution_count": null,
   "metadata": {
    "id": "PPmgb7YbllXZ"
   },
   "outputs": [],
   "source": []
  },
  {
   "cell_type": "code",
   "execution_count": null,
   "metadata": {
    "id": "UaRSl2a7llen"
   },
   "outputs": [],
   "source": []
  }
 ],
 "metadata": {
  "colab": {
   "provenance": []
  },
  "kernelspec": {
   "display_name": "Python 3 (ipykernel)",
   "language": "python",
   "name": "python3"
  },
  "language_info": {
   "codemirror_mode": {
    "name": "ipython",
    "version": 3
   },
   "file_extension": ".py",
   "mimetype": "text/x-python",
   "name": "python",
   "nbconvert_exporter": "python",
   "pygments_lexer": "ipython3",
   "version": "3.10.9"
  }
 },
 "nbformat": 4,
 "nbformat_minor": 1
}
