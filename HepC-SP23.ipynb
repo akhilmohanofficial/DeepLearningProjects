{
 "cells": [
  {
   "cell_type": "code",
   "execution_count": null,
   "metadata": {
    "id": "9YYcmRsysrz5"
   },
   "outputs": [],
   "source": []
  },
  {
   "cell_type": "markdown",
   "metadata": {
    "id": "OriWw2U6sybl"
   },
   "source": [
    "# DNN Lab\n",
    "\n",
    "## Objectives\n",
    "-  Understand basic DNN model building process using Keras\n",
    "-  Analyze model performance and capacity vs generalization tradeoff\n",
    "-  Modify models to reduce overfitting and improve performance\n",
    "\n",
    "## Exercises\n",
    "-  Build a DNN model for slump Test Problem\n",
    "-  Start with a model consisting of one hidden layer with 7 neurons\n",
    "-  Analyze results and explore improvements to model in terms of capacity, regularization\n",
    "\n",
    "\n",
    "\n"
   ]
  },
  {
   "cell_type": "markdown",
   "metadata": {
    "id": "tB7DNBL0N0Ud"
   },
   "source": [
    "### Step 1: Import Libraries"
   ]
  },
  {
   "cell_type": "code",
   "execution_count": 1,
   "metadata": {
    "colab": {
     "base_uri": "https://localhost:8080/"
    },
    "executionInfo": {
     "elapsed": 2741,
     "status": "ok",
     "timestamp": 1632506057363,
     "user": {
      "displayName": "Surendra Sarnikar",
      "photoUrl": "https://lh3.googleusercontent.com/a/default-user=s64",
      "userId": "09092883169352991840"
     },
     "user_tz": 420
    },
    "id": "I852hV5-t78p",
    "outputId": "22ccdf8c-988f-4a8d-c248-8b61fc39b5dd"
   },
   "outputs": [
    {
     "name": "stdout",
     "output_type": "stream",
     "text": [
      "2.6.0\n"
     ]
    }
   ],
   "source": [
    "%tensorflow_version 2.x\n",
    "from numpy.random import seed\n",
    "seed(2)\n",
    "import tensorflow as tf\n",
    "from tensorflow import keras\n",
    "from IPython import display\n",
    "from matplotlib import cm\n",
    "from matplotlib import gridspec\n",
    "from matplotlib import pyplot as plt\n",
    "import numpy as np\n",
    "import pandas as pd\n",
    "from tensorflow.python.data import Dataset\n",
    "from sklearn import preprocessing\n",
    "from sklearn.preprocessing import StandardScaler\n",
    "print(tf.__version__)"
   ]
  },
  {
   "cell_type": "markdown",
   "metadata": {
    "id": "GGcy077atqOU"
   },
   "source": [
    "### Step 2: Import Data"
   ]
  },
  {
   "cell_type": "code",
   "execution_count": 2,
   "metadata": {
    "executionInfo": {
     "elapsed": 256,
     "status": "ok",
     "timestamp": 1632506063960,
     "user": {
      "displayName": "Surendra Sarnikar",
      "photoUrl": "https://lh3.googleusercontent.com/a/default-user=s64",
      "userId": "09092883169352991840"
     },
     "user_tz": 420
    },
    "id": "OD-62dOo7nBq"
   },
   "outputs": [],
   "source": [
    "\n",
    "pd.options.display.max_rows = 10\n",
    "pd.options.display.float_format = '{:.1f}'.format\n",
    "\n",
    "LiverData = pd.read_csv(\"hcvdat0.csv\", sep=\",\")\n",
    "\n"
   ]
  },
  {
   "cell_type": "code",
   "execution_count": 3,
   "metadata": {
    "colab": {
     "base_uri": "https://localhost:8080/",
     "height": 300
    },
    "executionInfo": {
     "elapsed": 342,
     "status": "ok",
     "timestamp": 1632506069649,
     "user": {
      "displayName": "Surendra Sarnikar",
      "photoUrl": "https://lh3.googleusercontent.com/a/default-user=s64",
      "userId": "09092883169352991840"
     },
     "user_tz": 420
    },
    "id": "7ji2VPZuygHf",
    "outputId": "b93ff9e6-7585-4ae9-e4c6-b183275d181f"
   },
   "outputs": [
    {
     "data": {
      "text/html": [
       "<div>\n",
       "<style scoped>\n",
       "    .dataframe tbody tr th:only-of-type {\n",
       "        vertical-align: middle;\n",
       "    }\n",
       "\n",
       "    .dataframe tbody tr th {\n",
       "        vertical-align: top;\n",
       "    }\n",
       "\n",
       "    .dataframe thead th {\n",
       "        text-align: right;\n",
       "    }\n",
       "</style>\n",
       "<table border=\"1\" class=\"dataframe\">\n",
       "  <thead>\n",
       "    <tr style=\"text-align: right;\">\n",
       "      <th></th>\n",
       "      <th>Unnamed: 0</th>\n",
       "      <th>Age</th>\n",
       "      <th>ALB</th>\n",
       "      <th>ALP</th>\n",
       "      <th>ALT</th>\n",
       "      <th>AST</th>\n",
       "      <th>BIL</th>\n",
       "      <th>CHE</th>\n",
       "      <th>CHOL</th>\n",
       "      <th>CREA</th>\n",
       "      <th>GGT</th>\n",
       "      <th>PROT</th>\n",
       "    </tr>\n",
       "  </thead>\n",
       "  <tbody>\n",
       "    <tr>\n",
       "      <th>count</th>\n",
       "      <td>615.0</td>\n",
       "      <td>615.0</td>\n",
       "      <td>614.0</td>\n",
       "      <td>597.0</td>\n",
       "      <td>614.0</td>\n",
       "      <td>615.0</td>\n",
       "      <td>615.0</td>\n",
       "      <td>615.0</td>\n",
       "      <td>605.0</td>\n",
       "      <td>615.0</td>\n",
       "      <td>615.0</td>\n",
       "      <td>614.0</td>\n",
       "    </tr>\n",
       "    <tr>\n",
       "      <th>mean</th>\n",
       "      <td>308.0</td>\n",
       "      <td>47.4</td>\n",
       "      <td>41.6</td>\n",
       "      <td>68.3</td>\n",
       "      <td>28.5</td>\n",
       "      <td>34.8</td>\n",
       "      <td>11.4</td>\n",
       "      <td>8.2</td>\n",
       "      <td>5.4</td>\n",
       "      <td>81.3</td>\n",
       "      <td>39.5</td>\n",
       "      <td>72.0</td>\n",
       "    </tr>\n",
       "    <tr>\n",
       "      <th>std</th>\n",
       "      <td>177.7</td>\n",
       "      <td>10.1</td>\n",
       "      <td>5.8</td>\n",
       "      <td>26.0</td>\n",
       "      <td>25.5</td>\n",
       "      <td>33.1</td>\n",
       "      <td>19.7</td>\n",
       "      <td>2.2</td>\n",
       "      <td>1.1</td>\n",
       "      <td>49.8</td>\n",
       "      <td>54.7</td>\n",
       "      <td>5.4</td>\n",
       "    </tr>\n",
       "    <tr>\n",
       "      <th>min</th>\n",
       "      <td>1.0</td>\n",
       "      <td>19.0</td>\n",
       "      <td>14.9</td>\n",
       "      <td>11.3</td>\n",
       "      <td>0.9</td>\n",
       "      <td>10.6</td>\n",
       "      <td>0.8</td>\n",
       "      <td>1.4</td>\n",
       "      <td>1.4</td>\n",
       "      <td>8.0</td>\n",
       "      <td>4.5</td>\n",
       "      <td>44.8</td>\n",
       "    </tr>\n",
       "    <tr>\n",
       "      <th>25%</th>\n",
       "      <td>154.5</td>\n",
       "      <td>39.0</td>\n",
       "      <td>38.8</td>\n",
       "      <td>52.5</td>\n",
       "      <td>16.4</td>\n",
       "      <td>21.6</td>\n",
       "      <td>5.3</td>\n",
       "      <td>6.9</td>\n",
       "      <td>4.6</td>\n",
       "      <td>67.0</td>\n",
       "      <td>15.7</td>\n",
       "      <td>69.3</td>\n",
       "    </tr>\n",
       "    <tr>\n",
       "      <th>50%</th>\n",
       "      <td>308.0</td>\n",
       "      <td>47.0</td>\n",
       "      <td>42.0</td>\n",
       "      <td>66.2</td>\n",
       "      <td>23.0</td>\n",
       "      <td>25.9</td>\n",
       "      <td>7.3</td>\n",
       "      <td>8.3</td>\n",
       "      <td>5.3</td>\n",
       "      <td>77.0</td>\n",
       "      <td>23.3</td>\n",
       "      <td>72.2</td>\n",
       "    </tr>\n",
       "    <tr>\n",
       "      <th>75%</th>\n",
       "      <td>461.5</td>\n",
       "      <td>54.0</td>\n",
       "      <td>45.2</td>\n",
       "      <td>80.1</td>\n",
       "      <td>33.1</td>\n",
       "      <td>32.9</td>\n",
       "      <td>11.2</td>\n",
       "      <td>9.6</td>\n",
       "      <td>6.1</td>\n",
       "      <td>88.0</td>\n",
       "      <td>40.2</td>\n",
       "      <td>75.4</td>\n",
       "    </tr>\n",
       "    <tr>\n",
       "      <th>max</th>\n",
       "      <td>615.0</td>\n",
       "      <td>77.0</td>\n",
       "      <td>82.2</td>\n",
       "      <td>416.6</td>\n",
       "      <td>325.3</td>\n",
       "      <td>324.0</td>\n",
       "      <td>254.0</td>\n",
       "      <td>16.4</td>\n",
       "      <td>9.7</td>\n",
       "      <td>1079.1</td>\n",
       "      <td>650.9</td>\n",
       "      <td>90.0</td>\n",
       "    </tr>\n",
       "  </tbody>\n",
       "</table>\n",
       "</div>"
      ],
      "text/plain": [
       "       Unnamed: 0   Age   ALB   ALP   ALT  ...   CHE  CHOL   CREA   GGT  PROT\n",
       "count       615.0 615.0 614.0 597.0 614.0  ... 615.0 605.0  615.0 615.0 614.0\n",
       "mean        308.0  47.4  41.6  68.3  28.5  ...   8.2   5.4   81.3  39.5  72.0\n",
       "std         177.7  10.1   5.8  26.0  25.5  ...   2.2   1.1   49.8  54.7   5.4\n",
       "min           1.0  19.0  14.9  11.3   0.9  ...   1.4   1.4    8.0   4.5  44.8\n",
       "25%         154.5  39.0  38.8  52.5  16.4  ...   6.9   4.6   67.0  15.7  69.3\n",
       "50%         308.0  47.0  42.0  66.2  23.0  ...   8.3   5.3   77.0  23.3  72.2\n",
       "75%         461.5  54.0  45.2  80.1  33.1  ...   9.6   6.1   88.0  40.2  75.4\n",
       "max         615.0  77.0  82.2 416.6 325.3  ...  16.4   9.7 1079.1 650.9  90.0\n",
       "\n",
       "[8 rows x 12 columns]"
      ]
     },
     "execution_count": 3,
     "metadata": {},
     "output_type": "execute_result"
    }
   ],
   "source": [
    "LiverData.describe()"
   ]
  },
  {
   "cell_type": "markdown",
   "metadata": {
    "id": "MwuVII8VN8Vn"
   },
   "source": [
    "### Step 3: Preprocess"
   ]
  },
  {
   "cell_type": "code",
   "execution_count": 4,
   "metadata": {
    "executionInfo": {
     "elapsed": 262,
     "status": "ok",
     "timestamp": 1632506255455,
     "user": {
      "displayName": "Surendra Sarnikar",
      "photoUrl": "https://lh3.googleusercontent.com/a/default-user=s64",
      "userId": "09092883169352991840"
     },
     "user_tz": 420
    },
    "id": "TDoGq64BL7JV"
   },
   "outputs": [],
   "source": [
    "LiverData.drop(['Unnamed: 0'], axis=1, inplace=True)\n",
    "LiverData.drop(LiverData[LiverData['Category']=='0s=suspect Blood Donor'].index, inplace=True)\n",
    "LiverData.replace(to_replace={'f':1, 'm':0}, inplace=True)"
   ]
  },
  {
   "cell_type": "code",
   "execution_count": 5,
   "metadata": {
    "colab": {
     "base_uri": "https://localhost:8080/"
    },
    "executionInfo": {
     "elapsed": 236,
     "status": "ok",
     "timestamp": 1632506260533,
     "user": {
      "displayName": "Surendra Sarnikar",
      "photoUrl": "https://lh3.googleusercontent.com/a/default-user=s64",
      "userId": "09092883169352991840"
     },
     "user_tz": 420
    },
    "id": "PSYmAF31KLZk",
    "outputId": "870477ea-8bce-46b8-df1b-3d0265f8f83e"
   },
   "outputs": [
    {
     "data": {
      "text/plain": [
       "Category     0\n",
       "Age          0\n",
       "Sex          0\n",
       "ALB          1\n",
       "ALP         18\n",
       "            ..\n",
       "CHE          0\n",
       "CHOL        10\n",
       "CREA         0\n",
       "GGT          0\n",
       "PROT         1\n",
       "Length: 13, dtype: int64"
      ]
     },
     "execution_count": 5,
     "metadata": {},
     "output_type": "execute_result"
    }
   ],
   "source": [
    "LiverData.isna().sum()"
   ]
  },
  {
   "cell_type": "code",
   "execution_count": 6,
   "metadata": {
    "colab": {
     "base_uri": "https://localhost:8080/",
     "height": 206
    },
    "executionInfo": {
     "elapsed": 297,
     "status": "ok",
     "timestamp": 1632506301072,
     "user": {
      "displayName": "Surendra Sarnikar",
      "photoUrl": "https://lh3.googleusercontent.com/a/default-user=s64",
      "userId": "09092883169352991840"
     },
     "user_tz": 420
    },
    "id": "kLEJpbVIMmsg",
    "outputId": "d06e5c7d-c553-43eb-ddb2-fe3f41c9b365"
   },
   "outputs": [
    {
     "data": {
      "text/html": [
       "<div>\n",
       "<style scoped>\n",
       "    .dataframe tbody tr th:only-of-type {\n",
       "        vertical-align: middle;\n",
       "    }\n",
       "\n",
       "    .dataframe tbody tr th {\n",
       "        vertical-align: top;\n",
       "    }\n",
       "\n",
       "    .dataframe thead th {\n",
       "        text-align: right;\n",
       "    }\n",
       "</style>\n",
       "<table border=\"1\" class=\"dataframe\">\n",
       "  <thead>\n",
       "    <tr style=\"text-align: right;\">\n",
       "      <th></th>\n",
       "      <th>ALP</th>\n",
       "    </tr>\n",
       "    <tr>\n",
       "      <th>Category</th>\n",
       "      <th></th>\n",
       "    </tr>\n",
       "  </thead>\n",
       "  <tbody>\n",
       "    <tr>\n",
       "      <th>0=Blood Donor</th>\n",
       "      <td>68.4</td>\n",
       "    </tr>\n",
       "    <tr>\n",
       "      <th>1=Hepatitis</th>\n",
       "      <td>42.1</td>\n",
       "    </tr>\n",
       "    <tr>\n",
       "      <th>2=Fibrosis</th>\n",
       "      <td>37.8</td>\n",
       "    </tr>\n",
       "    <tr>\n",
       "      <th>3=Cirrhosis</th>\n",
       "      <td>93.2</td>\n",
       "    </tr>\n",
       "  </tbody>\n",
       "</table>\n",
       "</div>"
      ],
      "text/plain": [
       "               ALP\n",
       "Category          \n",
       "0=Blood Donor 68.4\n",
       "1=Hepatitis   42.1\n",
       "2=Fibrosis    37.8\n",
       "3=Cirrhosis   93.2"
      ]
     },
     "execution_count": 6,
     "metadata": {},
     "output_type": "execute_result"
    }
   ],
   "source": [
    "LiverData[['Category', 'ALP']].groupby('Category').mean()"
   ]
  },
  {
   "cell_type": "code",
   "execution_count": 7,
   "metadata": {
    "executionInfo": {
     "elapsed": 280,
     "status": "ok",
     "timestamp": 1632506311353,
     "user": {
      "displayName": "Surendra Sarnikar",
      "photoUrl": "https://lh3.googleusercontent.com/a/default-user=s64",
      "userId": "09092883169352991840"
     },
     "user_tz": 420
    },
    "id": "JqqI5H4BOlFU"
   },
   "outputs": [],
   "source": [
    "#LiverData[LiverData['Category']=='0=Blood Donor']]\n",
    "LiverData.loc[LiverData.Category=='0=Blood Donor', 'ALP'] = LiverData.loc[LiverData.Category=='0=Blood Donor', 'ALP'].fillna(68.4)\n",
    "LiverData.loc[LiverData.Category=='1=Hepatitis', 'ALP'] = LiverData.loc[LiverData.Category=='1=Hepatitis', 'ALP'].fillna(42.1)\n",
    "LiverData.loc[LiverData.Category=='2=Fibrosis', 'ALP'] = LiverData.loc[LiverData.Category=='2=Fibrosis', 'ALP'].fillna(37.8)\n",
    "LiverData.loc[LiverData.Category=='3=Cirrhosis', 'ALP'] = LiverData.loc[LiverData.Category=='3=Cirrhosis', 'ALP'].fillna(93.2)\n",
    "\n",
    "#LiverData[['Category', 'ALP']]"
   ]
  },
  {
   "cell_type": "code",
   "execution_count": 8,
   "metadata": {
    "executionInfo": {
     "elapsed": 242,
     "status": "ok",
     "timestamp": 1632506415046,
     "user": {
      "displayName": "Surendra Sarnikar",
      "photoUrl": "https://lh3.googleusercontent.com/a/default-user=s64",
      "userId": "09092883169352991840"
     },
     "user_tz": 420
    },
    "id": "_zkaySkdI_4v"
   },
   "outputs": [],
   "source": [
    "df2 = LiverData.dropna()"
   ]
  },
  {
   "cell_type": "code",
   "execution_count": 9,
   "metadata": {
    "colab": {
     "base_uri": "https://localhost:8080/"
    },
    "executionInfo": {
     "elapsed": 226,
     "status": "ok",
     "timestamp": 1632506419495,
     "user": {
      "displayName": "Surendra Sarnikar",
      "photoUrl": "https://lh3.googleusercontent.com/a/default-user=s64",
      "userId": "09092883169352991840"
     },
     "user_tz": 420
    },
    "id": "qBvmgVnFJZh7",
    "outputId": "1aee05a9-0610-40fa-ed3c-85a35921919c"
   },
   "outputs": [
    {
     "data": {
      "text/plain": [
       "0=Blood Donor    533\n",
       "3=Cirrhosis       30\n",
       "1=Hepatitis       24\n",
       "2=Fibrosis        21\n",
       "Name: Category, dtype: int64"
      ]
     },
     "execution_count": 9,
     "metadata": {},
     "output_type": "execute_result"
    }
   ],
   "source": [
    "LiverData['Category'].value_counts()"
   ]
  },
  {
   "cell_type": "code",
   "execution_count": 10,
   "metadata": {
    "colab": {
     "base_uri": "https://localhost:8080/"
    },
    "executionInfo": {
     "elapsed": 239,
     "status": "ok",
     "timestamp": 1632506425291,
     "user": {
      "displayName": "Surendra Sarnikar",
      "photoUrl": "https://lh3.googleusercontent.com/a/default-user=s64",
      "userId": "09092883169352991840"
     },
     "user_tz": 420
    },
    "id": "_W_0UhhEJ_5f",
    "outputId": "56ccc5a4-48ec-486c-c952-3afe6fd54910"
   },
   "outputs": [
    {
     "data": {
      "text/plain": [
       "0=Blood Donor    526\n",
       "3=Cirrhosis       28\n",
       "1=Hepatitis       23\n",
       "2=Fibrosis        20\n",
       "Name: Category, dtype: int64"
      ]
     },
     "execution_count": 10,
     "metadata": {},
     "output_type": "execute_result"
    }
   ],
   "source": [
    "df2['Category'].value_counts()"
   ]
  },
  {
   "cell_type": "code",
   "execution_count": 11,
   "metadata": {
    "executionInfo": {
     "elapsed": 257,
     "status": "ok",
     "timestamp": 1632506463210,
     "user": {
      "displayName": "Surendra Sarnikar",
      "photoUrl": "https://lh3.googleusercontent.com/a/default-user=s64",
      "userId": "09092883169352991840"
     },
     "user_tz": 420
    },
    "id": "CgfrMJKUTLms"
   },
   "outputs": [],
   "source": [
    "del df2\n",
    "LiverData.dropna(inplace=True)"
   ]
  },
  {
   "cell_type": "code",
   "execution_count": 12,
   "metadata": {
    "executionInfo": {
     "elapsed": 235,
     "status": "ok",
     "timestamp": 1632506483188,
     "user": {
      "displayName": "Surendra Sarnikar",
      "photoUrl": "https://lh3.googleusercontent.com/a/default-user=s64",
      "userId": "09092883169352991840"
     },
     "user_tz": 420
    },
    "id": "gGe9ayUHHnoI"
   },
   "outputs": [],
   "source": [
    "pd.set_option('display.max_columns', None)\n",
    "pd.set_option('display.max_rows', None)"
   ]
  },
  {
   "cell_type": "code",
   "execution_count": 13,
   "metadata": {
    "colab": {
     "base_uri": "https://localhost:8080/",
     "height": 206
    },
    "executionInfo": {
     "elapsed": 246,
     "status": "ok",
     "timestamp": 1632506486813,
     "user": {
      "displayName": "Surendra Sarnikar",
      "photoUrl": "https://lh3.googleusercontent.com/a/default-user=s64",
      "userId": "09092883169352991840"
     },
     "user_tz": 420
    },
    "id": "FHe-Q_YOH4wW",
    "outputId": "c7c4ca24-7c11-48ab-b385-05073d6cd444"
   },
   "outputs": [
    {
     "data": {
      "text/html": [
       "<div>\n",
       "<style scoped>\n",
       "    .dataframe tbody tr th:only-of-type {\n",
       "        vertical-align: middle;\n",
       "    }\n",
       "\n",
       "    .dataframe tbody tr th {\n",
       "        vertical-align: top;\n",
       "    }\n",
       "\n",
       "    .dataframe thead th {\n",
       "        text-align: right;\n",
       "    }\n",
       "</style>\n",
       "<table border=\"1\" class=\"dataframe\">\n",
       "  <thead>\n",
       "    <tr style=\"text-align: right;\">\n",
       "      <th></th>\n",
       "      <th>Category</th>\n",
       "      <th>Age</th>\n",
       "      <th>Sex</th>\n",
       "      <th>ALB</th>\n",
       "      <th>ALP</th>\n",
       "      <th>ALT</th>\n",
       "      <th>AST</th>\n",
       "      <th>BIL</th>\n",
       "      <th>CHE</th>\n",
       "      <th>CHOL</th>\n",
       "      <th>CREA</th>\n",
       "      <th>GGT</th>\n",
       "      <th>PROT</th>\n",
       "    </tr>\n",
       "  </thead>\n",
       "  <tbody>\n",
       "    <tr>\n",
       "      <th>0</th>\n",
       "      <td>0=Blood Donor</td>\n",
       "      <td>32</td>\n",
       "      <td>0</td>\n",
       "      <td>38.5</td>\n",
       "      <td>52.5</td>\n",
       "      <td>7.7</td>\n",
       "      <td>22.1</td>\n",
       "      <td>7.5</td>\n",
       "      <td>6.9</td>\n",
       "      <td>3.2</td>\n",
       "      <td>106.0</td>\n",
       "      <td>12.1</td>\n",
       "      <td>69.0</td>\n",
       "    </tr>\n",
       "    <tr>\n",
       "      <th>1</th>\n",
       "      <td>0=Blood Donor</td>\n",
       "      <td>32</td>\n",
       "      <td>0</td>\n",
       "      <td>38.5</td>\n",
       "      <td>70.3</td>\n",
       "      <td>18.0</td>\n",
       "      <td>24.7</td>\n",
       "      <td>3.9</td>\n",
       "      <td>11.2</td>\n",
       "      <td>4.8</td>\n",
       "      <td>74.0</td>\n",
       "      <td>15.6</td>\n",
       "      <td>76.5</td>\n",
       "    </tr>\n",
       "    <tr>\n",
       "      <th>2</th>\n",
       "      <td>0=Blood Donor</td>\n",
       "      <td>32</td>\n",
       "      <td>0</td>\n",
       "      <td>46.9</td>\n",
       "      <td>74.7</td>\n",
       "      <td>36.2</td>\n",
       "      <td>52.6</td>\n",
       "      <td>6.1</td>\n",
       "      <td>8.8</td>\n",
       "      <td>5.2</td>\n",
       "      <td>86.0</td>\n",
       "      <td>33.2</td>\n",
       "      <td>79.3</td>\n",
       "    </tr>\n",
       "    <tr>\n",
       "      <th>3</th>\n",
       "      <td>0=Blood Donor</td>\n",
       "      <td>32</td>\n",
       "      <td>0</td>\n",
       "      <td>43.2</td>\n",
       "      <td>52.0</td>\n",
       "      <td>30.6</td>\n",
       "      <td>22.6</td>\n",
       "      <td>18.9</td>\n",
       "      <td>7.3</td>\n",
       "      <td>4.7</td>\n",
       "      <td>80.0</td>\n",
       "      <td>33.8</td>\n",
       "      <td>75.7</td>\n",
       "    </tr>\n",
       "    <tr>\n",
       "      <th>4</th>\n",
       "      <td>0=Blood Donor</td>\n",
       "      <td>32</td>\n",
       "      <td>0</td>\n",
       "      <td>39.2</td>\n",
       "      <td>74.1</td>\n",
       "      <td>32.6</td>\n",
       "      <td>24.8</td>\n",
       "      <td>9.6</td>\n",
       "      <td>9.2</td>\n",
       "      <td>4.3</td>\n",
       "      <td>76.0</td>\n",
       "      <td>29.9</td>\n",
       "      <td>68.7</td>\n",
       "    </tr>\n",
       "  </tbody>\n",
       "</table>\n",
       "</div>"
      ],
      "text/plain": [
       "        Category  Age  Sex  ALB  ALP  ALT  AST  BIL  CHE  CHOL  CREA  GGT  \\\n",
       "0  0=Blood Donor   32    0 38.5 52.5  7.7 22.1  7.5  6.9   3.2 106.0 12.1   \n",
       "1  0=Blood Donor   32    0 38.5 70.3 18.0 24.7  3.9 11.2   4.8  74.0 15.6   \n",
       "2  0=Blood Donor   32    0 46.9 74.7 36.2 52.6  6.1  8.8   5.2  86.0 33.2   \n",
       "3  0=Blood Donor   32    0 43.2 52.0 30.6 22.6 18.9  7.3   4.7  80.0 33.8   \n",
       "4  0=Blood Donor   32    0 39.2 74.1 32.6 24.8  9.6  9.2   4.3  76.0 29.9   \n",
       "\n",
       "   PROT  \n",
       "0  69.0  \n",
       "1  76.5  \n",
       "2  79.3  \n",
       "3  75.7  \n",
       "4  68.7  "
      ]
     },
     "execution_count": 13,
     "metadata": {},
     "output_type": "execute_result"
    }
   ],
   "source": [
    "LiverData.head(5)"
   ]
  },
  {
   "cell_type": "code",
   "execution_count": 14,
   "metadata": {
    "colab": {
     "base_uri": "https://localhost:8080/"
    },
    "executionInfo": {
     "elapsed": 230,
     "status": "ok",
     "timestamp": 1632506499977,
     "user": {
      "displayName": "Surendra Sarnikar",
      "photoUrl": "https://lh3.googleusercontent.com/a/default-user=s64",
      "userId": "09092883169352991840"
     },
     "user_tz": 420
    },
    "id": "jgZp_q5pHFmK",
    "outputId": "894946be-59b9-4711-8b49-d73e12eb76e4"
   },
   "outputs": [
    {
     "data": {
      "text/plain": [
       "Category     object\n",
       "Age           int64\n",
       "Sex           int64\n",
       "ALB         float64\n",
       "ALP         float64\n",
       "ALT         float64\n",
       "AST         float64\n",
       "BIL         float64\n",
       "CHE         float64\n",
       "CHOL        float64\n",
       "CREA        float64\n",
       "GGT         float64\n",
       "PROT        float64\n",
       "dtype: object"
      ]
     },
     "execution_count": 14,
     "metadata": {},
     "output_type": "execute_result"
    }
   ],
   "source": [
    "LiverData.dtypes"
   ]
  },
  {
   "cell_type": "code",
   "execution_count": 15,
   "metadata": {
    "colab": {
     "base_uri": "https://localhost:8080/"
    },
    "executionInfo": {
     "elapsed": 238,
     "status": "ok",
     "timestamp": 1632506512560,
     "user": {
      "displayName": "Surendra Sarnikar",
      "photoUrl": "https://lh3.googleusercontent.com/a/default-user=s64",
      "userId": "09092883169352991840"
     },
     "user_tz": 420
    },
    "id": "T04S05IhMciw",
    "outputId": "4746c343-70d1-4f24-fdc1-4c5bc10ced0d"
   },
   "outputs": [
    {
     "data": {
      "text/plain": [
       "(597, 13)"
      ]
     },
     "execution_count": 15,
     "metadata": {},
     "output_type": "execute_result"
    }
   ],
   "source": [
    "LiverData.shape\n"
   ]
  },
  {
   "cell_type": "code",
   "execution_count": 16,
   "metadata": {
    "colab": {
     "base_uri": "https://localhost:8080/",
     "height": 879
    },
    "executionInfo": {
     "elapsed": 2719,
     "status": "ok",
     "timestamp": 1632506520062,
     "user": {
      "displayName": "Surendra Sarnikar",
      "photoUrl": "https://lh3.googleusercontent.com/a/default-user=s64",
      "userId": "09092883169352991840"
     },
     "user_tz": 420
    },
    "id": "dKZJq4hWaBAs",
    "outputId": "6a8baa94-149f-4117-9fde-15ef3a5a0fc3"
   },
   "outputs": [
    {
     "data": {
      "image/png": "[encoded data removed]",
      "text/plain": [
       "<Figure size 1080x1080 with 12 Axes>"
      ]
     },
     "metadata": {
      "needs_background": "light"
     },
     "output_type": "display_data"
    }
   ],
   "source": [
    "%matplotlib inline\n",
    "LiverData.hist(figsize=(15,15))\n",
    "plt.show()"
   ]
  },
  {
   "cell_type": "code",
   "execution_count": 17,
   "metadata": {
    "executionInfo": {
     "elapsed": 214,
     "status": "ok",
     "timestamp": 1632506584684,
     "user": {
      "displayName": "Surendra Sarnikar",
      "photoUrl": "https://lh3.googleusercontent.com/a/default-user=s64",
      "userId": "09092883169352991840"
     },
     "user_tz": 420
    },
    "id": "GvQ1XXxgM0ZI"
   },
   "outputs": [],
   "source": [
    "LiverData[\"Category\"] = LiverData[\"Category\"].astype('category')\n",
    "LiverData[\"ClassNum\"] = LiverData[\"Category\"].cat.codes\n",
    "LDataEncoded = pd.get_dummies(LiverData, columns=['Category'])"
   ]
  },
  {
   "cell_type": "code",
   "execution_count": 18,
   "metadata": {
    "colab": {
     "base_uri": "https://localhost:8080/",
     "height": 243
    },
    "executionInfo": {
     "elapsed": 249,
     "status": "ok",
     "timestamp": 1632506592487,
     "user": {
      "displayName": "Surendra Sarnikar",
      "photoUrl": "https://lh3.googleusercontent.com/a/default-user=s64",
      "userId": "09092883169352991840"
     },
     "user_tz": 420
    },
    "id": "MZeRxZ6VNNuA",
    "outputId": "7a06933a-99fc-4027-d9d4-1b84d152260f"
   },
   "outputs": [
    {
     "data": {
      "text/html": [
       "<div>\n",
       "<style scoped>\n",
       "    .dataframe tbody tr th:only-of-type {\n",
       "        vertical-align: middle;\n",
       "    }\n",
       "\n",
       "    .dataframe tbody tr th {\n",
       "        vertical-align: top;\n",
       "    }\n",
       "\n",
       "    .dataframe thead th {\n",
       "        text-align: right;\n",
       "    }\n",
       "</style>\n",
       "<table border=\"1\" class=\"dataframe\">\n",
       "  <thead>\n",
       "    <tr style=\"text-align: right;\">\n",
       "      <th></th>\n",
       "      <th>Age</th>\n",
       "      <th>Sex</th>\n",
       "      <th>ALB</th>\n",
       "      <th>ALP</th>\n",
       "      <th>ALT</th>\n",
       "      <th>AST</th>\n",
       "      <th>BIL</th>\n",
       "      <th>CHE</th>\n",
       "      <th>CHOL</th>\n",
       "      <th>CREA</th>\n",
       "      <th>GGT</th>\n",
       "      <th>PROT</th>\n",
       "      <th>ClassNum</th>\n",
       "      <th>Category_0=Blood Donor</th>\n",
       "      <th>Category_1=Hepatitis</th>\n",
       "      <th>Category_2=Fibrosis</th>\n",
       "      <th>Category_3=Cirrhosis</th>\n",
       "    </tr>\n",
       "  </thead>\n",
       "  <tbody>\n",
       "    <tr>\n",
       "      <th>0</th>\n",
       "      <td>32</td>\n",
       "      <td>0</td>\n",
       "      <td>38.5</td>\n",
       "      <td>52.5</td>\n",
       "      <td>7.7</td>\n",
       "      <td>22.1</td>\n",
       "      <td>7.5</td>\n",
       "      <td>6.9</td>\n",
       "      <td>3.2</td>\n",
       "      <td>106.0</td>\n",
       "      <td>12.1</td>\n",
       "      <td>69.0</td>\n",
       "      <td>0</td>\n",
       "      <td>1</td>\n",
       "      <td>0</td>\n",
       "      <td>0</td>\n",
       "      <td>0</td>\n",
       "    </tr>\n",
       "    <tr>\n",
       "      <th>1</th>\n",
       "      <td>32</td>\n",
       "      <td>0</td>\n",
       "      <td>38.5</td>\n",
       "      <td>70.3</td>\n",
       "      <td>18.0</td>\n",
       "      <td>24.7</td>\n",
       "      <td>3.9</td>\n",
       "      <td>11.2</td>\n",
       "      <td>4.8</td>\n",
       "      <td>74.0</td>\n",
       "      <td>15.6</td>\n",
       "      <td>76.5</td>\n",
       "      <td>0</td>\n",
       "      <td>1</td>\n",
       "      <td>0</td>\n",
       "      <td>0</td>\n",
       "      <td>0</td>\n",
       "    </tr>\n",
       "    <tr>\n",
       "      <th>2</th>\n",
       "      <td>32</td>\n",
       "      <td>0</td>\n",
       "      <td>46.9</td>\n",
       "      <td>74.7</td>\n",
       "      <td>36.2</td>\n",
       "      <td>52.6</td>\n",
       "      <td>6.1</td>\n",
       "      <td>8.8</td>\n",
       "      <td>5.2</td>\n",
       "      <td>86.0</td>\n",
       "      <td>33.2</td>\n",
       "      <td>79.3</td>\n",
       "      <td>0</td>\n",
       "      <td>1</td>\n",
       "      <td>0</td>\n",
       "      <td>0</td>\n",
       "      <td>0</td>\n",
       "    </tr>\n",
       "    <tr>\n",
       "      <th>3</th>\n",
       "      <td>32</td>\n",
       "      <td>0</td>\n",
       "      <td>43.2</td>\n",
       "      <td>52.0</td>\n",
       "      <td>30.6</td>\n",
       "      <td>22.6</td>\n",
       "      <td>18.9</td>\n",
       "      <td>7.3</td>\n",
       "      <td>4.7</td>\n",
       "      <td>80.0</td>\n",
       "      <td>33.8</td>\n",
       "      <td>75.7</td>\n",
       "      <td>0</td>\n",
       "      <td>1</td>\n",
       "      <td>0</td>\n",
       "      <td>0</td>\n",
       "      <td>0</td>\n",
       "    </tr>\n",
       "    <tr>\n",
       "      <th>4</th>\n",
       "      <td>32</td>\n",
       "      <td>0</td>\n",
       "      <td>39.2</td>\n",
       "      <td>74.1</td>\n",
       "      <td>32.6</td>\n",
       "      <td>24.8</td>\n",
       "      <td>9.6</td>\n",
       "      <td>9.2</td>\n",
       "      <td>4.3</td>\n",
       "      <td>76.0</td>\n",
       "      <td>29.9</td>\n",
       "      <td>68.7</td>\n",
       "      <td>0</td>\n",
       "      <td>1</td>\n",
       "      <td>0</td>\n",
       "      <td>0</td>\n",
       "      <td>0</td>\n",
       "    </tr>\n",
       "  </tbody>\n",
       "</table>\n",
       "</div>"
      ],
      "text/plain": [
       "   Age  Sex  ALB  ALP  ALT  AST  BIL  CHE  CHOL  CREA  GGT  PROT  ClassNum  \\\n",
       "0   32    0 38.5 52.5  7.7 22.1  7.5  6.9   3.2 106.0 12.1  69.0         0   \n",
       "1   32    0 38.5 70.3 18.0 24.7  3.9 11.2   4.8  74.0 15.6  76.5         0   \n",
       "2   32    0 46.9 74.7 36.2 52.6  6.1  8.8   5.2  86.0 33.2  79.3         0   \n",
       "3   32    0 43.2 52.0 30.6 22.6 18.9  7.3   4.7  80.0 33.8  75.7         0   \n",
       "4   32    0 39.2 74.1 32.6 24.8  9.6  9.2   4.3  76.0 29.9  68.7         0   \n",
       "\n",
       "   Category_0=Blood Donor  Category_1=Hepatitis  Category_2=Fibrosis  \\\n",
       "0                       1                     0                    0   \n",
       "1                       1                     0                    0   \n",
       "2                       1                     0                    0   \n",
       "3                       1                     0                    0   \n",
       "4                       1                     0                    0   \n",
       "\n",
       "   Category_3=Cirrhosis  \n",
       "0                     0  \n",
       "1                     0  \n",
       "2                     0  \n",
       "3                     0  \n",
       "4                     0  "
      ]
     },
     "execution_count": 18,
     "metadata": {},
     "output_type": "execute_result"
    }
   ],
   "source": [
    "LDataEncoded.head(5)"
   ]
  },
  {
   "cell_type": "code",
   "execution_count": 19,
   "metadata": {
    "colab": {
     "base_uri": "https://localhost:8080/"
    },
    "executionInfo": {
     "elapsed": 249,
     "status": "ok",
     "timestamp": 1632506613659,
     "user": {
      "displayName": "Surendra Sarnikar",
      "photoUrl": "https://lh3.googleusercontent.com/a/default-user=s64",
      "userId": "09092883169352991840"
     },
     "user_tz": 420
    },
    "id": "LTAXvMV_UtAm",
    "outputId": "adac497f-7708-4772-ed54-3b32e05c08eb"
   },
   "outputs": [
    {
     "data": {
      "text/plain": [
       "(597, 17)"
      ]
     },
     "execution_count": 19,
     "metadata": {},
     "output_type": "execute_result"
    }
   ],
   "source": [
    "LDataEncoded.shape"
   ]
  },
  {
   "cell_type": "code",
   "execution_count": 20,
   "metadata": {
    "executionInfo": {
     "elapsed": 259,
     "status": "ok",
     "timestamp": 1632506625317,
     "user": {
      "displayName": "Surendra Sarnikar",
      "photoUrl": "https://lh3.googleusercontent.com/a/default-user=s64",
      "userId": "09092883169352991840"
     },
     "user_tz": 420
    },
    "id": "OMhID2u5PXj5"
   },
   "outputs": [],
   "source": [
    "from sklearn.model_selection import train_test_split\n",
    "\n",
    "X_train, X_test, y_train, y_test = train_test_split(LDataEncoded.iloc[:, 0:12], LDataEncoded.iloc[:, 13:17], test_size=0.2, stratify=LDataEncoded.iloc[:, 13:17])"
   ]
  },
  {
   "cell_type": "code",
   "execution_count": null,
   "metadata": {
    "colab": {
     "base_uri": "https://localhost:8080/",
     "height": 206
    },
    "executionInfo": {
     "elapsed": 135,
     "status": "ok",
     "timestamp": 1632439999798,
     "user": {
      "displayName": "Surendra Sarnikar",
      "photoUrl": "https://lh3.googleusercontent.com/a/default-user=s64",
      "userId": "09092883169352991840"
     },
     "user_tz": 420
    },
    "id": "sKaJ3yFYXdFF",
    "outputId": "934f9cce-29cd-4a80-da05-1161e81bd851"
   },
   "outputs": [
    {
     "data": {
      "text/html": [
       "<div>\n",
       "<style scoped>\n",
       "    .dataframe tbody tr th:only-of-type {\n",
       "        vertical-align: middle;\n",
       "    }\n",
       "\n",
       "    .dataframe tbody tr th {\n",
       "        vertical-align: top;\n",
       "    }\n",
       "\n",
       "    .dataframe thead th {\n",
       "        text-align: right;\n",
       "    }\n",
       "</style>\n",
       "<table border=\"1\" class=\"dataframe\">\n",
       "  <thead>\n",
       "    <tr style=\"text-align: right;\">\n",
       "      <th></th>\n",
       "      <th>Age</th>\n",
       "      <th>Sex</th>\n",
       "      <th>ALB</th>\n",
       "      <th>ALP</th>\n",
       "      <th>ALT</th>\n",
       "      <th>AST</th>\n",
       "      <th>BIL</th>\n",
       "      <th>CHE</th>\n",
       "      <th>CHOL</th>\n",
       "      <th>CREA</th>\n",
       "      <th>GGT</th>\n",
       "      <th>PROT</th>\n",
       "    </tr>\n",
       "  </thead>\n",
       "  <tbody>\n",
       "    <tr>\n",
       "      <th>89</th>\n",
       "      <td>39</td>\n",
       "      <td>0</td>\n",
       "      <td>46.4</td>\n",
       "      <td>102.9</td>\n",
       "      <td>44.4</td>\n",
       "      <td>26.2</td>\n",
       "      <td>4.1</td>\n",
       "      <td>9.3</td>\n",
       "      <td>8.9</td>\n",
       "      <td>103.0</td>\n",
       "      <td>64.0</td>\n",
       "      <td>72.2</td>\n",
       "    </tr>\n",
       "    <tr>\n",
       "      <th>313</th>\n",
       "      <td>70</td>\n",
       "      <td>0</td>\n",
       "      <td>41.0</td>\n",
       "      <td>63.5</td>\n",
       "      <td>16.9</td>\n",
       "      <td>21.6</td>\n",
       "      <td>5.9</td>\n",
       "      <td>6.0</td>\n",
       "      <td>4.7</td>\n",
       "      <td>83.0</td>\n",
       "      <td>13.5</td>\n",
       "      <td>73.7</td>\n",
       "    </tr>\n",
       "    <tr>\n",
       "      <th>3</th>\n",
       "      <td>32</td>\n",
       "      <td>0</td>\n",
       "      <td>43.2</td>\n",
       "      <td>52.0</td>\n",
       "      <td>30.6</td>\n",
       "      <td>22.6</td>\n",
       "      <td>18.9</td>\n",
       "      <td>7.3</td>\n",
       "      <td>4.7</td>\n",
       "      <td>80.0</td>\n",
       "      <td>33.8</td>\n",
       "      <td>75.7</td>\n",
       "    </tr>\n",
       "    <tr>\n",
       "      <th>386</th>\n",
       "      <td>43</td>\n",
       "      <td>1</td>\n",
       "      <td>33.7</td>\n",
       "      <td>57.5</td>\n",
       "      <td>15.1</td>\n",
       "      <td>24.8</td>\n",
       "      <td>6.9</td>\n",
       "      <td>7.9</td>\n",
       "      <td>5.4</td>\n",
       "      <td>71.0</td>\n",
       "      <td>46.0</td>\n",
       "      <td>68.4</td>\n",
       "    </tr>\n",
       "    <tr>\n",
       "      <th>470</th>\n",
       "      <td>52</td>\n",
       "      <td>1</td>\n",
       "      <td>36.7</td>\n",
       "      <td>87.6</td>\n",
       "      <td>34.3</td>\n",
       "      <td>30.8</td>\n",
       "      <td>17.7</td>\n",
       "      <td>10.1</td>\n",
       "      <td>7.0</td>\n",
       "      <td>72.0</td>\n",
       "      <td>24.2</td>\n",
       "      <td>66.3</td>\n",
       "    </tr>\n",
       "  </tbody>\n",
       "</table>\n",
       "</div>"
      ],
      "text/plain": [
       "     Age  Sex  ALB   ALP  ALT  AST  BIL  CHE  CHOL  CREA  GGT  PROT\n",
       "89    39    0 46.4 102.9 44.4 26.2  4.1  9.3   8.9 103.0 64.0  72.2\n",
       "313   70    0 41.0  63.5 16.9 21.6  5.9  6.0   4.7  83.0 13.5  73.7\n",
       "3     32    0 43.2  52.0 30.6 22.6 18.9  7.3   4.7  80.0 33.8  75.7\n",
       "386   43    1 33.7  57.5 15.1 24.8  6.9  7.9   5.4  71.0 46.0  68.4\n",
       "470   52    1 36.7  87.6 34.3 30.8 17.7 10.1   7.0  72.0 24.2  66.3"
      ]
     },
     "execution_count": 23,
     "metadata": {},
     "output_type": "execute_result"
    }
   ],
   "source": [
    "X_train.head(5)"
   ]
  },
  {
   "cell_type": "code",
   "execution_count": 21,
   "metadata": {
    "colab": {
     "base_uri": "https://localhost:8080/",
     "height": 112
    },
    "executionInfo": {
     "elapsed": 238,
     "status": "ok",
     "timestamp": 1632506640313,
     "user": {
      "displayName": "Surendra Sarnikar",
      "photoUrl": "https://lh3.googleusercontent.com/a/default-user=s64",
      "userId": "09092883169352991840"
     },
     "user_tz": 420
    },
    "id": "5uZu5Co8VGUJ",
    "outputId": "8b8cd8eb-2b0f-442d-ca98-dd9a2a17146e"
   },
   "outputs": [
    {
     "data": {
      "text/html": [
       "<div>\n",
       "<style scoped>\n",
       "    .dataframe tbody tr th:only-of-type {\n",
       "        vertical-align: middle;\n",
       "    }\n",
       "\n",
       "    .dataframe tbody tr th {\n",
       "        vertical-align: top;\n",
       "    }\n",
       "\n",
       "    .dataframe thead th {\n",
       "        text-align: right;\n",
       "    }\n",
       "</style>\n",
       "<table border=\"1\" class=\"dataframe\">\n",
       "  <thead>\n",
       "    <tr style=\"text-align: right;\">\n",
       "      <th></th>\n",
       "      <th>Category_0=Blood Donor</th>\n",
       "      <th>Category_1=Hepatitis</th>\n",
       "      <th>Category_2=Fibrosis</th>\n",
       "      <th>Category_3=Cirrhosis</th>\n",
       "    </tr>\n",
       "  </thead>\n",
       "  <tbody>\n",
       "    <tr>\n",
       "      <th>0</th>\n",
       "      <td>57</td>\n",
       "      <td>458</td>\n",
       "      <td>461</td>\n",
       "      <td>455</td>\n",
       "    </tr>\n",
       "    <tr>\n",
       "      <th>1</th>\n",
       "      <td>420</td>\n",
       "      <td>19</td>\n",
       "      <td>16</td>\n",
       "      <td>22</td>\n",
       "    </tr>\n",
       "  </tbody>\n",
       "</table>\n",
       "</div>"
      ],
      "text/plain": [
       "   Category_0=Blood Donor  Category_1=Hepatitis  Category_2=Fibrosis  \\\n",
       "0                      57                   458                  461   \n",
       "1                     420                    19                   16   \n",
       "\n",
       "   Category_3=Cirrhosis  \n",
       "0                   455  \n",
       "1                    22  "
      ]
     },
     "execution_count": 21,
     "metadata": {},
     "output_type": "execute_result"
    }
   ],
   "source": [
    "y_train.apply(pd.value_counts)"
   ]
  },
  {
   "cell_type": "code",
   "execution_count": 22,
   "metadata": {
    "colab": {
     "base_uri": "https://localhost:8080/",
     "height": 112
    },
    "executionInfo": {
     "elapsed": 240,
     "status": "ok",
     "timestamp": 1632506644803,
     "user": {
      "displayName": "Surendra Sarnikar",
      "photoUrl": "https://lh3.googleusercontent.com/a/default-user=s64",
      "userId": "09092883169352991840"
     },
     "user_tz": 420
    },
    "id": "f-SAabMiW8Nf",
    "outputId": "c256a2f6-9625-48a7-a1a6-c7562a82da72"
   },
   "outputs": [
    {
     "data": {
      "text/html": [
       "<div>\n",
       "<style scoped>\n",
       "    .dataframe tbody tr th:only-of-type {\n",
       "        vertical-align: middle;\n",
       "    }\n",
       "\n",
       "    .dataframe tbody tr th {\n",
       "        vertical-align: top;\n",
       "    }\n",
       "\n",
       "    .dataframe thead th {\n",
       "        text-align: right;\n",
       "    }\n",
       "</style>\n",
       "<table border=\"1\" class=\"dataframe\">\n",
       "  <thead>\n",
       "    <tr style=\"text-align: right;\">\n",
       "      <th></th>\n",
       "      <th>Category_0=Blood Donor</th>\n",
       "      <th>Category_1=Hepatitis</th>\n",
       "      <th>Category_2=Fibrosis</th>\n",
       "      <th>Category_3=Cirrhosis</th>\n",
       "    </tr>\n",
       "  </thead>\n",
       "  <tbody>\n",
       "    <tr>\n",
       "      <th>0</th>\n",
       "      <td>14</td>\n",
       "      <td>116</td>\n",
       "      <td>116</td>\n",
       "      <td>114</td>\n",
       "    </tr>\n",
       "    <tr>\n",
       "      <th>1</th>\n",
       "      <td>106</td>\n",
       "      <td>4</td>\n",
       "      <td>4</td>\n",
       "      <td>6</td>\n",
       "    </tr>\n",
       "  </tbody>\n",
       "</table>\n",
       "</div>"
      ],
      "text/plain": [
       "   Category_0=Blood Donor  Category_1=Hepatitis  Category_2=Fibrosis  \\\n",
       "0                      14                   116                  116   \n",
       "1                     106                     4                    4   \n",
       "\n",
       "   Category_3=Cirrhosis  \n",
       "0                   114  \n",
       "1                     6  "
      ]
     },
     "execution_count": 22,
     "metadata": {},
     "output_type": "execute_result"
    }
   ],
   "source": [
    "y_test.apply(pd.value_counts)"
   ]
  },
  {
   "cell_type": "code",
   "execution_count": 23,
   "metadata": {
    "executionInfo": {
     "elapsed": 243,
     "status": "ok",
     "timestamp": 1632507119052,
     "user": {
      "displayName": "Surendra Sarnikar",
      "photoUrl": "https://lh3.googleusercontent.com/a/default-user=s64",
      "userId": "09092883169352991840"
     },
     "user_tz": 420
    },
    "id": "5gRSnoLWZwzi"
   },
   "outputs": [],
   "source": [
    "from sklearn.preprocessing import StandardScaler, OneHotEncoder\n",
    "from sklearn.compose import ColumnTransformer, make_column_transformer"
   ]
  },
  {
   "cell_type": "code",
   "execution_count": 24,
   "metadata": {
    "colab": {
     "base_uri": "https://localhost:8080/"
    },
    "executionInfo": {
     "elapsed": 263,
     "status": "ok",
     "timestamp": 1632507149763,
     "user": {
      "displayName": "Surendra Sarnikar",
      "photoUrl": "https://lh3.googleusercontent.com/a/default-user=s64",
      "userId": "09092883169352991840"
     },
     "user_tz": 420
    },
    "id": "UbrTMvnuosgy",
    "outputId": "37203c35-efeb-4378-ff87-95df742315d3"
   },
   "outputs": [
    {
     "data": {
      "text/plain": [
       "Index(['Age', 'Sex', 'ALB', 'ALP', 'ALT', 'AST', 'BIL', 'CHE', 'CHOL', 'CREA',\n",
       "       'GGT', 'PROT'],\n",
       "      dtype='object')"
      ]
     },
     "execution_count": 24,
     "metadata": {},
     "output_type": "execute_result"
    }
   ],
   "source": [
    "X_train.columns"
   ]
  },
  {
   "cell_type": "code",
   "execution_count": 25,
   "metadata": {
    "executionInfo": {
     "elapsed": 280,
     "status": "ok",
     "timestamp": 1632507154498,
     "user": {
      "displayName": "Surendra Sarnikar",
      "photoUrl": "https://lh3.googleusercontent.com/a/default-user=s64",
      "userId": "09092883169352991840"
     },
     "user_tz": 420
    },
    "id": "iIAnvgGLrfbS"
   },
   "outputs": [],
   "source": [
    "from sklearn.compose import ColumnTransformer\n",
    "from sklearn.preprocessing import Normalizer\n",
    "from sklearn.preprocessing import PowerTransformer\n",
    "from sklearn.preprocessing import FunctionTransformer\n",
    "from sklearn.preprocessing import OneHotEncoder\n",
    "from sklearn.preprocessing import StandardScaler\n",
    "def preprocess(X_train, X_test, y_train, y_test) :\n",
    "    ctx = ColumnTransformer(\n",
    "        [(\"norm1\", StandardScaler(), ['Age', 'ALB', 'CHE', 'CHOL', 'PROT']),\n",
    "         (\"powerx\", PowerTransformer(method='yeo-johnson', standardize=True), ['ALP', 'ALT', 'AST', 'BIL', 'CREA', 'GGT'] ),\n",
    "        ], remainder = 'passthrough')\n",
    "    # fit the transformer on training data\n",
    "    xscaler = ctx.fit(X_train)\n",
    "    # transform train and test based on train parameters\n",
    "    scaledf1 = xscaler.transform(X_train)\n",
    "    scaledf2 = xscaler.transform(X_test)\n",
    "    # get column names\n",
    "\n",
    "    xcolnames = ['Age ', 'ALB', 'CHE', 'CHOL', 'PROT','ALP', 'ALT', 'AST', 'BIL', 'CREA', 'GGT', 'Sex']\n",
    "\n",
    "    # create train test dataframes for x variables\n",
    "    X_train = pd.DataFrame(scaledf1, index=X_train.index, columns=xcolnames)\n",
    "    X_test = pd.DataFrame(scaledf2, index=X_test.index, columns=xcolnames)\n",
    "\n",
    "    # Build and transform y variables\n",
    "\n",
    "    return X_train, X_test, y_train, y_test\n"
   ]
  },
  {
   "cell_type": "code",
   "execution_count": 26,
   "metadata": {
    "executionInfo": {
     "elapsed": 247,
     "status": "ok",
     "timestamp": 1632507248100,
     "user": {
      "displayName": "Surendra Sarnikar",
      "photoUrl": "https://lh3.googleusercontent.com/a/default-user=s64",
      "userId": "09092883169352991840"
     },
     "user_tz": 420
    },
    "id": "MAcw2G3Azr_2"
   },
   "outputs": [],
   "source": [
    "X_train, X_test, y_train, y_test = preprocess(X_train, X_test, y_train, y_test)"
   ]
  },
  {
   "cell_type": "code",
   "execution_count": 27,
   "metadata": {
    "colab": {
     "base_uri": "https://localhost:8080/",
     "height": 206
    },
    "executionInfo": {
     "elapsed": 252,
     "status": "ok",
     "timestamp": 1632507252839,
     "user": {
      "displayName": "Surendra Sarnikar",
      "photoUrl": "https://lh3.googleusercontent.com/a/default-user=s64",
      "userId": "09092883169352991840"
     },
     "user_tz": 420
    },
    "id": "2lRykk0mz5nt",
    "outputId": "eebc6746-4b28-43fe-dc70-a0976f7acb94"
   },
   "outputs": [
    {
     "data": {
      "text/html": [
       "<div>\n",
       "<style scoped>\n",
       "    .dataframe tbody tr th:only-of-type {\n",
       "        vertical-align: middle;\n",
       "    }\n",
       "\n",
       "    .dataframe tbody tr th {\n",
       "        vertical-align: top;\n",
       "    }\n",
       "\n",
       "    .dataframe thead th {\n",
       "        text-align: right;\n",
       "    }\n",
       "</style>\n",
       "<table border=\"1\" class=\"dataframe\">\n",
       "  <thead>\n",
       "    <tr style=\"text-align: right;\">\n",
       "      <th></th>\n",
       "      <th>Age</th>\n",
       "      <th>ALB</th>\n",
       "      <th>CHE</th>\n",
       "      <th>CHOL</th>\n",
       "      <th>PROT</th>\n",
       "      <th>ALP</th>\n",
       "      <th>ALT</th>\n",
       "      <th>AST</th>\n",
       "      <th>BIL</th>\n",
       "      <th>CREA</th>\n",
       "      <th>GGT</th>\n",
       "      <th>Sex</th>\n",
       "    </tr>\n",
       "  </thead>\n",
       "  <tbody>\n",
       "    <tr>\n",
       "      <th>89</th>\n",
       "      <td>-0.8</td>\n",
       "      <td>0.8</td>\n",
       "      <td>0.5</td>\n",
       "      <td>3.1</td>\n",
       "      <td>-0.1</td>\n",
       "      <td>1.4</td>\n",
       "      <td>1.1</td>\n",
       "      <td>0.1</td>\n",
       "      <td>-1.1</td>\n",
       "      <td>1.3</td>\n",
       "      <td>1.2</td>\n",
       "      <td>0.0</td>\n",
       "    </tr>\n",
       "    <tr>\n",
       "      <th>313</th>\n",
       "      <td>2.3</td>\n",
       "      <td>-0.2</td>\n",
       "      <td>-1.0</td>\n",
       "      <td>-0.6</td>\n",
       "      <td>0.2</td>\n",
       "      <td>-0.0</td>\n",
       "      <td>-0.5</td>\n",
       "      <td>-0.6</td>\n",
       "      <td>-0.4</td>\n",
       "      <td>0.4</td>\n",
       "      <td>-1.0</td>\n",
       "      <td>0.0</td>\n",
       "    </tr>\n",
       "    <tr>\n",
       "      <th>3</th>\n",
       "      <td>-1.5</td>\n",
       "      <td>0.2</td>\n",
       "      <td>-0.4</td>\n",
       "      <td>-0.6</td>\n",
       "      <td>0.7</td>\n",
       "      <td>-0.6</td>\n",
       "      <td>0.5</td>\n",
       "      <td>-0.4</td>\n",
       "      <td>1.3</td>\n",
       "      <td>0.2</td>\n",
       "      <td>0.5</td>\n",
       "      <td>0.0</td>\n",
       "    </tr>\n",
       "    <tr>\n",
       "      <th>386</th>\n",
       "      <td>-0.4</td>\n",
       "      <td>-1.5</td>\n",
       "      <td>-0.1</td>\n",
       "      <td>-0.0</td>\n",
       "      <td>-0.9</td>\n",
       "      <td>-0.3</td>\n",
       "      <td>-0.7</td>\n",
       "      <td>-0.1</td>\n",
       "      <td>-0.1</td>\n",
       "      <td>-0.4</td>\n",
       "      <td>0.8</td>\n",
       "      <td>1.0</td>\n",
       "    </tr>\n",
       "    <tr>\n",
       "      <th>470</th>\n",
       "      <td>0.5</td>\n",
       "      <td>-1.0</td>\n",
       "      <td>0.9</td>\n",
       "      <td>1.4</td>\n",
       "      <td>-1.3</td>\n",
       "      <td>0.9</td>\n",
       "      <td>0.7</td>\n",
       "      <td>0.5</td>\n",
       "      <td>1.2</td>\n",
       "      <td>-0.3</td>\n",
       "      <td>0.0</td>\n",
       "      <td>1.0</td>\n",
       "    </tr>\n",
       "  </tbody>\n",
       "</table>\n",
       "</div>"
      ],
      "text/plain": [
       "     Age   ALB  CHE  CHOL  PROT  ALP  ALT  AST  BIL  CREA  GGT  Sex\n",
       "89   -0.8  0.8  0.5   3.1  -0.1  1.4  1.1  0.1 -1.1   1.3  1.2  0.0\n",
       "313   2.3 -0.2 -1.0  -0.6   0.2 -0.0 -0.5 -0.6 -0.4   0.4 -1.0  0.0\n",
       "3    -1.5  0.2 -0.4  -0.6   0.7 -0.6  0.5 -0.4  1.3   0.2  0.5  0.0\n",
       "386  -0.4 -1.5 -0.1  -0.0  -0.9 -0.3 -0.7 -0.1 -0.1  -0.4  0.8  1.0\n",
       "470   0.5 -1.0  0.9   1.4  -1.3  0.9  0.7  0.5  1.2  -0.3  0.0  1.0"
      ]
     },
     "execution_count": 27,
     "metadata": {},
     "output_type": "execute_result"
    }
   ],
   "source": [
    "X_train.head(5)"
   ]
  },
  {
   "cell_type": "code",
   "execution_count": 28,
   "metadata": {
    "colab": {
     "base_uri": "https://localhost:8080/",
     "height": 842
    },
    "executionInfo": {
     "elapsed": 268,
     "status": "ok",
     "timestamp": 1632507265276,
     "user": {
      "displayName": "Surendra Sarnikar",
      "photoUrl": "https://lh3.googleusercontent.com/a/default-user=s64",
      "userId": "09092883169352991840"
     },
     "user_tz": 420
    },
    "id": "-H4hQuVmHtC9",
    "outputId": "f23dba8f-00d3-4ca3-cd0e-73724bc924d6"
   },
   "outputs": [
    {
     "name": "stdout",
     "output_type": "stream",
     "text": [
      "Training examples summary:\n"
     ]
    },
    {
     "data": {
      "text/html": [
       "<div>\n",
       "<style scoped>\n",
       "    .dataframe tbody tr th:only-of-type {\n",
       "        vertical-align: middle;\n",
       "    }\n",
       "\n",
       "    .dataframe tbody tr th {\n",
       "        vertical-align: top;\n",
       "    }\n",
       "\n",
       "    .dataframe thead th {\n",
       "        text-align: right;\n",
       "    }\n",
       "</style>\n",
       "<table border=\"1\" class=\"dataframe\">\n",
       "  <thead>\n",
       "    <tr style=\"text-align: right;\">\n",
       "      <th></th>\n",
       "      <th>Age</th>\n",
       "      <th>ALB</th>\n",
       "      <th>CHE</th>\n",
       "      <th>CHOL</th>\n",
       "      <th>PROT</th>\n",
       "      <th>ALP</th>\n",
       "      <th>ALT</th>\n",
       "      <th>AST</th>\n",
       "      <th>BIL</th>\n",
       "      <th>CREA</th>\n",
       "      <th>GGT</th>\n",
       "      <th>Sex</th>\n",
       "    </tr>\n",
       "  </thead>\n",
       "  <tbody>\n",
       "    <tr>\n",
       "      <th>count</th>\n",
       "      <td>477.0</td>\n",
       "      <td>477.0</td>\n",
       "      <td>477.0</td>\n",
       "      <td>477.0</td>\n",
       "      <td>477.0</td>\n",
       "      <td>477.0</td>\n",
       "      <td>477.0</td>\n",
       "      <td>477.0</td>\n",
       "      <td>477.0</td>\n",
       "      <td>477.0</td>\n",
       "      <td>477.0</td>\n",
       "      <td>477.0</td>\n",
       "    </tr>\n",
       "    <tr>\n",
       "      <th>mean</th>\n",
       "      <td>-0.0</td>\n",
       "      <td>0.0</td>\n",
       "      <td>0.0</td>\n",
       "      <td>0.0</td>\n",
       "      <td>0.0</td>\n",
       "      <td>0.0</td>\n",
       "      <td>-0.0</td>\n",
       "      <td>-0.0</td>\n",
       "      <td>-0.0</td>\n",
       "      <td>-0.0</td>\n",
       "      <td>-0.0</td>\n",
       "      <td>0.4</td>\n",
       "    </tr>\n",
       "    <tr>\n",
       "      <th>std</th>\n",
       "      <td>1.0</td>\n",
       "      <td>1.0</td>\n",
       "      <td>1.0</td>\n",
       "      <td>1.0</td>\n",
       "      <td>1.0</td>\n",
       "      <td>1.0</td>\n",
       "      <td>1.0</td>\n",
       "      <td>1.0</td>\n",
       "      <td>1.0</td>\n",
       "      <td>1.0</td>\n",
       "      <td>1.0</td>\n",
       "      <td>0.5</td>\n",
       "    </tr>\n",
       "    <tr>\n",
       "      <th>min</th>\n",
       "      <td>-2.8</td>\n",
       "      <td>-3.5</td>\n",
       "      <td>-3.2</td>\n",
       "      <td>-2.6</td>\n",
       "      <td>-4.5</td>\n",
       "      <td>-4.7</td>\n",
       "      <td>-3.8</td>\n",
       "      <td>-3.4</td>\n",
       "      <td>-3.0</td>\n",
       "      <td>-4.5</td>\n",
       "      <td>-3.5</td>\n",
       "      <td>0.0</td>\n",
       "    </tr>\n",
       "    <tr>\n",
       "      <th>25%</th>\n",
       "      <td>-0.8</td>\n",
       "      <td>-0.5</td>\n",
       "      <td>-0.6</td>\n",
       "      <td>-0.7</td>\n",
       "      <td>-0.6</td>\n",
       "      <td>-0.6</td>\n",
       "      <td>-0.5</td>\n",
       "      <td>-0.6</td>\n",
       "      <td>-0.6</td>\n",
       "      <td>-0.6</td>\n",
       "      <td>-0.7</td>\n",
       "      <td>0.0</td>\n",
       "    </tr>\n",
       "    <tr>\n",
       "      <th>50%</th>\n",
       "      <td>-0.0</td>\n",
       "      <td>0.0</td>\n",
       "      <td>0.0</td>\n",
       "      <td>-0.1</td>\n",
       "      <td>-0.0</td>\n",
       "      <td>0.0</td>\n",
       "      <td>-0.1</td>\n",
       "      <td>-0.0</td>\n",
       "      <td>-0.1</td>\n",
       "      <td>0.1</td>\n",
       "      <td>-0.1</td>\n",
       "      <td>0.0</td>\n",
       "    </tr>\n",
       "    <tr>\n",
       "      <th>75%</th>\n",
       "      <td>0.7</td>\n",
       "      <td>0.6</td>\n",
       "      <td>0.6</td>\n",
       "      <td>0.6</td>\n",
       "      <td>0.7</td>\n",
       "      <td>0.6</td>\n",
       "      <td>0.6</td>\n",
       "      <td>0.6</td>\n",
       "      <td>0.6</td>\n",
       "      <td>0.7</td>\n",
       "      <td>0.7</td>\n",
       "      <td>1.0</td>\n",
       "    </tr>\n",
       "    <tr>\n",
       "      <th>max</th>\n",
       "      <td>3.0</td>\n",
       "      <td>7.5</td>\n",
       "      <td>3.8</td>\n",
       "      <td>3.8</td>\n",
       "      <td>3.6</td>\n",
       "      <td>6.0</td>\n",
       "      <td>4.3</td>\n",
       "      <td>2.4</td>\n",
       "      <td>2.9</td>\n",
       "      <td>4.3</td>\n",
       "      <td>2.5</td>\n",
       "      <td>1.0</td>\n",
       "    </tr>\n",
       "  </tbody>\n",
       "</table>\n",
       "</div>"
      ],
      "text/plain": [
       "       Age    ALB   CHE  CHOL  PROT   ALP   ALT   AST   BIL  CREA   GGT   Sex\n",
       "count 477.0 477.0 477.0 477.0 477.0 477.0 477.0 477.0 477.0 477.0 477.0 477.0\n",
       "mean   -0.0   0.0   0.0   0.0   0.0   0.0  -0.0  -0.0  -0.0  -0.0  -0.0   0.4\n",
       "std     1.0   1.0   1.0   1.0   1.0   1.0   1.0   1.0   1.0   1.0   1.0   0.5\n",
       "min    -2.8  -3.5  -3.2  -2.6  -4.5  -4.7  -3.8  -3.4  -3.0  -4.5  -3.5   0.0\n",
       "25%    -0.8  -0.5  -0.6  -0.7  -0.6  -0.6  -0.5  -0.6  -0.6  -0.6  -0.7   0.0\n",
       "50%    -0.0   0.0   0.0  -0.1  -0.0   0.0  -0.1  -0.0  -0.1   0.1  -0.1   0.0\n",
       "75%     0.7   0.6   0.6   0.6   0.7   0.6   0.6   0.6   0.6   0.7   0.7   1.0\n",
       "max     3.0   7.5   3.8   3.8   3.6   6.0   4.3   2.4   2.9   4.3   2.5   1.0"
      ]
     },
     "metadata": {},
     "output_type": "display_data"
    },
    {
     "name": "stdout",
     "output_type": "stream",
     "text": [
      "Validation examples summary:\n"
     ]
    },
    {
     "data": {
      "text/html": [
       "<div>\n",
       "<style scoped>\n",
       "    .dataframe tbody tr th:only-of-type {\n",
       "        vertical-align: middle;\n",
       "    }\n",
       "\n",
       "    .dataframe tbody tr th {\n",
       "        vertical-align: top;\n",
       "    }\n",
       "\n",
       "    .dataframe thead th {\n",
       "        text-align: right;\n",
       "    }\n",
       "</style>\n",
       "<table border=\"1\" class=\"dataframe\">\n",
       "  <thead>\n",
       "    <tr style=\"text-align: right;\">\n",
       "      <th></th>\n",
       "      <th>Age</th>\n",
       "      <th>ALB</th>\n",
       "      <th>CHE</th>\n",
       "      <th>CHOL</th>\n",
       "      <th>PROT</th>\n",
       "      <th>ALP</th>\n",
       "      <th>ALT</th>\n",
       "      <th>AST</th>\n",
       "      <th>BIL</th>\n",
       "      <th>CREA</th>\n",
       "      <th>GGT</th>\n",
       "      <th>Sex</th>\n",
       "    </tr>\n",
       "  </thead>\n",
       "  <tbody>\n",
       "    <tr>\n",
       "      <th>count</th>\n",
       "      <td>120.0</td>\n",
       "      <td>120.0</td>\n",
       "      <td>120.0</td>\n",
       "      <td>120.0</td>\n",
       "      <td>120.0</td>\n",
       "      <td>120.0</td>\n",
       "      <td>120.0</td>\n",
       "      <td>120.0</td>\n",
       "      <td>120.0</td>\n",
       "      <td>120.0</td>\n",
       "      <td>120.0</td>\n",
       "      <td>120.0</td>\n",
       "    </tr>\n",
       "    <tr>\n",
       "      <th>mean</th>\n",
       "      <td>0.1</td>\n",
       "      <td>-0.1</td>\n",
       "      <td>-0.0</td>\n",
       "      <td>-0.1</td>\n",
       "      <td>-0.3</td>\n",
       "      <td>0.0</td>\n",
       "      <td>0.1</td>\n",
       "      <td>0.2</td>\n",
       "      <td>0.0</td>\n",
       "      <td>-0.3</td>\n",
       "      <td>-0.1</td>\n",
       "      <td>0.3</td>\n",
       "    </tr>\n",
       "    <tr>\n",
       "      <th>std</th>\n",
       "      <td>1.0</td>\n",
       "      <td>0.9</td>\n",
       "      <td>1.0</td>\n",
       "      <td>0.9</td>\n",
       "      <td>1.1</td>\n",
       "      <td>0.9</td>\n",
       "      <td>1.0</td>\n",
       "      <td>0.9</td>\n",
       "      <td>1.0</td>\n",
       "      <td>4.0</td>\n",
       "      <td>0.9</td>\n",
       "      <td>0.5</td>\n",
       "    </tr>\n",
       "    <tr>\n",
       "      <th>min</th>\n",
       "      <td>-1.5</td>\n",
       "      <td>-2.9</td>\n",
       "      <td>-3.1</td>\n",
       "      <td>-3.5</td>\n",
       "      <td>-4.0</td>\n",
       "      <td>-2.5</td>\n",
       "      <td>-4.0</td>\n",
       "      <td>-1.8</td>\n",
       "      <td>-2.5</td>\n",
       "      <td>-42.8</td>\n",
       "      <td>-2.4</td>\n",
       "      <td>0.0</td>\n",
       "    </tr>\n",
       "    <tr>\n",
       "      <th>25%</th>\n",
       "      <td>-0.8</td>\n",
       "      <td>-0.6</td>\n",
       "      <td>-0.6</td>\n",
       "      <td>-0.8</td>\n",
       "      <td>-0.8</td>\n",
       "      <td>-0.7</td>\n",
       "      <td>-0.4</td>\n",
       "      <td>-0.4</td>\n",
       "      <td>-0.6</td>\n",
       "      <td>-0.6</td>\n",
       "      <td>-0.8</td>\n",
       "      <td>0.0</td>\n",
       "    </tr>\n",
       "    <tr>\n",
       "      <th>50%</th>\n",
       "      <td>0.2</td>\n",
       "      <td>-0.0</td>\n",
       "      <td>-0.0</td>\n",
       "      <td>-0.1</td>\n",
       "      <td>-0.2</td>\n",
       "      <td>0.2</td>\n",
       "      <td>0.1</td>\n",
       "      <td>0.2</td>\n",
       "      <td>0.1</td>\n",
       "      <td>0.1</td>\n",
       "      <td>-0.1</td>\n",
       "      <td>0.0</td>\n",
       "    </tr>\n",
       "    <tr>\n",
       "      <th>75%</th>\n",
       "      <td>0.7</td>\n",
       "      <td>0.6</td>\n",
       "      <td>0.6</td>\n",
       "      <td>0.6</td>\n",
       "      <td>0.4</td>\n",
       "      <td>0.7</td>\n",
       "      <td>0.6</td>\n",
       "      <td>0.6</td>\n",
       "      <td>0.7</td>\n",
       "      <td>0.7</td>\n",
       "      <td>0.5</td>\n",
       "      <td>1.0</td>\n",
       "    </tr>\n",
       "    <tr>\n",
       "      <th>max</th>\n",
       "      <td>2.9</td>\n",
       "      <td>1.7</td>\n",
       "      <td>3.3</td>\n",
       "      <td>2.1</td>\n",
       "      <td>2.0</td>\n",
       "      <td>1.8</td>\n",
       "      <td>2.8</td>\n",
       "      <td>2.4</td>\n",
       "      <td>2.7</td>\n",
       "      <td>2.1</td>\n",
       "      <td>1.8</td>\n",
       "      <td>1.0</td>\n",
       "    </tr>\n",
       "  </tbody>\n",
       "</table>\n",
       "</div>"
      ],
      "text/plain": [
       "       Age    ALB   CHE  CHOL  PROT   ALP   ALT   AST   BIL  CREA   GGT   Sex\n",
       "count 120.0 120.0 120.0 120.0 120.0 120.0 120.0 120.0 120.0 120.0 120.0 120.0\n",
       "mean    0.1  -0.1  -0.0  -0.1  -0.3   0.0   0.1   0.2   0.0  -0.3  -0.1   0.3\n",
       "std     1.0   0.9   1.0   0.9   1.1   0.9   1.0   0.9   1.0   4.0   0.9   0.5\n",
       "min    -1.5  -2.9  -3.1  -3.5  -4.0  -2.5  -4.0  -1.8  -2.5 -42.8  -2.4   0.0\n",
       "25%    -0.8  -0.6  -0.6  -0.8  -0.8  -0.7  -0.4  -0.4  -0.6  -0.6  -0.8   0.0\n",
       "50%     0.2  -0.0  -0.0  -0.1  -0.2   0.2   0.1   0.2   0.1   0.1  -0.1   0.0\n",
       "75%     0.7   0.6   0.6   0.6   0.4   0.7   0.6   0.6   0.7   0.7   0.5   1.0\n",
       "max     2.9   1.7   3.3   2.1   2.0   1.8   2.8   2.4   2.7   2.1   1.8   1.0"
      ]
     },
     "metadata": {},
     "output_type": "display_data"
    },
    {
     "name": "stdout",
     "output_type": "stream",
     "text": [
      "Training targets summary:\n"
     ]
    },
    {
     "data": {
      "text/html": [
       "<div>\n",
       "<style scoped>\n",
       "    .dataframe tbody tr th:only-of-type {\n",
       "        vertical-align: middle;\n",
       "    }\n",
       "\n",
       "    .dataframe tbody tr th {\n",
       "        vertical-align: top;\n",
       "    }\n",
       "\n",
       "    .dataframe thead th {\n",
       "        text-align: right;\n",
       "    }\n",
       "</style>\n",
       "<table border=\"1\" class=\"dataframe\">\n",
       "  <thead>\n",
       "    <tr style=\"text-align: right;\">\n",
       "      <th></th>\n",
       "      <th>Category_0=Blood Donor</th>\n",
       "      <th>Category_1=Hepatitis</th>\n",
       "      <th>Category_2=Fibrosis</th>\n",
       "      <th>Category_3=Cirrhosis</th>\n",
       "    </tr>\n",
       "  </thead>\n",
       "  <tbody>\n",
       "    <tr>\n",
       "      <th>0</th>\n",
       "      <td>57</td>\n",
       "      <td>458</td>\n",
       "      <td>461</td>\n",
       "      <td>455</td>\n",
       "    </tr>\n",
       "    <tr>\n",
       "      <th>1</th>\n",
       "      <td>420</td>\n",
       "      <td>19</td>\n",
       "      <td>16</td>\n",
       "      <td>22</td>\n",
       "    </tr>\n",
       "  </tbody>\n",
       "</table>\n",
       "</div>"
      ],
      "text/plain": [
       "   Category_0=Blood Donor  Category_1=Hepatitis  Category_2=Fibrosis  \\\n",
       "0                      57                   458                  461   \n",
       "1                     420                    19                   16   \n",
       "\n",
       "   Category_3=Cirrhosis  \n",
       "0                   455  \n",
       "1                    22  "
      ]
     },
     "metadata": {},
     "output_type": "display_data"
    },
    {
     "name": "stdout",
     "output_type": "stream",
     "text": [
      "Validation targets summary:\n"
     ]
    },
    {
     "data": {
      "text/html": [
       "<div>\n",
       "<style scoped>\n",
       "    .dataframe tbody tr th:only-of-type {\n",
       "        vertical-align: middle;\n",
       "    }\n",
       "\n",
       "    .dataframe tbody tr th {\n",
       "        vertical-align: top;\n",
       "    }\n",
       "\n",
       "    .dataframe thead th {\n",
       "        text-align: right;\n",
       "    }\n",
       "</style>\n",
       "<table border=\"1\" class=\"dataframe\">\n",
       "  <thead>\n",
       "    <tr style=\"text-align: right;\">\n",
       "      <th></th>\n",
       "      <th>Category_0=Blood Donor</th>\n",
       "      <th>Category_1=Hepatitis</th>\n",
       "      <th>Category_2=Fibrosis</th>\n",
       "      <th>Category_3=Cirrhosis</th>\n",
       "    </tr>\n",
       "  </thead>\n",
       "  <tbody>\n",
       "    <tr>\n",
       "      <th>0</th>\n",
       "      <td>14</td>\n",
       "      <td>116</td>\n",
       "      <td>116</td>\n",
       "      <td>114</td>\n",
       "    </tr>\n",
       "    <tr>\n",
       "      <th>1</th>\n",
       "      <td>106</td>\n",
       "      <td>4</td>\n",
       "      <td>4</td>\n",
       "      <td>6</td>\n",
       "    </tr>\n",
       "  </tbody>\n",
       "</table>\n",
       "</div>"
      ],
      "text/plain": [
       "   Category_0=Blood Donor  Category_1=Hepatitis  Category_2=Fibrosis  \\\n",
       "0                      14                   116                  116   \n",
       "1                     106                     4                    4   \n",
       "\n",
       "   Category_3=Cirrhosis  \n",
       "0                   114  \n",
       "1                     6  "
      ]
     },
     "metadata": {},
     "output_type": "display_data"
    }
   ],
   "source": [
    "# Double-check that we've done the right thing.\n",
    "print(\"Training examples summary:\")\n",
    "display.display(X_train.describe())\n",
    "print(\"Validation examples summary:\")\n",
    "display.display(X_test.describe())\n",
    "\n",
    "print(\"Training targets summary:\")\n",
    "display.display(y_train.apply(pd.value_counts))\n",
    "print(\"Validation targets summary:\")\n",
    "#display.display(y_test.describe())\n",
    "display.display(y_test.apply(pd.value_counts))"
   ]
  },
  {
   "cell_type": "markdown",
   "metadata": {
    "id": "tECVdWfAOIwI"
   },
   "source": [
    "### Step 4: Build Model\n",
    "\n",
    "https://www.tensorflow.org/api_docs/python/tf/keras/Model\n",
    "\n",
    "https://www.tensorflow.org/api_docs/python/tf/keras/layers/Dense\n",
    "\n",
    "https://keras.io/optimizers/"
   ]
  },
  {
   "cell_type": "code",
   "execution_count": 29,
   "metadata": {
    "colab": {
     "base_uri": "https://localhost:8080/"
    },
    "executionInfo": {
     "elapsed": 242,
     "status": "ok",
     "timestamp": 1632507321064,
     "user": {
      "displayName": "Surendra Sarnikar",
      "photoUrl": "https://lh3.googleusercontent.com/a/default-user=s64",
      "userId": "09092883169352991840"
     },
     "user_tz": 420
    },
    "id": "xAGftzfw5eE_",
    "outputId": "64eba45b-0de9-41fc-aa10-345f3282ca3c"
   },
   "outputs": [
    {
     "data": {
      "text/plain": [
       "(477, 12)"
      ]
     },
     "execution_count": 29,
     "metadata": {},
     "output_type": "execute_result"
    }
   ],
   "source": [
    "X_train.shape\n",
    "\n",
    "#training_targets.shape"
   ]
  },
  {
   "cell_type": "code",
   "execution_count": 30,
   "metadata": {
    "colab": {
     "base_uri": "https://localhost:8080/"
    },
    "executionInfo": {
     "elapsed": 263,
     "status": "ok",
     "timestamp": 1632507326258,
     "user": {
      "displayName": "Surendra Sarnikar",
      "photoUrl": "https://lh3.googleusercontent.com/a/default-user=s64",
      "userId": "09092883169352991840"
     },
     "user_tz": 420
    },
    "id": "LhJOH_nzsHSX",
    "outputId": "62024535-16a3-4061-d01f-11c5eccc08f3"
   },
   "outputs": [
    {
     "data": {
      "text/plain": [
       "Age     float64\n",
       "ALB     float64\n",
       "CHE     float64\n",
       "CHOL    float64\n",
       "PROT    float64\n",
       "ALP     float64\n",
       "ALT     float64\n",
       "AST     float64\n",
       "BIL     float64\n",
       "CREA    float64\n",
       "GGT     float64\n",
       "Sex     float64\n",
       "dtype: object"
      ]
     },
     "execution_count": 30,
     "metadata": {},
     "output_type": "execute_result"
    }
   ],
   "source": [
    "#y_train.head(5)\n",
    "X_train.dtypes"
   ]
  },
  {
   "cell_type": "markdown",
   "metadata": {
    "id": "nft_KuzMf2Ed"
   },
   "source": [
    "**Build Model**"
   ]
  },
  {
   "cell_type": "code",
   "execution_count": 31,
   "metadata": {
    "colab": {
     "base_uri": "https://localhost:8080/"
    },
    "executionInfo": {
     "elapsed": 1097,
     "status": "ok",
     "timestamp": 1632507359424,
     "user": {
      "displayName": "Surendra Sarnikar",
      "photoUrl": "https://lh3.googleusercontent.com/a/default-user=s64",
      "userId": "09092883169352991840"
     },
     "user_tz": 420
    },
    "id": "ZACG8TyLHkBN",
    "outputId": "0ff1400c-576f-4b68-a1f8-730be25c7969"
   },
   "outputs": [
    {
     "name": "stdout",
     "output_type": "stream",
     "text": [
      "Model: \"sequential\"\n",
      "_________________________________________________________________\n",
      "Layer (type)                 Output Shape              Param #   \n",
      "=================================================================\n",
      "dense (Dense)                (None, 32)                416       \n",
      "_________________________________________________________________\n",
      "dense_1 (Dense)              (None, 8)                 264       \n",
      "_________________________________________________________________\n",
      "dense_2 (Dense)              (None, 4)                 36        \n",
      "=================================================================\n",
      "Total params: 716\n",
      "Trainable params: 716\n",
      "Non-trainable params: 0\n",
      "_________________________________________________________________\n"
     ]
    }
   ],
   "source": [
    "simplemodel = keras.Sequential([\n",
    "    keras.layers.Dense(32, activation=tf.nn.relu,\n",
    "                       input_shape=(X_train.shape[1],)),\n",
    "    keras.layers.Dense(8, activation=tf.nn.relu),\n",
    "    keras.layers.Dense(4, activation=tf.nn.softmax)\n",
    "\n",
    "  ])\n",
    "\n",
    "\n",
    "simplemodel.compile(loss=keras.losses.CategoricalCrossentropy(),\n",
    "                optimizer=\"adam\",\n",
    "                metrics=['accuracy'])\n",
    "simplemodel.summary()"
   ]
  },
  {
   "cell_type": "markdown",
   "metadata": {
    "id": "jen50nuhf6lw"
   },
   "source": [
    "**Fit Model**"
   ]
  },
  {
   "cell_type": "code",
   "execution_count": 32,
   "metadata": {
    "colab": {
     "base_uri": "https://localhost:8080/"
    },
    "executionInfo": {
     "elapsed": 4540,
     "status": "ok",
     "timestamp": 1632507382085,
     "user": {
      "displayName": "Surendra Sarnikar",
      "photoUrl": "https://lh3.googleusercontent.com/a/default-user=s64",
      "userId": "09092883169352991840"
     },
     "user_tz": 420
    },
    "id": "eLZkzMbzHzTn",
    "outputId": "f64df834-6e61-4bc7-e146-1f3c9e78750d"
   },
   "outputs": [
    {
     "name": "stdout",
     "output_type": "stream",
     "text": [
      "Epoch 1/50\n",
      "15/15 [==============================] - 1s 17ms/step - loss: 1.4223 - accuracy: 0.3354 - val_loss: 1.2597 - val_accuracy: 0.4917\n",
      "Epoch 2/50\n",
      "15/15 [==============================] - 0s 3ms/step - loss: 1.1115 - accuracy: 0.5975 - val_loss: 0.9691 - val_accuracy: 0.7750\n",
      "Epoch 3/50\n",
      "15/15 [==============================] - 0s 4ms/step - loss: 0.8757 - accuracy: 0.8302 - val_loss: 0.7728 - val_accuracy: 0.8917\n",
      "Epoch 4/50\n",
      "15/15 [==============================] - 0s 4ms/step - loss: 0.7099 - accuracy: 0.9036 - val_loss: 0.6349 - val_accuracy: 0.9167\n",
      "Epoch 5/50\n",
      "15/15 [==============================] - 0s 4ms/step - loss: 0.5897 - accuracy: 0.9057 - val_loss: 0.5358 - val_accuracy: 0.9250\n",
      "Epoch 6/50\n",
      "15/15 [==============================] - 0s 4ms/step - loss: 0.5019 - accuracy: 0.9057 - val_loss: 0.4610 - val_accuracy: 0.9250\n",
      "Epoch 7/50\n",
      "15/15 [==============================] - 0s 3ms/step - loss: 0.4324 - accuracy: 0.9078 - val_loss: 0.4039 - val_accuracy: 0.9250\n",
      "Epoch 8/50\n",
      "15/15 [==============================] - 0s 3ms/step - loss: 0.3760 - accuracy: 0.9119 - val_loss: 0.3610 - val_accuracy: 0.9250\n",
      "Epoch 9/50\n",
      "15/15 [==============================] - 0s 3ms/step - loss: 0.3323 - accuracy: 0.9140 - val_loss: 0.3275 - val_accuracy: 0.9250\n",
      "Epoch 10/50\n",
      "15/15 [==============================] - 0s 4ms/step - loss: 0.2995 - accuracy: 0.9140 - val_loss: 0.3020 - val_accuracy: 0.9250\n",
      "Epoch 11/50\n",
      "15/15 [==============================] - 0s 3ms/step - loss: 0.2738 - accuracy: 0.9203 - val_loss: 0.2818 - val_accuracy: 0.9250\n",
      "Epoch 12/50\n",
      "15/15 [==============================] - 0s 5ms/step - loss: 0.2527 - accuracy: 0.9203 - val_loss: 0.2662 - val_accuracy: 0.9250\n",
      "Epoch 13/50\n",
      "15/15 [==============================] - 0s 5ms/step - loss: 0.2360 - accuracy: 0.9245 - val_loss: 0.2536 - val_accuracy: 0.9250\n",
      "Epoch 14/50\n",
      "15/15 [==============================] - 0s 4ms/step - loss: 0.2222 - accuracy: 0.9245 - val_loss: 0.2438 - val_accuracy: 0.9250\n",
      "Epoch 15/50\n",
      "15/15 [==============================] - 0s 5ms/step - loss: 0.2111 - accuracy: 0.9266 - val_loss: 0.2347 - val_accuracy: 0.9250\n",
      "Epoch 16/50\n",
      "15/15 [==============================] - 0s 3ms/step - loss: 0.2013 - accuracy: 0.9266 - val_loss: 0.2273 - val_accuracy: 0.9250\n",
      "Epoch 17/50\n",
      "15/15 [==============================] - 0s 4ms/step - loss: 0.1928 - accuracy: 0.9266 - val_loss: 0.2215 - val_accuracy: 0.9250\n",
      "Epoch 18/50\n",
      "15/15 [==============================] - 0s 3ms/step - loss: 0.1847 - accuracy: 0.9287 - val_loss: 0.2165 - val_accuracy: 0.9250\n",
      "Epoch 19/50\n",
      "15/15 [==============================] - 0s 3ms/step - loss: 0.1786 - accuracy: 0.9308 - val_loss: 0.2124 - val_accuracy: 0.9250\n",
      "Epoch 20/50\n",
      "15/15 [==============================] - 0s 3ms/step - loss: 0.1725 - accuracy: 0.9329 - val_loss: 0.2083 - val_accuracy: 0.9333\n",
      "Epoch 21/50\n",
      "15/15 [==============================] - 0s 3ms/step - loss: 0.1669 - accuracy: 0.9350 - val_loss: 0.2054 - val_accuracy: 0.9417\n",
      "Epoch 22/50\n",
      "15/15 [==============================] - 0s 4ms/step - loss: 0.1620 - accuracy: 0.9392 - val_loss: 0.2021 - val_accuracy: 0.9417\n",
      "Epoch 23/50\n",
      "15/15 [==============================] - 0s 3ms/step - loss: 0.1572 - accuracy: 0.9392 - val_loss: 0.1997 - val_accuracy: 0.9417\n",
      "Epoch 24/50\n",
      "15/15 [==============================] - 0s 4ms/step - loss: 0.1526 - accuracy: 0.9434 - val_loss: 0.1973 - val_accuracy: 0.9500\n",
      "Epoch 25/50\n",
      "15/15 [==============================] - 0s 4ms/step - loss: 0.1484 - accuracy: 0.9476 - val_loss: 0.1951 - val_accuracy: 0.9500\n",
      "Epoch 26/50\n",
      "15/15 [==============================] - 0s 4ms/step - loss: 0.1437 - accuracy: 0.9497 - val_loss: 0.1925 - val_accuracy: 0.9500\n",
      "Epoch 27/50\n",
      "15/15 [==============================] - 0s 4ms/step - loss: 0.1395 - accuracy: 0.9497 - val_loss: 0.1908 - val_accuracy: 0.9583\n",
      "Epoch 28/50\n",
      "15/15 [==============================] - 0s 4ms/step - loss: 0.1347 - accuracy: 0.9581 - val_loss: 0.1881 - val_accuracy: 0.9583\n",
      "Epoch 29/50\n",
      "15/15 [==============================] - 0s 3ms/step - loss: 0.1307 - accuracy: 0.9602 - val_loss: 0.1862 - val_accuracy: 0.9583\n",
      "Epoch 30/50\n",
      "15/15 [==============================] - 0s 5ms/step - loss: 0.1263 - accuracy: 0.9602 - val_loss: 0.1846 - val_accuracy: 0.9583\n",
      "Epoch 31/50\n",
      "15/15 [==============================] - 0s 3ms/step - loss: 0.1225 - accuracy: 0.9602 - val_loss: 0.1831 - val_accuracy: 0.9583\n",
      "Epoch 32/50\n",
      "15/15 [==============================] - 0s 4ms/step - loss: 0.1185 - accuracy: 0.9623 - val_loss: 0.1812 - val_accuracy: 0.9667\n",
      "Epoch 33/50\n",
      "15/15 [==============================] - 0s 3ms/step - loss: 0.1146 - accuracy: 0.9644 - val_loss: 0.1796 - val_accuracy: 0.9667\n",
      "Epoch 34/50\n",
      "15/15 [==============================] - 0s 3ms/step - loss: 0.1107 - accuracy: 0.9686 - val_loss: 0.1770 - val_accuracy: 0.9667\n",
      "Epoch 35/50\n",
      "15/15 [==============================] - 0s 5ms/step - loss: 0.1068 - accuracy: 0.9727 - val_loss: 0.1767 - val_accuracy: 0.9667\n",
      "Epoch 36/50\n",
      "15/15 [==============================] - 0s 3ms/step - loss: 0.1028 - accuracy: 0.9748 - val_loss: 0.1751 - val_accuracy: 0.9750\n",
      "Epoch 37/50\n",
      "15/15 [==============================] - 0s 4ms/step - loss: 0.0995 - accuracy: 0.9748 - val_loss: 0.1734 - val_accuracy: 0.9750\n",
      "Epoch 38/50\n",
      "15/15 [==============================] - 0s 4ms/step - loss: 0.0955 - accuracy: 0.9769 - val_loss: 0.1721 - val_accuracy: 0.9750\n",
      "Epoch 39/50\n",
      "15/15 [==============================] - 0s 3ms/step - loss: 0.0918 - accuracy: 0.9769 - val_loss: 0.1720 - val_accuracy: 0.9750\n",
      "Epoch 40/50\n",
      "15/15 [==============================] - 0s 4ms/step - loss: 0.0885 - accuracy: 0.9769 - val_loss: 0.1716 - val_accuracy: 0.9750\n",
      "Epoch 41/50\n",
      "15/15 [==============================] - 0s 3ms/step - loss: 0.0850 - accuracy: 0.9790 - val_loss: 0.1713 - val_accuracy: 0.9667\n",
      "Epoch 42/50\n",
      "15/15 [==============================] - 0s 4ms/step - loss: 0.0822 - accuracy: 0.9790 - val_loss: 0.1709 - val_accuracy: 0.9750\n",
      "Epoch 43/50\n",
      "15/15 [==============================] - 0s 3ms/step - loss: 0.0792 - accuracy: 0.9790 - val_loss: 0.1711 - val_accuracy: 0.9667\n",
      "Epoch 44/50\n",
      "15/15 [==============================] - 0s 4ms/step - loss: 0.0770 - accuracy: 0.9790 - val_loss: 0.1711 - val_accuracy: 0.9667\n",
      "Epoch 45/50\n",
      "15/15 [==============================] - 0s 4ms/step - loss: 0.0744 - accuracy: 0.9790 - val_loss: 0.1718 - val_accuracy: 0.9667\n",
      "Epoch 46/50\n",
      "15/15 [==============================] - 0s 3ms/step - loss: 0.0723 - accuracy: 0.9769 - val_loss: 0.1725 - val_accuracy: 0.9667\n",
      "Epoch 47/50\n",
      "15/15 [==============================] - 0s 3ms/step - loss: 0.0702 - accuracy: 0.9790 - val_loss: 0.1709 - val_accuracy: 0.9667\n",
      "Epoch 48/50\n",
      "15/15 [==============================] - 0s 5ms/step - loss: 0.0683 - accuracy: 0.9790 - val_loss: 0.1735 - val_accuracy: 0.9667\n",
      "Epoch 49/50\n",
      "15/15 [==============================] - 0s 4ms/step - loss: 0.0663 - accuracy: 0.9769 - val_loss: 0.1741 - val_accuracy: 0.9667\n",
      "Epoch 50/50\n",
      "15/15 [==============================] - 0s 4ms/step - loss: 0.0645 - accuracy: 0.9769 - val_loss: 0.1744 - val_accuracy: 0.9667\n"
     ]
    }
   ],
   "source": [
    "class PrintDot(keras.callbacks.Callback):\n",
    "  def on_epoch_end(self, epoch, logs):\n",
    "    if epoch % 100 == 0: print('')\n",
    "    print('.', end='')\n",
    "simplemodel.reset_states()\n",
    "EPOCHS = 50\n",
    "s_history = simplemodel.fit(X_train, y_train, epochs=EPOCHS,\n",
    "                    validation_data= (X_test, y_test), verbose=1)\n"
   ]
  },
  {
   "cell_type": "markdown",
   "metadata": {
    "id": "Y5j5LJ-Igqae"
   },
   "source": [
    "**Lowest Validation Error**"
   ]
  },
  {
   "cell_type": "code",
   "execution_count": 33,
   "metadata": {
    "colab": {
     "base_uri": "https://localhost:8080/"
    },
    "executionInfo": {
     "elapsed": 386,
     "status": "ok",
     "timestamp": 1632507495517,
     "user": {
      "displayName": "Surendra Sarnikar",
      "photoUrl": "https://lh3.googleusercontent.com/a/default-user=s64",
      "userId": "09092883169352991840"
     },
     "user_tz": 420
    },
    "id": "mF6t5NkGM_iR",
    "outputId": "90aeba42-b961-4d17-acaa-9fcdd17f7826"
   },
   "outputs": [
    {
     "name": "stdout",
     "output_type": "stream",
     "text": [
      "0.9750000238418579\n"
     ]
    }
   ],
   "source": [
    "print(max(s_history.history['val_accuracy']))"
   ]
  },
  {
   "cell_type": "markdown",
   "metadata": {
    "id": "h6Mjw8AaOQBf"
   },
   "source": [
    "### Step 5: Plot Results"
   ]
  },
  {
   "cell_type": "code",
   "execution_count": 34,
   "metadata": {
    "colab": {
     "base_uri": "https://localhost:8080/",
     "height": 610
    },
    "executionInfo": {
     "elapsed": 623,
     "status": "ok",
     "timestamp": 1632507507362,
     "user": {
      "displayName": "Surendra Sarnikar",
      "photoUrl": "https://lh3.googleusercontent.com/a/default-user=s64",
      "userId": "09092883169352991840"
     },
     "user_tz": 420
    },
    "id": "TCdEDQM0ICnb",
    "outputId": "55917e16-73b5-4c51-da49-1ffff6eea326"
   },
   "outputs": [
    {
     "data": {
      "image/png": "[encoded data removed]",
      "text/plain": [
       "<Figure size 1152x720 with 1 Axes>"
      ]
     },
     "metadata": {
      "needs_background": "light"
     },
     "output_type": "display_data"
    }
   ],
   "source": [
    "import matplotlib.pyplot as plt\n",
    "\n",
    "\n",
    "def plot_history(histories, key='loss'):\n",
    "  plt.figure(figsize=(16,10))\n",
    "  for name, history in histories:\n",
    "    val = plt.plot(history.epoch, history.history['val_'+key],\n",
    "                   '--', label=name.title()+' Val')\n",
    "    plt.plot(history.epoch, history.history[key], color=val[0].get_color(),\n",
    "             label=name.title()+' Train')\n",
    "\n",
    "  plt.xlabel('Epochs')\n",
    "  plt.ylabel(key.replace('_',' ').title())\n",
    "  plt.legend()\n",
    "\n",
    "  plt.xlim([0,max(history.epoch)])\n",
    "  plt.ylim([0,2])\n",
    "\n",
    "plot_history([('simple', s_history)])\n",
    "\n",
    "  "
   ]
  },
  {
   "cell_type": "markdown",
   "metadata": {
    "id": "GnTknKO-gz7M"
   },
   "source": [
    "### Predictions"
   ]
  },
  {
   "cell_type": "code",
   "execution_count": 35,
   "metadata": {
    "colab": {
     "base_uri": "https://localhost:8080/"
    },
    "executionInfo": {
     "elapsed": 270,
     "status": "ok",
     "timestamp": 1632507563783,
     "user": {
      "displayName": "Surendra Sarnikar",
      "photoUrl": "https://lh3.googleusercontent.com/a/default-user=s64",
      "userId": "09092883169352991840"
     },
     "user_tz": 420
    },
    "id": "99szp1XSO8f1",
    "outputId": "2a6ae588-004c-47d9-ebc2-e830ea6c5515"
   },
   "outputs": [
    {
     "name": "stdout",
     "output_type": "stream",
     "text": [
      "[[9.99998093e-01 1.95623807e-06 1.74732850e-08 4.73063650e-08]\n",
      " [9.99200881e-01 3.02836328e-04 3.59412079e-04 1.36996037e-04]\n",
      " [9.75647092e-01 2.17637438e-02 1.39559130e-03 1.19350199e-03]\n",
      " ...\n",
      " [2.43528537e-03 5.87493777e-01 3.49858344e-01 6.02125786e-02]\n",
      " [9.98814702e-01 1.00525643e-03 6.66025007e-05 1.13503396e-04]\n",
      " [9.99775469e-01 1.32346686e-04 5.06953875e-05 4.15648246e-05]]\n"
     ]
    }
   ],
   "source": [
    "trainpreds = simplemodel.predict_on_batch(X_train)\n",
    "print(trainpreds)"
   ]
  },
  {
   "cell_type": "code",
   "execution_count": null,
   "metadata": {
    "id": "R2As4-FNc99b"
   },
   "outputs": [],
   "source": [
    "valpreds = simplemodel.predict_on_batch(X_test)\n",
    "print(valpreds)"
   ]
  },
  {
   "cell_type": "code",
   "execution_count": 44,
   "metadata": {
    "colab": {
     "base_uri": "https://localhost:8080/",
     "height": 282
    },
    "executionInfo": {
     "elapsed": 534,
     "status": "ok",
     "timestamp": 1632508107845,
     "user": {
      "displayName": "Surendra Sarnikar",
      "photoUrl": "https://lh3.googleusercontent.com/a/default-user=s64",
      "userId": "09092883169352991840"
     },
     "user_tz": 420
    },
    "id": "Zw9T2kpaJI_e",
    "outputId": "249fdb09-eb89-4b3d-e6fd-643f7920e16f"
   },
   "outputs": [
    {
     "data": {
      "text/plain": [
       "<BarContainer object of 32 artists>"
      ]
     },
     "execution_count": 44,
     "metadata": {},
     "output_type": "execute_result"
    },
    {
     "data": {
      "image/png": "[encoded data removed]",
      "text/plain": [
       "<Figure size 432x288 with 1 Axes>"
      ]
     },
     "metadata": {
      "needs_background": "light"
     },
     "output_type": "display_data"
    }
   ],
   "source": [
    "# Plot Weights\n",
    "#nfw = simplemodel.get_weights()[0][0]\n",
    "nfw = l1_model.get_weights()[0][0]\n",
    "y_pos = np.arange(len(nfw))\n",
    " \n",
    "plt.bar(y_pos, nfw, align='center', alpha=0.5)"
   ]
  },
  {
   "cell_type": "markdown",
   "metadata": {
    "id": "yhQZAKbAy9NT"
   },
   "source": [
    "### Regularized Model"
   ]
  },
  {
   "cell_type": "code",
   "execution_count": 45,
   "metadata": {
    "executionInfo": {
     "elapsed": 269,
     "status": "ok",
     "timestamp": 1632508222040,
     "user": {
      "displayName": "Surendra Sarnikar",
      "photoUrl": "https://lh3.googleusercontent.com/a/default-user=s64",
      "userId": "09092883169352991840"
     },
     "user_tz": 420
    },
    "id": "k-m_sxmmzEKW"
   },
   "outputs": [],
   "source": [
    "l1_model = keras.Sequential([\n",
    "    keras.layers.Dense(32, use_bias=True, kernel_regularizer=keras.regularizers.l2(0.01),activation=tf.nn.relu,\n",
    "                       input_shape=(X_train.shape[1],)),\n",
    "    keras.layers.Dropout(0.25),\n",
    "    keras.layers.Dense(32, use_bias=True,kernel_regularizer=keras.regularizers.l2(0.01), activation=tf.nn.relu),\n",
    "    keras.layers.Dropout(0.25),\n",
    "    keras.layers.Dense(32, use_bias=True,kernel_regularizer=keras.regularizers.l2(0.01), activation=tf.nn.relu),\n",
    "    keras.layers.Dropout(0.25),\n",
    "    keras.layers.Dense(16,kernel_regularizer=keras.regularizers.l2(0.01), activation=tf.nn.relu),\n",
    "    keras.layers.Dropout(0.1),\n",
    "    keras.layers.Dense(4, activation=tf.nn.softmax)\n",
    "  ])\n",
    "\n",
    "l1_model.compile(loss=keras.losses.CategoricalCrossentropy(),\n",
    "                optimizer=\"adam\",\n",
    "                metrics=['accuracy'])"
   ]
  },
  {
   "cell_type": "code",
   "execution_count": 46,
   "metadata": {
    "colab": {
     "base_uri": "https://localhost:8080/"
    },
    "executionInfo": {
     "elapsed": 6054,
     "status": "ok",
     "timestamp": 1632508233114,
     "user": {
      "displayName": "Surendra Sarnikar",
      "photoUrl": "https://lh3.googleusercontent.com/a/default-user=s64",
      "userId": "09092883169352991840"
     },
     "user_tz": 420
    },
    "id": "RXhA8-fKzdMf",
    "outputId": "f73728db-d4e7-4da3-ad02-fd33dc4e085f"
   },
   "outputs": [
    {
     "name": "stdout",
     "output_type": "stream",
     "text": [
      "Epoch 1/50\n",
      "15/15 [==============================] - 1s 19ms/step - loss: 2.3870 - accuracy: 0.2096 - val_loss: 2.2328 - val_accuracy: 0.7583\n",
      "Epoch 2/50\n",
      "15/15 [==============================] - 0s 4ms/step - loss: 2.1217 - accuracy: 0.6730 - val_loss: 1.9622 - val_accuracy: 0.8917\n",
      "Epoch 3/50\n",
      "15/15 [==============================] - 0s 4ms/step - loss: 1.8409 - accuracy: 0.8637 - val_loss: 1.6238 - val_accuracy: 0.8833\n",
      "Epoch 4/50\n",
      "15/15 [==============================] - 0s 5ms/step - loss: 1.5157 - accuracy: 0.8805 - val_loss: 1.3330 - val_accuracy: 0.8833\n",
      "Epoch 5/50\n",
      "15/15 [==============================] - 0s 5ms/step - loss: 1.3509 - accuracy: 0.8805 - val_loss: 1.1956 - val_accuracy: 0.8833\n",
      "Epoch 6/50\n",
      "15/15 [==============================] - 0s 4ms/step - loss: 1.2338 - accuracy: 0.8805 - val_loss: 1.1083 - val_accuracy: 0.8833\n",
      "Epoch 7/50\n",
      "15/15 [==============================] - 0s 5ms/step - loss: 1.1514 - accuracy: 0.8805 - val_loss: 1.0374 - val_accuracy: 0.8833\n",
      "Epoch 8/50\n",
      "15/15 [==============================] - 0s 5ms/step - loss: 1.0897 - accuracy: 0.8826 - val_loss: 0.9758 - val_accuracy: 0.8833\n",
      "Epoch 9/50\n",
      "15/15 [==============================] - 0s 4ms/step - loss: 1.0191 - accuracy: 0.8826 - val_loss: 0.9220 - val_accuracy: 0.8833\n",
      "Epoch 10/50\n",
      "15/15 [==============================] - 0s 5ms/step - loss: 0.9962 - accuracy: 0.8805 - val_loss: 0.8733 - val_accuracy: 0.8833\n",
      "Epoch 11/50\n",
      "15/15 [==============================] - 0s 6ms/step - loss: 0.9125 - accuracy: 0.8805 - val_loss: 0.8322 - val_accuracy: 0.8833\n",
      "Epoch 12/50\n",
      "15/15 [==============================] - 0s 4ms/step - loss: 0.8748 - accuracy: 0.8847 - val_loss: 0.7952 - val_accuracy: 0.8833\n",
      "Epoch 13/50\n",
      "15/15 [==============================] - 0s 5ms/step - loss: 0.8362 - accuracy: 0.8805 - val_loss: 0.7613 - val_accuracy: 0.8917\n",
      "Epoch 14/50\n",
      "15/15 [==============================] - 0s 6ms/step - loss: 0.7860 - accuracy: 0.8889 - val_loss: 0.7312 - val_accuracy: 0.9000\n",
      "Epoch 15/50\n",
      "15/15 [==============================] - 0s 4ms/step - loss: 0.7546 - accuracy: 0.8931 - val_loss: 0.7016 - val_accuracy: 0.9167\n",
      "Epoch 16/50\n",
      "15/15 [==============================] - 0s 4ms/step - loss: 0.7301 - accuracy: 0.8994 - val_loss: 0.6769 - val_accuracy: 0.9167\n",
      "Epoch 17/50\n",
      "15/15 [==============================] - 0s 4ms/step - loss: 0.6882 - accuracy: 0.9057 - val_loss: 0.6540 - val_accuracy: 0.9250\n",
      "Epoch 18/50\n",
      "15/15 [==============================] - 0s 5ms/step - loss: 0.6599 - accuracy: 0.8973 - val_loss: 0.6323 - val_accuracy: 0.9250\n",
      "Epoch 19/50\n",
      "15/15 [==============================] - 0s 5ms/step - loss: 0.6276 - accuracy: 0.9036 - val_loss: 0.6129 - val_accuracy: 0.9250\n",
      "Epoch 20/50\n",
      "15/15 [==============================] - 0s 3ms/step - loss: 0.5998 - accuracy: 0.9015 - val_loss: 0.5948 - val_accuracy: 0.9250\n",
      "Epoch 21/50\n",
      "15/15 [==============================] - 0s 4ms/step - loss: 0.6109 - accuracy: 0.9078 - val_loss: 0.5785 - val_accuracy: 0.9250\n",
      "Epoch 22/50\n",
      "15/15 [==============================] - 0s 5ms/step - loss: 0.5713 - accuracy: 0.8994 - val_loss: 0.5630 - val_accuracy: 0.9250\n",
      "Epoch 23/50\n",
      "15/15 [==============================] - 0s 4ms/step - loss: 0.5536 - accuracy: 0.9119 - val_loss: 0.5481 - val_accuracy: 0.9250\n",
      "Epoch 24/50\n",
      "15/15 [==============================] - 0s 5ms/step - loss: 0.5363 - accuracy: 0.9036 - val_loss: 0.5340 - val_accuracy: 0.9250\n",
      "Epoch 25/50\n",
      "15/15 [==============================] - 0s 4ms/step - loss: 0.5106 - accuracy: 0.9182 - val_loss: 0.5217 - val_accuracy: 0.9250\n",
      "Epoch 26/50\n",
      "15/15 [==============================] - 0s 4ms/step - loss: 0.4950 - accuracy: 0.9140 - val_loss: 0.5103 - val_accuracy: 0.9250\n",
      "Epoch 27/50\n",
      "15/15 [==============================] - 0s 4ms/step - loss: 0.4932 - accuracy: 0.9119 - val_loss: 0.5079 - val_accuracy: 0.9167\n",
      "Epoch 28/50\n",
      "15/15 [==============================] - 0s 5ms/step - loss: 0.4618 - accuracy: 0.9224 - val_loss: 0.4989 - val_accuracy: 0.9167\n",
      "Epoch 29/50\n",
      "15/15 [==============================] - 0s 4ms/step - loss: 0.4506 - accuracy: 0.9224 - val_loss: 0.4935 - val_accuracy: 0.9167\n",
      "Epoch 30/50\n",
      "15/15 [==============================] - 0s 5ms/step - loss: 0.4445 - accuracy: 0.9203 - val_loss: 0.4938 - val_accuracy: 0.9167\n",
      "Epoch 31/50\n",
      "15/15 [==============================] - 0s 7ms/step - loss: 0.4316 - accuracy: 0.9224 - val_loss: 0.4857 - val_accuracy: 0.9083\n",
      "Epoch 32/50\n",
      "15/15 [==============================] - 0s 4ms/step - loss: 0.4235 - accuracy: 0.9182 - val_loss: 0.4694 - val_accuracy: 0.9167\n",
      "Epoch 33/50\n",
      "15/15 [==============================] - 0s 4ms/step - loss: 0.4026 - accuracy: 0.9245 - val_loss: 0.4640 - val_accuracy: 0.9167\n",
      "Epoch 34/50\n",
      "15/15 [==============================] - 0s 4ms/step - loss: 0.3948 - accuracy: 0.9245 - val_loss: 0.4605 - val_accuracy: 0.9167\n",
      "Epoch 35/50\n",
      "15/15 [==============================] - 0s 4ms/step - loss: 0.3906 - accuracy: 0.9224 - val_loss: 0.4567 - val_accuracy: 0.9083\n",
      "Epoch 36/50\n",
      "15/15 [==============================] - 0s 4ms/step - loss: 0.3745 - accuracy: 0.9245 - val_loss: 0.4472 - val_accuracy: 0.9167\n",
      "Epoch 37/50\n",
      "15/15 [==============================] - 0s 4ms/step - loss: 0.3803 - accuracy: 0.9182 - val_loss: 0.4437 - val_accuracy: 0.9167\n",
      "Epoch 38/50\n",
      "15/15 [==============================] - 0s 4ms/step - loss: 0.3666 - accuracy: 0.9266 - val_loss: 0.4380 - val_accuracy: 0.9167\n",
      "Epoch 39/50\n",
      "15/15 [==============================] - 0s 4ms/step - loss: 0.3633 - accuracy: 0.9266 - val_loss: 0.4359 - val_accuracy: 0.9083\n",
      "Epoch 40/50\n",
      "15/15 [==============================] - 0s 4ms/step - loss: 0.3564 - accuracy: 0.9203 - val_loss: 0.4297 - val_accuracy: 0.9083\n",
      "Epoch 41/50\n",
      "15/15 [==============================] - 0s 4ms/step - loss: 0.3458 - accuracy: 0.9224 - val_loss: 0.4212 - val_accuracy: 0.9250\n",
      "Epoch 42/50\n",
      "15/15 [==============================] - 0s 4ms/step - loss: 0.3467 - accuracy: 0.9182 - val_loss: 0.4179 - val_accuracy: 0.9083\n",
      "Epoch 43/50\n",
      "15/15 [==============================] - 0s 5ms/step - loss: 0.3356 - accuracy: 0.9245 - val_loss: 0.4128 - val_accuracy: 0.9167\n",
      "Epoch 44/50\n",
      "15/15 [==============================] - 0s 4ms/step - loss: 0.3437 - accuracy: 0.9245 - val_loss: 0.4085 - val_accuracy: 0.9083\n",
      "Epoch 45/50\n",
      "15/15 [==============================] - 0s 4ms/step - loss: 0.3278 - accuracy: 0.9308 - val_loss: 0.4034 - val_accuracy: 0.9083\n",
      "Epoch 46/50\n",
      "15/15 [==============================] - 0s 4ms/step - loss: 0.3191 - accuracy: 0.9224 - val_loss: 0.3980 - val_accuracy: 0.9167\n",
      "Epoch 47/50\n",
      "15/15 [==============================] - 0s 5ms/step - loss: 0.3093 - accuracy: 0.9287 - val_loss: 0.3952 - val_accuracy: 0.9167\n",
      "Epoch 48/50\n",
      "15/15 [==============================] - 0s 4ms/step - loss: 0.3130 - accuracy: 0.9245 - val_loss: 0.3890 - val_accuracy: 0.9167\n",
      "Epoch 49/50\n",
      "15/15 [==============================] - 0s 4ms/step - loss: 0.3072 - accuracy: 0.9266 - val_loss: 0.3860 - val_accuracy: 0.9167\n",
      "Epoch 50/50\n",
      "15/15 [==============================] - 0s 5ms/step - loss: 0.3085 - accuracy: 0.9245 - val_loss: 0.3849 - val_accuracy: 0.9167\n"
     ]
    }
   ],
   "source": [
    "l1_history = l1_model.fit(X_train, y_train, epochs=EPOCHS,\n",
    "                    validation_data= (X_test, y_test))\n"
   ]
  },
  {
   "cell_type": "code",
   "execution_count": 47,
   "metadata": {
    "colab": {
     "base_uri": "https://localhost:8080/"
    },
    "executionInfo": {
     "elapsed": 261,
     "status": "ok",
     "timestamp": 1632508263200,
     "user": {
      "displayName": "Surendra Sarnikar",
      "photoUrl": "https://lh3.googleusercontent.com/a/default-user=s64",
      "userId": "09092883169352991840"
     },
     "user_tz": 420
    },
    "id": "5vKt2UIvH0h7",
    "outputId": "2364547d-cb38-428c-e957-db0570d5acac"
   },
   "outputs": [
    {
     "name": "stdout",
     "output_type": "stream",
     "text": [
      "0.925000011920929\n"
     ]
    }
   ],
   "source": [
    "print(max(l1_history.history['val_accuracy']))"
   ]
  },
  {
   "cell_type": "code",
   "execution_count": 48,
   "metadata": {
    "colab": {
     "base_uri": "https://localhost:8080/",
     "height": 610
    },
    "executionInfo": {
     "elapsed": 623,
     "status": "ok",
     "timestamp": 1632508271688,
     "user": {
      "displayName": "Surendra Sarnikar",
      "photoUrl": "https://lh3.googleusercontent.com/a/default-user=s64",
      "userId": "09092883169352991840"
     },
     "user_tz": 420
    },
    "id": "ukHszyqQzQkQ",
    "outputId": "4bf9a2bf-29c7-4a35-db39-cad2a15a00fe"
   },
   "outputs": [
    {
     "data": {
      "image/png": "[encoded data removed]",
      "text/plain": [
       "<Figure size 1152x720 with 1 Axes>"
      ]
     },
     "metadata": {
      "needs_background": "light"
     },
     "output_type": "display_data"
    }
   ],
   "source": [
    "# Plot history Multiple\n",
    "plot_history([('Simple', s_history),\n",
    "              ('L1', l1_history)])"
   ]
  },
  {
   "cell_type": "markdown",
   "metadata": {
    "id": "fQtUjk2iJDlH"
   },
   "source": [
    "##Alternative Model"
   ]
  },
  {
   "cell_type": "code",
   "execution_count": 61,
   "metadata": {
    "executionInfo": {
     "elapsed": 279,
     "status": "ok",
     "timestamp": 1632508999365,
     "user": {
      "displayName": "Surendra Sarnikar",
      "photoUrl": "https://lh3.googleusercontent.com/a/default-user=s64",
      "userId": "09092883169352991840"
     },
     "user_tz": 420
    },
    "id": "B-O6--FKfOpd"
   },
   "outputs": [],
   "source": [
    "from keras.callbacks import EarlyStopping\n",
    "\n",
    "early_stopping_monitor = EarlyStopping(\n",
    "    monitor='val_loss',\n",
    "    min_delta=0,\n",
    "    patience=20,\n",
    "    verbose=0,\n",
    "    mode='auto',\n",
    "    baseline=None,\n",
    "    restore_best_weights=True\n",
    ")"
   ]
  },
  {
   "cell_type": "code",
   "execution_count": 50,
   "metadata": {
    "executionInfo": {
     "elapsed": 266,
     "status": "ok",
     "timestamp": 1632508384687,
     "user": {
      "displayName": "Surendra Sarnikar",
      "photoUrl": "https://lh3.googleusercontent.com/a/default-user=s64",
      "userId": "09092883169352991840"
     },
     "user_tz": 420
    },
    "id": "TxpyP8gaJAZF"
   },
   "outputs": [],
   "source": [
    "l2_model = keras.Sequential([\n",
    "    keras.layers.Dense(32, use_bias=True, activation=tf.nn.relu,\n",
    "                       input_shape=(X_train.shape[1],)),\n",
    "    keras.layers.BatchNormalization(),\n",
    "    keras.layers.Dropout(0.25),\n",
    "    keras.layers.Dense(32, use_bias=True, activation=tf.nn.relu),\n",
    "    keras.layers.BatchNormalization(),\n",
    "    keras.layers.Dropout(0.25),\n",
    "    keras.layers.Dense(16, use_bias=True, activation=tf.nn.relu),\n",
    "    keras.layers.BatchNormalization(),\n",
    "    keras.layers.Dropout(0.25),\n",
    "    keras.layers.Dense(16, activation=tf.nn.relu),\n",
    "    keras.layers.Dropout(0.25),\n",
    "    keras.layers.Dense(16, use_bias=True, activation=tf.nn.relu),\n",
    "    keras.layers.BatchNormalization(),\n",
    "    keras.layers.Dropout(0.1),\n",
    "    keras.layers.Dense(8, activation=tf.nn.relu),\n",
    "    keras.layers.Dense(4, activation=tf.nn.sigmoid)\n",
    "  ])\n",
    "\n",
    "l2_model.compile(loss=keras.losses.BinaryCrossentropy(),\n",
    "                optimizer=\"adam\",\n",
    "                metrics=['accuracy'])\n"
   ]
  },
  {
   "cell_type": "code",
   "execution_count": 62,
   "metadata": {
    "colab": {
     "base_uri": "https://localhost:8080/"
    },
    "executionInfo": {
     "elapsed": 2270,
     "status": "ok",
     "timestamp": 1632509006891,
     "user": {
      "displayName": "Surendra Sarnikar",
      "photoUrl": "https://lh3.googleusercontent.com/a/default-user=s64",
      "userId": "09092883169352991840"
     },
     "user_tz": 420
    },
    "id": "rhbbMK2oJHCK",
    "outputId": "863b8998-f287-4c87-b2e4-a126c1f0501c"
   },
   "outputs": [
    {
     "name": "stdout",
     "output_type": "stream",
     "text": [
      "Epoch 1/50\n",
      "15/15 [==============================] - 0s 10ms/step - loss: 0.9159 - accuracy: 0.9036 - val_loss: 0.1171 - val_accuracy: 0.9333\n",
      "Epoch 2/50\n",
      "15/15 [==============================] - 0s 5ms/step - loss: 0.9687 - accuracy: 0.8910 - val_loss: 0.1220 - val_accuracy: 0.9333\n",
      "Epoch 3/50\n",
      "15/15 [==============================] - 0s 6ms/step - loss: 0.8166 - accuracy: 0.8952 - val_loss: 0.1252 - val_accuracy: 0.9333\n",
      "Epoch 4/50\n",
      "15/15 [==============================] - 0s 7ms/step - loss: 0.9215 - accuracy: 0.8910 - val_loss: 0.1335 - val_accuracy: 0.9417\n",
      "Epoch 5/50\n",
      "15/15 [==============================] - 0s 6ms/step - loss: 0.8347 - accuracy: 0.8910 - val_loss: 0.1406 - val_accuracy: 0.9417\n",
      "Epoch 6/50\n",
      "15/15 [==============================] - 0s 8ms/step - loss: 0.7258 - accuracy: 0.9119 - val_loss: 0.1497 - val_accuracy: 0.9333\n",
      "Epoch 7/50\n",
      "15/15 [==============================] - 0s 5ms/step - loss: 0.8725 - accuracy: 0.8805 - val_loss: 0.1541 - val_accuracy: 0.9417\n",
      "Epoch 8/50\n",
      "15/15 [==============================] - 0s 6ms/step - loss: 0.8074 - accuracy: 0.8847 - val_loss: 0.1503 - val_accuracy: 0.9417\n",
      "Epoch 9/50\n",
      "15/15 [==============================] - 0s 5ms/step - loss: 0.7622 - accuracy: 0.8889 - val_loss: 0.1488 - val_accuracy: 0.9333\n",
      "Epoch 10/50\n",
      "15/15 [==============================] - 0s 5ms/step - loss: 0.7421 - accuracy: 0.9015 - val_loss: 0.1532 - val_accuracy: 0.9333\n",
      "Epoch 11/50\n",
      "15/15 [==============================] - 0s 6ms/step - loss: 0.6721 - accuracy: 0.8868 - val_loss: 0.1554 - val_accuracy: 0.9333\n",
      "Epoch 12/50\n",
      "15/15 [==============================] - 0s 7ms/step - loss: 0.7157 - accuracy: 0.8847 - val_loss: 0.1545 - val_accuracy: 0.9333\n",
      "Epoch 13/50\n",
      "15/15 [==============================] - 0s 6ms/step - loss: 0.7540 - accuracy: 0.8805 - val_loss: 0.1528 - val_accuracy: 0.9333\n",
      "Epoch 14/50\n",
      "15/15 [==============================] - 0s 5ms/step - loss: 0.7053 - accuracy: 0.9015 - val_loss: 0.1510 - val_accuracy: 0.9417\n",
      "Epoch 15/50\n",
      "15/15 [==============================] - 0s 5ms/step - loss: 0.7108 - accuracy: 0.8847 - val_loss: 0.1461 - val_accuracy: 0.9417\n",
      "Epoch 16/50\n",
      "15/15 [==============================] - 0s 6ms/step - loss: 0.7323 - accuracy: 0.8784 - val_loss: 0.1416 - val_accuracy: 0.9417\n",
      "Epoch 17/50\n",
      "15/15 [==============================] - 0s 5ms/step - loss: 0.7263 - accuracy: 0.8910 - val_loss: 0.1375 - val_accuracy: 0.9417\n",
      "Epoch 18/50\n",
      "15/15 [==============================] - 0s 5ms/step - loss: 0.6590 - accuracy: 0.8742 - val_loss: 0.1340 - val_accuracy: 0.9417\n",
      "Epoch 19/50\n",
      "15/15 [==============================] - 0s 6ms/step - loss: 0.6400 - accuracy: 0.8826 - val_loss: 0.1338 - val_accuracy: 0.9417\n",
      "Epoch 20/50\n",
      "15/15 [==============================] - 0s 5ms/step - loss: 0.6112 - accuracy: 0.9015 - val_loss: 0.1337 - val_accuracy: 0.9250\n",
      "Epoch 21/50\n",
      "15/15 [==============================] - 0s 6ms/step - loss: 0.6590 - accuracy: 0.8700 - val_loss: 0.1344 - val_accuracy: 0.9417\n"
     ]
    }
   ],
   "source": [
    "classweights = {0: 1.,\n",
    "                1: 10.,\n",
    "                2: 10.,\n",
    "                3: 10.}\n",
    "l2_history = l2_model.fit(X_train, y_train, epochs=EPOCHS, class_weight=classweights,\n",
    "                    validation_data= (X_test, y_test), callbacks=[early_stopping_monitor], verbose=1)"
   ]
  },
  {
   "cell_type": "code",
   "execution_count": 63,
   "metadata": {
    "colab": {
     "base_uri": "https://localhost:8080/"
    },
    "executionInfo": {
     "elapsed": 274,
     "status": "ok",
     "timestamp": 1632509014347,
     "user": {
      "displayName": "Surendra Sarnikar",
      "photoUrl": "https://lh3.googleusercontent.com/a/default-user=s64",
      "userId": "09092883169352991840"
     },
     "user_tz": 420
    },
    "id": "3cJbeEvcX-nj",
    "outputId": "504f8257-2e9d-402f-8be6-a2f1a6c933e3"
   },
   "outputs": [
    {
     "name": "stdout",
     "output_type": "stream",
     "text": [
      "0.9416666626930237\n"
     ]
    }
   ],
   "source": [
    "print(max(l2_history.history['val_accuracy']))"
   ]
  },
  {
   "cell_type": "code",
   "execution_count": 53,
   "metadata": {
    "executionInfo": {
     "elapsed": 225,
     "status": "ok",
     "timestamp": 1632508821700,
     "user": {
      "displayName": "Surendra Sarnikar",
      "photoUrl": "https://lh3.googleusercontent.com/a/default-user=s64",
      "userId": "09092883169352991840"
     },
     "user_tz": 420
    },
    "id": "wRwctIwqKWlV"
   },
   "outputs": [],
   "source": [
    "from sklearn.metrics import classification_report\n",
    "from sklearn.metrics import confusion_matrix\n",
    "#y_true = y_test.columns.get_loc(y_test.idxmax(1)\n",
    "\n",
    "def get_classidx(row):\n",
    "     for c in y_test.columns:\n",
    "         if row[c]==1:\n",
    "             return y_test.columns.get_loc(c)\n",
    "\n",
    "y_true = y_test.apply(get_classidx, axis=1)\n",
    "\n",
    "\n"
   ]
  },
  {
   "cell_type": "code",
   "execution_count": 64,
   "metadata": {
    "executionInfo": {
     "elapsed": 256,
     "status": "ok",
     "timestamp": 1632509020034,
     "user": {
      "displayName": "Surendra Sarnikar",
      "photoUrl": "https://lh3.googleusercontent.com/a/default-user=s64",
      "userId": "09092883169352991840"
     },
     "user_tz": 420
    },
    "id": "WUnYc8YdicTs"
   },
   "outputs": [],
   "source": [
    "y_pred = np.argmax(l2_model.predict(X_test), axis=1)\n",
    "target_names = ['class 1', 'class 2', 'class 3', 'class 4']"
   ]
  },
  {
   "cell_type": "code",
   "execution_count": 65,
   "metadata": {
    "colab": {
     "base_uri": "https://localhost:8080/"
    },
    "executionInfo": {
     "elapsed": 245,
     "status": "ok",
     "timestamp": 1632509022677,
     "user": {
      "displayName": "Surendra Sarnikar",
      "photoUrl": "https://lh3.googleusercontent.com/a/default-user=s64",
      "userId": "09092883169352991840"
     },
     "user_tz": 420
    },
    "id": "CFq-3GVoZpee",
    "outputId": "07c4aab4-5c0c-4818-d1cc-bd0a603c9a4b"
   },
   "outputs": [
    {
     "name": "stdout",
     "output_type": "stream",
     "text": [
      "              precision    recall  f1-score   support\n",
      "\n",
      "     class 1       0.98      0.99      0.99       106\n",
      "     class 2       0.50      0.75      0.60         4\n",
      "     class 3       0.00      0.00      0.00         4\n",
      "     class 4       0.57      0.67      0.62         6\n",
      "\n",
      "    accuracy                           0.93       120\n",
      "   macro avg       0.51      0.60      0.55       120\n",
      "weighted avg       0.91      0.93      0.92       120\n",
      "\n"
     ]
    },
    {
     "name": "stderr",
     "output_type": "stream",
     "text": [
      "/usr/local/lib/python3.7/dist-packages/sklearn/metrics/_classification.py:1272: UndefinedMetricWarning: Precision and F-score are ill-defined and being set to 0.0 in labels with no predicted samples. Use `zero_division` parameter to control this behavior.\n",
      "  _warn_prf(average, modifier, msg_start, len(result))\n"
     ]
    }
   ],
   "source": [
    "print(classification_report(y_true, y_pred, target_names=target_names))\n"
   ]
  },
  {
   "cell_type": "code",
   "execution_count": 66,
   "metadata": {
    "colab": {
     "base_uri": "https://localhost:8080/"
    },
    "executionInfo": {
     "elapsed": 241,
     "status": "ok",
     "timestamp": 1632509040792,
     "user": {
      "displayName": "Surendra Sarnikar",
      "photoUrl": "https://lh3.googleusercontent.com/a/default-user=s64",
      "userId": "09092883169352991840"
     },
     "user_tz": 420
    },
    "id": "aJl_LS9pZrfg",
    "outputId": "457dc217-582c-4cdd-98bc-9117183b319e"
   },
   "outputs": [
    {
     "name": "stdout",
     "output_type": "stream",
     "text": [
      "[[105   1   0   0]\n",
      " [  1   3   0   0]\n",
      " [  0   1   0   3]\n",
      " [  1   1   0   4]]\n"
     ]
    }
   ],
   "source": [
    "print(confusion_matrix(y_true, y_pred))"
   ]
  },
  {
   "cell_type": "code",
   "execution_count": null,
   "metadata": {
    "colab": {
     "base_uri": "https://localhost:8080/",
     "height": 610
    },
    "executionInfo": {
     "elapsed": 531,
     "status": "ok",
     "timestamp": 1632449627240,
     "user": {
      "displayName": "Surendra Sarnikar",
      "photoUrl": "https://lh3.googleusercontent.com/a/default-user=s64",
      "userId": "09092883169352991840"
     },
     "user_tz": 420
    },
    "id": "jiwDQDxUg-Ho",
    "outputId": "abf04f2d-2807-41ac-ad3d-bd828c898f82"
   },
   "outputs": [
    {
     "data": {
      "image/png": "[encoded data removed]",
      "text/plain": [
       "<Figure size 1152x720 with 1 Axes>"
      ]
     },
     "metadata": {
      "needs_background": "light"
     },
     "output_type": "display_data"
    }
   ],
   "source": [
    "plot_history([('Simple', s_history),\n",
    "              ('M1', l1_history),\n",
    "              ('M2', l2_history)])"
   ]
  },
  {
   "cell_type": "code",
   "execution_count": null,
   "metadata": {
    "id": "GGGIludUhLvn"
   },
   "outputs": [],
   "source": [
    "plot_history([('M2', l2_history)])"
   ]
  }
 ],
 "metadata": {
  "colab": {
   "collapsed_sections": [],
   "name": "Assignment1-HepC-FA21.ipynb",
   "provenance": [
    {
     "file_id": "1wd3oclwV5Tp2u3v6Q8bqEEONioIpsUqe",
     "timestamp": 1632439579109
    },
    {
     "file_id": "1mqQXsA5IqQh5hlbP1Wvp2pJNC4PGpisQ",
     "timestamp": 1602086385648
    },
    {
     "file_id": "1YmlojVwjc1Vxc8hMK4vCAoKkbZ27k7ov",
     "timestamp": 1583102872321
    },
    {
     "file_id": "1UtJ-qnRyyV0cNBc18WQgkIOQjA5gSn9e",
     "timestamp": 1580947509897
    }
   ]
  },
  "kernelspec": {
   "display_name": "Python 3 (ipykernel)",
   "language": "python",
   "name": "python3"
  },
  "language_info": {
   "codemirror_mode": {
    "name": "ipython",
    "version": 3
   },
   "file_extension": ".py",
   "mimetype": "text/x-python",
   "name": "python",
   "nbconvert_exporter": "python",
   "pygments_lexer": "ipython3",
   "version": "3.10.9"
  }
 },
 "nbformat": 4,
 "nbformat_minor": 1
}
