{
 "cells": [
  {
   "cell_type": "markdown",
   "id": "ea8a1548",
   "metadata": {
    "id": "ea8a1548"
   },
   "source": [
    "# Assignment 3 - Build a Seq2Seq Language Translation model for any language pair of your choice.\n",
    "\n",
    "## Build a word model with attention or a transformer model"
   ]
  },
  {
   "cell_type": "code",
   "execution_count": 1,
   "id": "8d5c4bed",
   "metadata": {
    "colab": {
     "base_uri": "https://localhost:8080/"
    },
    "id": "8d5c4bed",
    "outputId": "d1fd5816-c678-4417-bdf4-11f0db24e13d"
   },
   "outputs": [
    {
     "name": "stdout",
     "output_type": "stream",
     "text": [
      "env: PROTOCOL_BUFFERS_PYTHON_IMPLEMENTATION=python\n"
     ]
    }
   ],
   "source": [
    "%env PROTOCOL_BUFFERS_PYTHON_IMPLEMENTATION=python"
   ]
  },
  {
   "cell_type": "markdown",
   "id": "b529bd1e",
   "metadata": {
    "id": "b529bd1e"
   },
   "source": [
    "Importing libraries"
   ]
  },
  {
   "cell_type": "code",
   "execution_count": 2,
   "id": "6b56611e",
   "metadata": {
    "id": "6b56611e"
   },
   "outputs": [],
   "source": [
    "import tensorflow as tf\n",
    "from nltk.translate.bleu_score import sentence_bleu"
   ]
  },
  {
   "cell_type": "code",
   "execution_count": 3,
   "id": "ec46f068",
   "metadata": {
    "id": "ec46f068"
   },
   "outputs": [],
   "source": [
    "import matplotlib.pyplot as plt\n",
    "import matplotlib.ticker as ticker\n",
    "from sklearn.model_selection import train_test_split\n",
    "import pandas as pd\n",
    "import unicodedata\n",
    "import re\n",
    "import numpy as np\n",
    "import os\n",
    "import io\n",
    "from string import digits"
   ]
  },
  {
   "cell_type": "markdown",
   "id": "aed2d1c4",
   "metadata": {
    "id": "aed2d1c4",
    "scrolled": false
   },
   "source": [
    "We are performing English - Spanish translation. Reading the translation data from local downloaded from Anki"
   ]
  },
  {
   "cell_type": "code",
   "execution_count": null,
   "id": "e21bd16e",
   "metadata": {
    "id": "e21bd16e",
    "outputId": "5403501a-70ed-44f1-9261-02be37d92ede"
   },
   "outputs": [
    {
     "data": {
      "text/html": [
       "<div>\n",
       "<style scoped>\n",
       "    .dataframe tbody tr th:only-of-type {\n",
       "        vertical-align: middle;\n",
       "    }\n",
       "\n",
       "    .dataframe tbody tr th {\n",
       "        vertical-align: top;\n",
       "    }\n",
       "\n",
       "    .dataframe thead th {\n",
       "        text-align: right;\n",
       "    }\n",
       "</style>\n",
       "<table border=\"1\" class=\"dataframe\">\n",
       "  <thead>\n",
       "    <tr style=\"text-align: right;\">\n",
       "      <th></th>\n",
       "      <th>input</th>\n",
       "      <th>target</th>\n",
       "    </tr>\n",
       "  </thead>\n",
       "  <tbody>\n",
       "    <tr>\n",
       "      <th>Go.</th>\n",
       "      <td>Ve.</td>\n",
       "      <td>CC-BY 2.0 (France) Attribution: tatoeba.org #2...</td>\n",
       "    </tr>\n",
       "    <tr>\n",
       "      <th>Go.</th>\n",
       "      <td>Vete.</td>\n",
       "      <td>CC-BY 2.0 (France) Attribution: tatoeba.org #2...</td>\n",
       "    </tr>\n",
       "    <tr>\n",
       "      <th>Go.</th>\n",
       "      <td>Vaya.</td>\n",
       "      <td>CC-BY 2.0 (France) Attribution: tatoeba.org #2...</td>\n",
       "    </tr>\n",
       "    <tr>\n",
       "      <th>Go.</th>\n",
       "      <td>Váyase.</td>\n",
       "      <td>CC-BY 2.0 (France) Attribution: tatoeba.org #2...</td>\n",
       "    </tr>\n",
       "    <tr>\n",
       "      <th>Hi.</th>\n",
       "      <td>Hola.</td>\n",
       "      <td>CC-BY 2.0 (France) Attribution: tatoeba.org #5...</td>\n",
       "    </tr>\n",
       "  </tbody>\n",
       "</table>\n",
       "</div>"
      ],
      "text/plain": [
       "       input                                             target\n",
       "Go.      Ve.  CC-BY 2.0 (France) Attribution: tatoeba.org #2...\n",
       "Go.    Vete.  CC-BY 2.0 (France) Attribution: tatoeba.org #2...\n",
       "Go.    Vaya.  CC-BY 2.0 (France) Attribution: tatoeba.org #2...\n",
       "Go.  Váyase.  CC-BY 2.0 (France) Attribution: tatoeba.org #2...\n",
       "Hi.    Hola.  CC-BY 2.0 (France) Attribution: tatoeba.org #5..."
      ]
     },
     "execution_count": 4,
     "metadata": {},
     "output_type": "execute_result"
    }
   ],
   "source": [
    "file = \"spa.txt\"\n",
    "datum= pd.read_table(file,names=['input', 'target'])\n",
    "datum.head()"
   ]
  },
  {
   "cell_type": "markdown",
   "id": "d9234e9a",
   "metadata": {
    "id": "d9234e9a"
   },
   "source": [
    "Text pre-processing with following-\n",
    "all lower cases, cleaning digits and different symbols, punctuations.\n",
    "Also adding 'start_ ' and ' _end' tags to each statement"
   ]
  },
  {
   "cell_type": "code",
   "execution_count": null,
   "id": "236e32c8",
   "metadata": {
    "id": "236e32c8"
   },
   "outputs": [],
   "source": [
    "def preprocessing(sentence):\n",
    "    num_digits= str.maketrans('','', digits)\n",
    "    sentence= re.sub(\" +\", \" \", sentence)\n",
    "    sentence= re.sub(\"'\", '', sentence)\n",
    "    sentence= sentence.lower()\n",
    "\n",
    "    sentence= sentence.translate(num_digits)\n",
    "    sentence= sentence.strip()\n",
    "    sentence= re.sub(r\"([?.!,¿])\", r\" \\1 \", sentence)\n",
    "    sentence = sentence.rstrip().strip()\n",
    "    sentence=  'start_ ' + sentence + ' _end'\n",
    "    return sentence"
   ]
  },
  {
   "cell_type": "markdown",
   "id": "1ed30b43",
   "metadata": {
    "id": "1ed30b43"
   },
   "source": [
    "Creating a word pair for the 2 languagesafter preprocessing"
   ]
  },
  {
   "cell_type": "code",
   "execution_count": null,
   "id": "274ef7db",
   "metadata": {
    "id": "274ef7db"
   },
   "outputs": [],
   "source": [
    "stmts = io.open(file, encoding='UTF-8').read().strip().split('\\n')\n",
    "words = [[preprocessing(word) for word in s.split('\\t')]  for s in stmts[:60000]]\n",
    "inputt, target,_ = zip(*words)"
   ]
  },
  {
   "cell_type": "markdown",
   "id": "8ef09770",
   "metadata": {
    "id": "8ef09770"
   },
   "source": [
    "create a tokenizer for the source sentences. For this, we need to vectorize the text  i.e. convert it into a sequence of integers with each word paired with a unique integer value. Then we post pad these sequences with '0' to make them equal length. We tokenize the Target sentences in similar way"
   ]
  },
  {
   "cell_type": "code",
   "execution_count": null,
   "id": "517a7a61",
   "metadata": {
    "id": "517a7a61"
   },
   "outputs": [],
   "source": [
    "inputt_stmts_tokenizer= tf.keras.preprocessing.text.Tokenizer(filters='')\n",
    "inputt_stmts_tokenizer.fit_on_texts(inputt)\n",
    "inputt_tensor = inputt_stmts_tokenizer.texts_to_sequences(inputt)\n",
    "inputt_tensor= tf.keras.preprocessing.sequence.pad_sequences(inputt_tensor,padding='post' )\n",
    "max_source_length= max(len(t) for t in  inputt_tensor)\n",
    "target_stmts_tokenizer= tf.keras.preprocessing.text.Tokenizer(filters='')\n",
    "target_stmts_tokenizer.fit_on_texts(target)\n",
    "target_tensor = target_stmts_tokenizer.texts_to_sequences(target)\n",
    "target_tensor= tf.keras.preprocessing.sequence.pad_sequences(target_tensor,padding='post' )\n",
    "max_target_length= max(len(t) for t in  target_tensor)"
   ]
  },
  {
   "cell_type": "markdown",
   "id": "ddd73cf2",
   "metadata": {
    "id": "ddd73cf2"
   },
   "source": [
    "Creating training and test data partition with 80:20"
   ]
  },
  {
   "cell_type": "code",
   "execution_count": null,
   "id": "36a1548f",
   "metadata": {
    "id": "36a1548f"
   },
   "outputs": [],
   "source": [
    "source_train_tensor, source_test_tensor, target_train_tensor, target_test_tensor= train_test_split(inputt_tensor, target_tensor,test_size=0.2)"
   ]
  },
  {
   "cell_type": "code",
   "execution_count": null,
   "id": "5b7d9d98",
   "metadata": {
    "id": "5b7d9d98",
    "outputId": "94cd9304-190e-4261-d3fe-d694f220ef04"
   },
   "outputs": [
    {
     "name": "stderr",
     "output_type": "stream",
     "text": [
      "2022-11-19 13:59:30.384272: I tensorflow/compiler/jit/xla_cpu_device.cc:41] Not creating XLA devices, tf_xla_enable_xla_devices not set\n",
      "2022-11-19 13:59:30.385311: I tensorflow/stream_executor/platform/default/dso_loader.cc:49] Successfully opened dynamic library libcuda.so.1\n",
      "2022-11-19 13:59:30.430624: I tensorflow/core/common_runtime/gpu/gpu_device.cc:1720] Found device 0 with properties: \n",
      "pciBusID: 0000:b3:00.0 name: Quadro RTX 6000 computeCapability: 7.5\n",
      "coreClock: 1.77GHz coreCount: 72 deviceMemorySize: 23.65GiB deviceMemoryBandwidth: 625.94GiB/s\n",
      "2022-11-19 13:59:30.430667: I tensorflow/stream_executor/platform/default/dso_loader.cc:49] Successfully opened dynamic library libcudart.so.10.1\n",
      "2022-11-19 13:59:30.433494: I tensorflow/stream_executor/platform/default/dso_loader.cc:49] Successfully opened dynamic library libcublas.so.10\n",
      "2022-11-19 13:59:30.433669: I tensorflow/stream_executor/platform/default/dso_loader.cc:49] Successfully opened dynamic library libcublasLt.so.10\n",
      "2022-11-19 13:59:30.435729: I tensorflow/stream_executor/platform/default/dso_loader.cc:49] Successfully opened dynamic library libcufft.so.10\n",
      "2022-11-19 13:59:30.436120: I tensorflow/stream_executor/platform/default/dso_loader.cc:49] Successfully opened dynamic library libcurand.so.10\n",
      "2022-11-19 13:59:30.438282: I tensorflow/stream_executor/platform/default/dso_loader.cc:49] Successfully opened dynamic library libcusolver.so.10\n",
      "2022-11-19 13:59:30.439524: I tensorflow/stream_executor/platform/default/dso_loader.cc:49] Successfully opened dynamic library libcusparse.so.10\n",
      "2022-11-19 13:59:30.444063: I tensorflow/stream_executor/platform/default/dso_loader.cc:49] Successfully opened dynamic library libcudnn.so.7\n",
      "2022-11-19 13:59:30.445004: I tensorflow/core/common_runtime/gpu/gpu_device.cc:1862] Adding visible gpu devices: 0\n",
      "2022-11-19 13:59:30.446454: I tensorflow/core/platform/cpu_feature_guard.cc:142] This TensorFlow binary is optimized with oneAPI Deep Neural Network Library (oneDNN) to use the following CPU instructions in performance-critical operations:  SSE4.1 SSE4.2 AVX AVX2 AVX512F FMA\n",
      "To enable them in other operations, rebuild TensorFlow with the appropriate compiler flags.\n",
      "2022-11-19 13:59:30.447829: I tensorflow/compiler/jit/xla_gpu_device.cc:99] Not creating XLA devices, tf_xla_enable_xla_devices not set\n",
      "2022-11-19 13:59:30.449077: I tensorflow/core/common_runtime/gpu/gpu_device.cc:1720] Found device 0 with properties: \n",
      "pciBusID: 0000:b3:00.0 name: Quadro RTX 6000 computeCapability: 7.5\n",
      "coreClock: 1.77GHz coreCount: 72 deviceMemorySize: 23.65GiB deviceMemoryBandwidth: 625.94GiB/s\n",
      "2022-11-19 13:59:30.449108: I tensorflow/stream_executor/platform/default/dso_loader.cc:49] Successfully opened dynamic library libcudart.so.10.1\n",
      "2022-11-19 13:59:30.449147: I tensorflow/stream_executor/platform/default/dso_loader.cc:49] Successfully opened dynamic library libcublas.so.10\n",
      "2022-11-19 13:59:30.449158: I tensorflow/stream_executor/platform/default/dso_loader.cc:49] Successfully opened dynamic library libcublasLt.so.10\n",
      "2022-11-19 13:59:30.449169: I tensorflow/stream_executor/platform/default/dso_loader.cc:49] Successfully opened dynamic library libcufft.so.10\n",
      "2022-11-19 13:59:30.449181: I tensorflow/stream_executor/platform/default/dso_loader.cc:49] Successfully opened dynamic library libcurand.so.10\n",
      "2022-11-19 13:59:30.449192: I tensorflow/stream_executor/platform/default/dso_loader.cc:49] Successfully opened dynamic library libcusolver.so.10\n",
      "2022-11-19 13:59:30.449202: I tensorflow/stream_executor/platform/default/dso_loader.cc:49] Successfully opened dynamic library libcusparse.so.10\n",
      "2022-11-19 13:59:30.449214: I tensorflow/stream_executor/platform/default/dso_loader.cc:49] Successfully opened dynamic library libcudnn.so.7\n",
      "2022-11-19 13:59:30.452661: I tensorflow/core/common_runtime/gpu/gpu_device.cc:1862] Adding visible gpu devices: 0\n",
      "2022-11-19 13:59:30.452699: I tensorflow/stream_executor/platform/default/dso_loader.cc:49] Successfully opened dynamic library libcudart.so.10.1\n",
      "2022-11-19 13:59:31.948420: I tensorflow/core/common_runtime/gpu/gpu_device.cc:1261] Device interconnect StreamExecutor with strength 1 edge matrix:\n",
      "2022-11-19 13:59:31.948451: I tensorflow/core/common_runtime/gpu/gpu_device.cc:1267]      0 \n",
      "2022-11-19 13:59:31.948458: I tensorflow/core/common_runtime/gpu/gpu_device.cc:1280] 0:   N \n",
      "2022-11-19 13:59:31.949627: I tensorflow/core/common_runtime/gpu/gpu_device.cc:1406] Created TensorFlow device (/job:localhost/replica:0/task:0/device:GPU:0 with 22467 MB memory) -> physical GPU (device: 0, name: Quadro RTX 6000, pci bus id: 0000:b3:00.0, compute capability: 7.5)\n"
     ]
    }
   ],
   "source": [
    "BUFFER_SIZE = len(source_train_tensor)\n",
    "BATCH_SIZE = 128\n",
    "steps_per_epoch = BUFFER_SIZE//BATCH_SIZE\n",
    "units = 512\n",
    "vocab_inp_size = len(inputt_stmts_tokenizer.word_index)+1\n",
    "vocab_tar_size = len(target_stmts_tokenizer.word_index)+1\n",
    "\n",
    "#Creating dataset in memory for processing and slicing\n",
    "dataset = tf.data.Dataset.from_tensor_slices((source_train_tensor, target_train_tensor)).shuffle(BUFFER_SIZE)\n",
    "dataset = dataset.batch(BATCH_SIZE, drop_remainder=True)\n",
    "example_input_batch, example_target_batch = next(iter(dataset))"
   ]
  },
  {
   "cell_type": "markdown",
   "id": "21e84153",
   "metadata": {
    "id": "21e84153"
   },
   "source": [
    "Defining and creating the Encoder"
   ]
  },
  {
   "cell_type": "code",
   "execution_count": null,
   "id": "a304a47e",
   "metadata": {
    "id": "a304a47e"
   },
   "outputs": [],
   "source": [
    "class Encoder(tf.keras.Model):\n",
    "  def __init__(self, vocab_inp_size, units, batch):\n",
    "    super(Encoder, self).__init__()\n",
    "    self.batch = batch\n",
    "    self.vocab_size = vocab_inp_size\n",
    "    self.units = units\n",
    "\n",
    "    # The embedding layer converts tokens to vectors\n",
    "    self.embedding = tf.keras.layers.Embedding(self.vocab_size, units,\n",
    "                                               mask_zero=True)\n",
    "\n",
    "    self.gru = tf.keras.layers.GRU(self.units,\n",
    "                                   return_sequences=True,\n",
    "                                   return_state=True,\n",
    "                                   recurrent_initializer='glorot_uniform')\n",
    "  def call(self, x, hidden):\n",
    "    x = self.embedding(x)\n",
    "    output, state = self.gru(x, initial_state = hidden)\n",
    "    return output, state\n",
    "\n",
    "  def initialize_hidden_state(self):\n",
    "    return tf.zeros((self.batch, self.units))"
   ]
  },
  {
   "cell_type": "code",
   "execution_count": null,
   "id": "3d2f0c9c",
   "metadata": {
    "id": "3d2f0c9c",
    "outputId": "359d0efa-e42b-4bb2-bd4c-b2860b39f347"
   },
   "outputs": [
    {
     "name": "stderr",
     "output_type": "stream",
     "text": [
      "2022-11-19 13:59:32.433003: I tensorflow/stream_executor/platform/default/dso_loader.cc:49] Successfully opened dynamic library libcudnn.so.7\n"
     ]
    }
   ],
   "source": [
    "encoder = Encoder(vocab_inp_size, units, BATCH_SIZE)\n",
    "sample_hidden = encoder.initialize_hidden_state()\n",
    "sample_output, sample_hidden = encoder(example_input_batch, sample_hidden)"
   ]
  },
  {
   "cell_type": "markdown",
   "id": "084732f7",
   "metadata": {
    "id": "084732f7"
   },
   "source": [
    "We are using the Bahdanau Attention layer to handle the performance bottleneck of conventional encoder-decoder architectures\n",
    "\n",
    "Reference: https://machinelearningmastery.com/the-bahdanau-attention-mechanism/\n"
   ]
  },
  {
   "cell_type": "code",
   "execution_count": null,
   "id": "dfcc82bf",
   "metadata": {
    "id": "dfcc82bf"
   },
   "outputs": [],
   "source": [
    "class Atention(tf.keras.layers.Layer):\n",
    "  def __init__(self, units):\n",
    "    super(Atention, self).__init__()\n",
    "    self.W1 = tf.keras.layers.Dense(units)\n",
    "    self.W2 = tf.keras.layers.Dense(units)\n",
    "    self.V = tf.keras.layers.Dense(1)\n",
    "\n",
    "  def call(self, query, values):\n",
    "    hidden_with_time_axis = tf.expand_dims(query, 1)\n",
    "    score = self.V(tf.nn.tanh(\n",
    "        self.W1(values) + self.W2(hidden_with_time_axis)))\n",
    "    attention_weights = tf.nn.softmax(score, axis=1)\n",
    "    context_vector = attention_weights * values\n",
    "    context_vector = tf.reduce_sum(context_vector, axis=1)\n",
    "\n",
    "    return context_vector, attention_weights"
   ]
  },
  {
   "cell_type": "code",
   "execution_count": null,
   "id": "ef0b2398",
   "metadata": {
    "id": "ef0b2398",
    "outputId": "ea1e8a9b-ddaa-44b7-e0b4-88442549795d"
   },
   "outputs": [
    {
     "name": "stderr",
     "output_type": "stream",
     "text": [
      "2022-11-19 13:59:35.045874: I tensorflow/stream_executor/platform/default/dso_loader.cc:49] Successfully opened dynamic library libcublas.so.10\n"
     ]
    }
   ],
   "source": [
    "attention_layer = Atention(18)\n",
    "attention_result, attention_weights = attention_layer(sample_hidden, sample_output)"
   ]
  },
  {
   "cell_type": "markdown",
   "id": "7e88e973",
   "metadata": {
    "id": "7e88e973"
   },
   "source": [
    "Defining and creating the decoder"
   ]
  },
  {
   "cell_type": "code",
   "execution_count": null,
   "id": "a7250f36",
   "metadata": {
    "id": "a7250f36"
   },
   "outputs": [],
   "source": [
    "class Decoder(tf.keras.Model):\n",
    "  def __init__(self, vocab_size, units, batch):\n",
    "    super(Decoder, self).__init__()\n",
    "    self.batch = batch\n",
    "    self.units = units\n",
    "    # The embedding layer converts token IDs to vectors\n",
    "    self.embedding = tf.keras.layers.Embedding(vocab_size,\n",
    "                                                self.units, mask_zero=True)\n",
    "    \n",
    "    self.gru = tf.keras.layers.GRU(self.units,\n",
    "                                   return_sequences=True,\n",
    "                                   return_state=True,\n",
    "                                   recurrent_initializer='glorot_uniform')\n",
    "    self.fc = tf.keras.layers.Dense(vocab_size)\n",
    "\n",
    "    # output will be the query for the attention layer.\n",
    "    self.attention = Atention(self.units)\n",
    "\n",
    "    \n",
    "  def call(self, x, hidden, enc_output):\n",
    "    # enc_output shape == (batch_size, max_length, hidden_size)\n",
    "    context_vector, attention_weights = self.attention(hidden, enc_output)\n",
    "\n",
    "    # x shape after passing through embedding == (batch_size, 1, embedding_dim)\n",
    "    x = self.embedding(x)\n",
    "\n",
    "    # x shape after concatenation == (batch_size, 1, embedding_dim + hidden_size)\n",
    "    x = tf.concat([tf.expand_dims(context_vector, 1), x], axis=-1)\n",
    "\n",
    "    # passing the concatenated vector to the GRU\n",
    "    output, state = self.gru(x)\n",
    "\n",
    "    # output shape == (batch_size * 1, hidden_size)\n",
    "    output = tf.reshape(output, (-1, output.shape[2]))\n",
    "\n",
    "    # output shape == (batch_size, vocab)\n",
    "    x = self.fc(output)\n",
    "\n",
    "    return x, state, attention_weights"
   ]
  },
  {
   "cell_type": "code",
   "execution_count": null,
   "id": "af8efa09",
   "metadata": {
    "id": "af8efa09"
   },
   "outputs": [],
   "source": [
    "decoder = Decoder(vocab_tar_size, units, BATCH_SIZE)\n",
    "sample_decoder_output, _, _ = decoder(tf.random.uniform((BATCH_SIZE, 1)),\n",
    "                                      sample_hidden, sample_output)"
   ]
  },
  {
   "cell_type": "code",
   "execution_count": null,
   "id": "240d3382",
   "metadata": {
    "id": "240d3382"
   },
   "outputs": [],
   "source": [
    "#Optimizer - Selecting Adam()\n",
    "optimizer = tf.keras.optimizers.Adam()"
   ]
  },
  {
   "cell_type": "code",
   "execution_count": null,
   "id": "650aa037",
   "metadata": {
    "id": "650aa037"
   },
   "outputs": [],
   "source": [
    "#Loss function - Sparse Categorical CrossEntropy\n",
    "\n",
    "obj = tf.keras.losses.SparseCategoricalCrossentropy(\n",
    "    from_logits=True, reduction='none')\n",
    "\n",
    "def lossfn(real, pred):\n",
    "  mask = tf.math.logical_not(tf.math.equal(real, 0))\n",
    "  loss_ = obj(real, pred)\n",
    "\n",
    "  mask = tf.cast(mask, dtype=loss_.dtype)\n",
    "  loss_ *= mask\n",
    "\n",
    "  return tf.reduce_mean(loss_)"
   ]
  },
  {
   "cell_type": "markdown",
   "id": "caa103db",
   "metadata": {
    "id": "caa103db"
   },
   "source": [
    "Training the dataset using encoder-decoder model"
   ]
  },
  {
   "cell_type": "code",
   "execution_count": null,
   "id": "edc003f7",
   "metadata": {
    "id": "edc003f7"
   },
   "outputs": [],
   "source": [
    "def training_step(inputt, targett, hidden):\n",
    "  loss = 0\n",
    "  ts= targett.shape[1]\n",
    "  with tf.GradientTape() as tape:\n",
    "    op, hidden = encoder(inputt, hidden)\n",
    "\n",
    "    hidden = hidden\n",
    "\n",
    "    ip = tf.expand_dims([target_stmts_tokenizer.word_index['start_']] * BATCH_SIZE, 1)\n",
    "\n",
    "    for t in range(1,ts):\n",
    "        \n",
    "      predictions, hidden, _ = decoder(ip, hidden, op)\n",
    "\n",
    "      loss += lossfn(targett[:, t], predictions)\n",
    "\n",
    "      ip = tf.expand_dims(targett[:, t], 1)\n",
    "\n",
    "  batch_loss = (loss / int(ts))\n",
    "\n",
    "  variables = encoder.trainable_variables + decoder.trainable_variables\n",
    "\n",
    "  gradients = tape.gradient(loss, variables)\n",
    "\n",
    "  optimizer.apply_gradients(zip(gradients, variables))\n",
    "\n",
    "  return batch_loss"
   ]
  },
  {
   "cell_type": "code",
   "execution_count": null,
   "id": "eaa5f5a7",
   "metadata": {
    "id": "eaa5f5a7",
    "outputId": "e8742546-0685-4d92-b4ac-c8d7f233f6af",
    "scrolled": false
   },
   "outputs": [
    {
     "name": "stdout",
     "output_type": "stream",
     "text": [
      "Epoch 1\n",
      "Loss 1.8972\n",
      "Epoch 2\n",
      "Loss 1.5056\n",
      "Epoch 3\n",
      "Loss 1.1846\n",
      "Epoch 4\n",
      "Loss 0.9216\n",
      "Epoch 5\n",
      "Loss 0.7139\n",
      "Epoch 6\n",
      "Loss 0.5533\n",
      "Epoch 7\n",
      "Loss 0.4351\n",
      "Epoch 8\n",
      "Loss 0.3488\n",
      "Epoch 9\n",
      "Loss 0.2838\n",
      "Epoch 10\n",
      "Loss 0.2381\n",
      "Epoch 11\n",
      "Loss 0.2029\n",
      "Epoch 12\n",
      "Loss 0.1757\n",
      "Epoch 13\n",
      "Loss 0.1541\n",
      "Epoch 14\n",
      "Loss 0.1387\n",
      "Epoch 15\n",
      "Loss 0.1256\n",
      "Epoch 16\n",
      "Loss 0.1130\n",
      "Epoch 17\n",
      "Loss 0.1032\n",
      "Epoch 18\n",
      "Loss 0.0993\n",
      "Epoch 19\n",
      "Loss 0.0927\n",
      "Epoch 20\n",
      "Loss 0.0841\n",
      "Epoch 21\n",
      "Loss 0.0787\n",
      "Epoch 22\n",
      "Loss 0.0743\n",
      "Epoch 23\n",
      "Loss 0.0712\n",
      "Epoch 24\n",
      "Loss 0.0690\n",
      "Epoch 25\n",
      "Loss 0.0685\n"
     ]
    }
   ],
   "source": [
    "EPOCHS = 25\n",
    "\n",
    "for epoch in range(EPOCHS):\n",
    "\n",
    "  enc_hidden = encoder.initialize_hidden_state()\n",
    "  total_loss = 0\n",
    "\n",
    "  for (batch, (inp, targ)) in enumerate(dataset.take(steps_per_epoch)):\n",
    "    batch_loss = training_step(inp, targ, enc_hidden)\n",
    "    total_loss += batch_loss\n",
    "  print('Epoch', epoch + 1)\n",
    "  print('Loss {:.4f}'.format(total_loss / steps_per_epoch))"
   ]
  },
  {
   "cell_type": "markdown",
   "id": "b9a0f7d2",
   "metadata": {
    "id": "b9a0f7d2"
   },
   "source": [
    "Loss = 6% and Accuracy = 94%"
   ]
  },
  {
   "cell_type": "code",
   "execution_count": null,
   "id": "be3e0784",
   "metadata": {
    "id": "be3e0784",
    "outputId": "466941e7-4923-4153-f18b-df07fd0558ad"
   },
   "outputs": [
    {
     "name": "stdout",
     "output_type": "stream",
     "text": [
      "Num GPUs Available:  1\n"
     ]
    }
   ],
   "source": [
    "print(\"Num GPUs Available: \", len(tf.config.experimental.list_physical_devices('GPU')))\n"
   ]
  },
  {
   "cell_type": "code",
   "execution_count": null,
   "id": "8511a7cf",
   "metadata": {
    "id": "8511a7cf"
   },
   "outputs": [],
   "source": [
    "def evaluate(sentence):\n",
    "  attention_plot = np.zeros((max_target_length, max_source_length))\n",
    "\n",
    "  sentence = preprocessing(sentence)\n",
    "\n",
    "  inputs = [inputt_stmts_tokenizer.word_index[i] for i in sentence.split(' ')]\n",
    "  inputs = tf.keras.preprocessing.sequence.pad_sequences([inputs],\n",
    "                                                         maxlen=max_source_length,\n",
    "                                                         padding='post')\n",
    "  inputs = tf.convert_to_tensor(inputs)\n",
    "\n",
    "  result = ''\n",
    "\n",
    "  hidden = [tf.zeros((1, units))]\n",
    "  output, hide = encoder(inputs, hidden)\n",
    "\n",
    "  hide1 = hide\n",
    "  input = tf.expand_dims([target_stmts_tokenizer.word_index['start_']], 0)\n",
    "\n",
    "  for t in range(max_target_length):\n",
    "    predictions, hide1, attention_weights = decoder(input,\n",
    "                                                         hide1,\n",
    "                                                         output)\n",
    "\n",
    "    attention_weights = tf.reshape(attention_weights, (-1, ))\n",
    "    attention_plot[t] = attention_weights.numpy()\n",
    "\n",
    "    predicted_id = tf.argmax(predictions[0]).numpy()\n",
    "\n",
    "    result += target_stmts_tokenizer.index_word[predicted_id] + ' '\n",
    "\n",
    "    if target_stmts_tokenizer.index_word[predicted_id] == '_end':\n",
    "      return result[:-6], sentence, attention_plot\n",
    "\n",
    "    input = tf.expand_dims([predicted_id], 0)\n",
    "\n",
    "  return result[:-6], sentence, attention_plot"
   ]
  },
  {
   "cell_type": "code",
   "execution_count": null,
   "id": "ef76e4ad",
   "metadata": {
    "id": "ef76e4ad"
   },
   "outputs": [],
   "source": [
    "#Plot\n",
    "def Plotatt(attention, sentence, predicted_sentence):\n",
    "  fig = plt.figure(figsize=(10,10))\n",
    "  ax = fig.add_subplot(1, 1, 1)\n",
    "  ax.matshow(attention, cmap='viridis')\n",
    "  fontdict = {'fontsize': 16}\n",
    "  ax.set_xticklabels([''] + sentence, fontdict=fontdict, rotation=90)\n",
    "  ax.set_yticklabels([''] + predicted_sentence, fontdict=fontdict)\n",
    "\n",
    "  ax.xaxis.set_major_locator(ticker.MultipleLocator(1))\n",
    "  ax.yaxis.set_major_locator(ticker.MultipleLocator(1))\n",
    "\n",
    "  plt.show()"
   ]
  },
  {
   "cell_type": "code",
   "execution_count": null,
   "id": "2f8576ac",
   "metadata": {
    "id": "2f8576ac"
   },
   "outputs": [],
   "source": [
    "def translate(sentence):\n",
    "  result, sentence, att = evaluate(sentence)\n",
    "  \n",
    "  print('Input: %s' % (sentence))\n",
    "  print('Predicted translation: '+ result)\n",
    "\n",
    "  att = att[:len(result.split(' ')), :len(sentence.split(' '))]\n",
    "  Plotatt(att, sentence.split(' '), result.split(' '))\n",
    "  return result"
   ]
  },
  {
   "cell_type": "code",
   "execution_count": null,
   "id": "788577ce",
   "metadata": {
    "id": "788577ce",
    "outputId": "5e77cf32-ef22-4468-f61c-3d9e630ff033"
   },
   "outputs": [
    {
     "name": "stdout",
     "output_type": "stream",
     "text": [
      "Input: start_ im up . _end\n",
      "Predicted translation: estoy levantado .\n"
     ]
    },
    {
     "name": "stderr",
     "output_type": "stream",
     "text": [
      "/tmp/ipykernel_931094/3608462531.py:7: UserWarning: FixedFormatter should only be used together with FixedLocator\n",
      "  ax.set_xticklabels([''] + sentence, fontdict=fontdict, rotation=90)\n",
      "/tmp/ipykernel_931094/3608462531.py:8: UserWarning: FixedFormatter should only be used together with FixedLocator\n",
      "  ax.set_yticklabels([''] + predicted_sentence, fontdict=fontdict)\n"
     ]
    },
    {
     "data": {
      "image/png": "[encoded data removed]",
      "text/plain": [
       "<Figure size 720x720 with 1 Axes>"
      ]
     },
     "metadata": {
      "needs_background": "light"
     },
     "output_type": "display_data"
    }
   ],
   "source": [
    "translated = translate(u\"Im up.\")"
   ]
  },
  {
   "cell_type": "code",
   "execution_count": null,
   "id": "d3d7157c",
   "metadata": {
    "id": "d3d7157c",
    "outputId": "d165b4df-4f1d-457b-e132-eea184bdc2e6"
   },
   "outputs": [
    {
     "name": "stdout",
     "output_type": "stream",
     "text": [
      "Input: start_ this is a white dog . _end\n",
      "Predicted translation: este es un perro blanco .\n"
     ]
    },
    {
     "name": "stderr",
     "output_type": "stream",
     "text": [
      "/tmp/ipykernel_931094/3608462531.py:7: UserWarning: FixedFormatter should only be used together with FixedLocator\n",
      "  ax.set_xticklabels([''] + sentence, fontdict=fontdict, rotation=90)\n",
      "/tmp/ipykernel_931094/3608462531.py:8: UserWarning: FixedFormatter should only be used together with FixedLocator\n",
      "  ax.set_yticklabels([''] + predicted_sentence, fontdict=fontdict)\n"
     ]
    },
    {
     "data": {
      "image/png": "[encoded data removed]",
      "text/plain": [
       "<Figure size 720x720 with 1 Axes>"
      ]
     },
     "metadata": {
      "needs_background": "light"
     },
     "output_type": "display_data"
    },
    {
     "data": {
      "text/plain": [
       "'este es un perro blanco .'"
      ]
     },
     "execution_count": 47,
     "metadata": {},
     "output_type": "execute_result"
    }
   ],
   "source": [
    "translate(u\"This is a white dog.\")"
   ]
  },
  {
   "cell_type": "code",
   "execution_count": null,
   "id": "1d0fda13",
   "metadata": {
    "id": "1d0fda13",
    "outputId": "31d2a843-80f8-4c34-f6b2-d7b152bf523d"
   },
   "outputs": [
    {
     "name": "stdout",
     "output_type": "stream",
     "text": [
      "Input: start_ tell me when you reach home . _end\n",
      "Predicted translation: dime cuándo te golpeó en casa .\n"
     ]
    },
    {
     "name": "stderr",
     "output_type": "stream",
     "text": [
      "/tmp/ipykernel_931094/3608462531.py:7: UserWarning: FixedFormatter should only be used together with FixedLocator\n",
      "  ax.set_xticklabels([''] + sentence, fontdict=fontdict, rotation=90)\n",
      "/tmp/ipykernel_931094/3608462531.py:8: UserWarning: FixedFormatter should only be used together with FixedLocator\n",
      "  ax.set_yticklabels([''] + predicted_sentence, fontdict=fontdict)\n"
     ]
    },
    {
     "data": {
      "image/png": "[encoded data removed]",
      "text/plain": [
       "<Figure size 720x720 with 1 Axes>"
      ]
     },
     "metadata": {
      "needs_background": "light"
     },
     "output_type": "display_data"
    },
    {
     "data": {
      "text/plain": [
       "'dime cuándo te golpeó en casa .'"
      ]
     },
     "execution_count": 53,
     "metadata": {},
     "output_type": "execute_result"
    }
   ],
   "source": [
    "translate(u\"Tell me when you reach home.\")"
   ]
  },
  {
   "cell_type": "code",
   "execution_count": null,
   "id": "3be99c9d",
   "metadata": {
    "id": "3be99c9d"
   },
   "outputs": [],
   "source": []
  }
 ],
 "metadata": {
  "colab": {
   "provenance": []
  },
  "kernelspec": {
   "display_name": "Python 3 (ipykernel)",
   "language": "python",
   "name": "python3"
  },
  "language_info": {
   "codemirror_mode": {
    "name": "ipython",
    "version": 3
   },
   "file_extension": ".py",
   "mimetype": "text/x-python",
   "name": "python",
   "nbconvert_exporter": "python",
   "pygments_lexer": "ipython3",
   "version": "3.10.9"
  }
 },
 "nbformat": 4,
 "nbformat_minor": 5
}
